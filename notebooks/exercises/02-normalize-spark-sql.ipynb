{
 "cells": [
  {
   "cell_type": "code",
   "execution_count": null,
   "id": "ceda41ef",
   "metadata": {},
   "outputs": [],
   "source": [
    "spark"
   ]
  },
  {
   "cell_type": "markdown",
   "id": "9a52686a",
   "metadata": {},
   "source": [
    "## Convert column name to convention\n",
    "\n",
    "It is possible that there are variety of naming columns or fields of raw data, however we should have a common convention for our data in datalake so that data users can use it with intuition and no confusion.\n",
    "\n",
    "As our tables in raw have coluns in `camel-casing` convention, but we need `snake-casing` in our datalake.\n",
    "\n",
    "![Data Models](https://www.mysqltutorial.org/wp-content/uploads/2009/12/MySQL-Sample-Database-Schema.png)"
   ]
  },
  {
   "cell_type": "markdown",
   "id": "a5e00e52",
   "metadata": {},
   "source": [
    "For an example, `productlines` need to change columns as following:\n",
    "\n",
    "- `productLine` changed to `product_line`\n",
    "- `textDescription` chagned to `text_description`\n",
    "- `htmlDescription` changed to `html_description`\n",
    "- `image` nothing to change\n",
    "\n",
    "We need to transform column names and store all tranformed models in: `s3a://datalake/exercises/bronze/classicmodels/<table>.parquet`"
   ]
  },
  {
   "cell_type": "code",
   "execution_count": null,
   "id": "c93ebc5b",
   "metadata": {},
   "outputs": [],
   "source": [
    "def camel2snake(name):\n",
    "    \"\"\"Convert from camel-case to snake-case\"\"\"\n",
    "    result = []\n",
    "    for x, y in zip(name[:-1], name[1:]):\n",
    "        result.append(x.lower())\n",
    "        if x.islower() and (y.isupper() or y.isdigit()):\n",
    "            result.append(\"_\")\n",
    "    result.append(y.lower())\n",
    "    return \"\".join(result)"
   ]
  },
  {
   "cell_type": "markdown",
   "id": "72d04303",
   "metadata": {},
   "source": [
    "## Productlines"
   ]
  },
  {
   "cell_type": "code",
   "execution_count": null,
   "id": "9a3a2746",
   "metadata": {},
   "outputs": [],
   "source": [
    "# CODE HERE"
   ]
  },
  {
   "cell_type": "code",
   "execution_count": null,
   "id": "4207442b",
   "metadata": {},
   "outputs": [],
   "source": [
    "df = spark.read.format(\"parquet\").load(\"s3a://datalake/exercises/bronze/classicmodels/productlines.parquet\")\n",
    "\n",
    "assert sorted(df.columns) == ['html_description', 'image', 'product_line', 'text_description']"
   ]
  },
  {
   "cell_type": "markdown",
   "id": "f5ca3d79",
   "metadata": {},
   "source": [
    "## Products"
   ]
  },
  {
   "cell_type": "code",
   "execution_count": null,
   "id": "59157c09",
   "metadata": {},
   "outputs": [],
   "source": [
    "# CODE HERE"
   ]
  },
  {
   "cell_type": "code",
   "execution_count": null,
   "id": "fd347a68",
   "metadata": {},
   "outputs": [],
   "source": [
    "df = spark.read.format(\"parquet\").load(\"s3a://datalake/exercises/bronze/classicmodels/products.parquet\")\n",
    "\n",
    "assert sorted(df.columns) == ['buy_price', 'msrp', 'product_code',\n",
    "                              'product_description', 'product_line', 'product_name',\n",
    "                              'product_scale', 'product_vendor', 'quantity_in_stock']"
   ]
  },
  {
   "cell_type": "markdown",
   "id": "a1d30550",
   "metadata": {},
   "source": [
    "## Employees"
   ]
  },
  {
   "cell_type": "code",
   "execution_count": null,
   "id": "e25fa36b",
   "metadata": {},
   "outputs": [],
   "source": [
    "# CODE HERE"
   ]
  },
  {
   "cell_type": "code",
   "execution_count": null,
   "id": "83bb8328",
   "metadata": {},
   "outputs": [],
   "source": [
    "df = spark.read.format(\"parquet\").load(\"s3a://datalake/exercises/bronze/classicmodels/employees.parquet\")\n",
    "\n",
    "assert sorted(df.columns) == ['email', 'employee_number', 'extension',\n",
    "                              'first_name', 'job_title', 'last_name',\n",
    "                              'office_code', 'reports_to']"
   ]
  },
  {
   "cell_type": "markdown",
   "id": "6856a5c1",
   "metadata": {},
   "source": [
    "## Offices"
   ]
  },
  {
   "cell_type": "code",
   "execution_count": null,
   "id": "88f899cb",
   "metadata": {},
   "outputs": [],
   "source": [
    "# CODE HERE"
   ]
  },
  {
   "cell_type": "code",
   "execution_count": null,
   "id": "c3c9a049",
   "metadata": {},
   "outputs": [],
   "source": [
    "df = spark.read.format(\"parquet\").load(\"s3a://datalake/exercises/bronze/classicmodels/offices.parquet\")\n",
    "\n",
    "assert sorted(df.columns) == ['address_line_1', 'address_line_2', 'city',\n",
    "                              'country', 'office_code', 'phone',\n",
    "                              'postal_code', 'state', 'territory']"
   ]
  },
  {
   "cell_type": "markdown",
   "id": "e4491128",
   "metadata": {},
   "source": [
    "## Customers"
   ]
  },
  {
   "cell_type": "code",
   "execution_count": null,
   "id": "2d06062b",
   "metadata": {},
   "outputs": [],
   "source": [
    "# CODE HERE"
   ]
  },
  {
   "cell_type": "code",
   "execution_count": null,
   "id": "bd44a075",
   "metadata": {},
   "outputs": [],
   "source": [
    "df = spark.read.format(\"parquet\").load(\"s3a://datalake/exercises/bronze/classicmodels/customers.parquet\")\n",
    "\n",
    "assert sorted(df.columns) == ['address_line_1', 'address_line_2', 'city',\n",
    "                              'contact_first_name', 'contact_last_name', 'country',\n",
    "                              'credit_limit', 'customer_name', 'customer_number',\n",
    "                              'phone', 'postal_code', 'sales_rep_employee_number',\n",
    "                              'state']"
   ]
  },
  {
   "cell_type": "markdown",
   "id": "41399035",
   "metadata": {},
   "source": [
    "## Payments"
   ]
  },
  {
   "cell_type": "code",
   "execution_count": null,
   "id": "94c59d87",
   "metadata": {},
   "outputs": [],
   "source": [
    "# CODE HERE"
   ]
  },
  {
   "cell_type": "code",
   "execution_count": null,
   "id": "2d12e820",
   "metadata": {},
   "outputs": [],
   "source": [
    "df = spark.read.format(\"parquet\").load(\"s3a://datalake/exercises/bronze/classicmodels/payments.parquet\")\n",
    "\n",
    "assert sorted(df.columns) == ['amount', 'check_number', 'customer_number', 'payment_date']"
   ]
  },
  {
   "cell_type": "markdown",
   "id": "2a6a28e2",
   "metadata": {},
   "source": [
    "## Orders"
   ]
  },
  {
   "cell_type": "code",
   "execution_count": null,
   "id": "41ce3c61",
   "metadata": {},
   "outputs": [],
   "source": [
    "# CODE HERE"
   ]
  },
  {
   "cell_type": "code",
   "execution_count": null,
   "id": "d5d2575b",
   "metadata": {},
   "outputs": [],
   "source": [
    "df = spark.read.format(\"parquet\").load(\"s3a://datalake/exercises/bronze/classicmodels/orders.parquet\")\n",
    "\n",
    "assert sorted(df.columns) == ['comments', 'customer_number', 'order_date',\n",
    "                              'order_number', 'required_date', 'shipped_date',\n",
    "                              'status']"
   ]
  },
  {
   "cell_type": "markdown",
   "id": "892c1660",
   "metadata": {},
   "source": [
    "## Orderdetails"
   ]
  },
  {
   "cell_type": "code",
   "execution_count": null,
   "id": "d2ac3ccf",
   "metadata": {},
   "outputs": [],
   "source": [
    "# CODE HERE"
   ]
  },
  {
   "cell_type": "code",
   "execution_count": null,
   "id": "842b5945",
   "metadata": {},
   "outputs": [],
   "source": [
    "df = spark.read.format(\"parquet\").load(\"s3a://datalake/exercises/bronze/classicmodels/orderdetails.parquet\")\n",
    "\n",
    "assert sorted(df.columns) == ['order_line_number', 'order_number', 'price_each', 'product_code', 'quantity_ordered']"
   ]
  }
 ],
 "metadata": {
  "kernelspec": {
   "display_name": "PySpark",
   "language": "python",
   "name": "pysparkkernel"
  },
  "language_info": {
   "codemirror_mode": {
    "name": "python",
    "version": 3
   },
   "file_extension": ".py",
   "mimetype": "text/x-python",
   "name": "pyspark",
   "pygments_lexer": "python3"
  }
 },
 "nbformat": 4,
 "nbformat_minor": 5
}
