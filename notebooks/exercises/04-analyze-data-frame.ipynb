{
 "cells": [
  {
   "cell_type": "code",
   "execution_count": null,
   "id": "a202115f",
   "metadata": {},
   "outputs": [],
   "source": [
    "spark"
   ]
  },
  {
   "cell_type": "markdown",
   "id": "cc4040a1",
   "metadata": {},
   "source": [
    "# Explore data models"
   ]
  },
  {
   "cell_type": "markdown",
   "id": "796d82a0",
   "metadata": {},
   "source": [
    "As from the data models, we will try to analyze the insight from the data using Spark Data Frame API.\n",
    "\n",
    "![Data Models](https://www.mysqltutorial.org/wp-content/uploads/2009/12/MySQL-Sample-Database-Schema.png)"
   ]
  },
  {
   "cell_type": "markdown",
   "id": "e7502497",
   "metadata": {},
   "source": [
    "# Problems to analyze"
   ]
  },
  {
   "cell_type": "markdown",
   "id": "b923470c",
   "metadata": {},
   "source": [
    "### Customer with the highest credit limit"
   ]
  },
  {
   "cell_type": "code",
   "execution_count": null,
   "id": "2460862d",
   "metadata": {},
   "outputs": [],
   "source": [
    "# CODE HERE"
   ]
  },
  {
   "cell_type": "markdown",
   "id": "832d7eaa",
   "metadata": {},
   "source": [
    "### Customers with the highest spending in year"
   ]
  },
  {
   "cell_type": "code",
   "execution_count": null,
   "id": "540960c1",
   "metadata": {},
   "outputs": [],
   "source": [
    "# CODE HERE"
   ]
  },
  {
   "cell_type": "markdown",
   "id": "12be0b67",
   "metadata": {},
   "source": [
    "### Customer with the highest spending in month"
   ]
  },
  {
   "cell_type": "code",
   "execution_count": null,
   "id": "18d9cbfa",
   "metadata": {},
   "outputs": [],
   "source": [
    "# CODE HERE"
   ]
  },
  {
   "cell_type": "markdown",
   "id": "2f7887df",
   "metadata": {},
   "source": [
    "### Customer with the highest spending in all time"
   ]
  },
  {
   "cell_type": "code",
   "execution_count": null,
   "id": "f595986e",
   "metadata": {},
   "outputs": [],
   "source": [
    "# CODE HERE"
   ]
  },
  {
   "cell_type": "markdown",
   "id": "6f014da3",
   "metadata": {},
   "source": [
    "### Average customer spending"
   ]
  },
  {
   "cell_type": "code",
   "execution_count": null,
   "id": "01a4f7b2",
   "metadata": {},
   "outputs": [],
   "source": [
    "# CODE HERE"
   ]
  },
  {
   "cell_type": "markdown",
   "id": "bebd5f57",
   "metadata": {},
   "source": [
    "### Average customer spending in year"
   ]
  },
  {
   "cell_type": "code",
   "execution_count": null,
   "id": "2bd17ac7",
   "metadata": {},
   "outputs": [],
   "source": [
    "# CODE HERE"
   ]
  },
  {
   "cell_type": "markdown",
   "id": "3acf11dc",
   "metadata": {},
   "source": [
    "### The number of offices"
   ]
  },
  {
   "cell_type": "code",
   "execution_count": null,
   "id": "20b34d2b",
   "metadata": {},
   "outputs": [],
   "source": [
    "# CODE HERE"
   ]
  },
  {
   "cell_type": "markdown",
   "id": "1a03eabc",
   "metadata": {},
   "source": [
    "### The number of employees in offices"
   ]
  },
  {
   "cell_type": "code",
   "execution_count": null,
   "id": "26c55e76",
   "metadata": {},
   "outputs": [],
   "source": [
    "# CODE HERE"
   ]
  },
  {
   "cell_type": "markdown",
   "id": "4392d16d",
   "metadata": {},
   "source": [
    "#### Question: Is there an office without employees"
   ]
  },
  {
   "cell_type": "code",
   "execution_count": null,
   "id": "d8229395",
   "metadata": {},
   "outputs": [],
   "source": [
    "# CODE HERE"
   ]
  },
  {
   "cell_type": "markdown",
   "id": "22537a40",
   "metadata": {},
   "source": [
    "### Office with the highest number of employees"
   ]
  },
  {
   "cell_type": "code",
   "execution_count": null,
   "id": "64bbf23e",
   "metadata": {},
   "outputs": [],
   "source": [
    "# CODE HERE"
   ]
  },
  {
   "cell_type": "markdown",
   "id": "bedc47a6",
   "metadata": {},
   "source": [
    "### Product has the highest number of orders"
   ]
  },
  {
   "cell_type": "code",
   "execution_count": null,
   "id": "0a6f42f5",
   "metadata": {},
   "outputs": [],
   "source": [
    "# CODE HERE"
   ]
  },
  {
   "cell_type": "markdown",
   "id": "39f80090",
   "metadata": {},
   "source": [
    "### Product has the highest value in sale"
   ]
  },
  {
   "cell_type": "code",
   "execution_count": null,
   "id": "c50dad2d",
   "metadata": {},
   "outputs": [],
   "source": [
    "# CODE HERE"
   ]
  }
 ],
 "metadata": {
  "kernelspec": {
   "display_name": "PySpark",
   "language": "python",
   "name": "pysparkkernel"
  },
  "language_info": {
   "codemirror_mode": {
    "name": "python",
    "version": 3
   },
   "file_extension": ".py",
   "mimetype": "text/x-python",
   "name": "pyspark",
   "pygments_lexer": "python3"
  }
 },
 "nbformat": 4,
 "nbformat_minor": 5
}
