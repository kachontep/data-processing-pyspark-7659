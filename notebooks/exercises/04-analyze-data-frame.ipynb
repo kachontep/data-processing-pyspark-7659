{
 "cells": [
  {
   "cell_type": "code",
   "execution_count": null,
   "id": "a202115f",
   "metadata": {},
   "outputs": [],
   "source": [
    "spark"
   ]
  },
  {
   "cell_type": "markdown",
   "id": "cc4040a1",
   "metadata": {},
   "source": [
    "## Explore data models"
   ]
  },
  {
   "cell_type": "markdown",
   "id": "a4d0392a",
   "metadata": {},
   "source": [
    "- ลูกค้า ที่ใช้จ่ายมากที่สุดในปีนั้น\n",
    "- ลูกค้า ที่ใช้จ่ายมากที่สุดในแต่ละเดือนของปีนั้น\n",
    "- ลูกค้า ที่ใช้จ่ายมากที่สุดตั้งแต่เริ่มดำเนินกิจการ\n",
    "\n",
    "- ลูกค้า ที่มีเครดิตสูงสุด\n",
    "- รายจ่ายเฉลี่ยของลูกค้าแต่ละคน\n",
    "- บริษัทมี office อยู่กี่แห่ง\n",
    "- บริษัทมี office ในประเทศไหนมากที่สุด\n",
    "- มี office ที่ไม่มีพนักงานมั้ย ? ถ้ามีคือที่ไหน\n",
    "- หาจำนวนพนักงานในแต่ละ office\n",
    "- office ไหนมีพนักงานมากที่สุด\n",
    "\n",
    "- product ไหนมีจำนวน order สูงสุด\n",
    "- product ไหนมียอดขายสูงสุด"
   ]
  }
 ],
 "metadata": {
  "kernelspec": {
   "display_name": "PySpark",
   "language": "python",
   "name": "pysparkkernel"
  },
  "language_info": {
   "codemirror_mode": {
    "name": "python",
    "version": 3
   },
   "file_extension": ".py",
   "mimetype": "text/x-python",
   "name": "pyspark",
   "pygments_lexer": "python3"
  }
 },
 "nbformat": 4,
 "nbformat_minor": 5
}
