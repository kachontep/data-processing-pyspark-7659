{
 "cells": [
  {
   "cell_type": "code",
   "execution_count": null,
   "id": "856cd68e",
   "metadata": {},
   "outputs": [],
   "source": [
    "spark"
   ]
  },
  {
   "cell_type": "markdown",
   "id": "f0425281",
   "metadata": {},
   "source": [
    "# OBT (One Big Table)\n",
    "\n",
    "For a large scale data processing, reducing joining among data models make processing easier. This **OBT** is quite a counter-intuitive design compared to **star schema**, but it is very useful. Further more about OBT [here](https://www.fivetran.com/blog/star-schema-vs-obt)\n",
    "\n",
    "In this labe we will make an OBT for `orders`, `orderdetails` and `products`.\n",
    "\n",
    "![Data Models](https://www.mysqltutorial.org/wp-content/uploads/2009/12/MySQL-Sample-Database-Schema.png)"
   ]
  },
  {
   "cell_type": "markdown",
   "id": "f5471395",
   "metadata": {},
   "source": [
    "## Load data for all related models"
   ]
  },
  {
   "cell_type": "code",
   "execution_count": null,
   "id": "d58c857d",
   "metadata": {},
   "outputs": [],
   "source": [
    "# CODE HERE"
   ]
  },
  {
   "cell_type": "markdown",
   "id": "0c6e47e9",
   "metadata": {},
   "source": [
    "## Join related models together"
   ]
  },
  {
   "cell_type": "code",
   "execution_count": null,
   "id": "fd7b5ced",
   "metadata": {},
   "outputs": [],
   "source": [
    "# CODE HERE"
   ]
  },
  {
   "cell_type": "markdown",
   "id": "463a0fb4",
   "metadata": {},
   "source": [
    "## Save OBT model to datalake\n",
    "\n",
    "The expected destination path is: `s3a://datalake/exercises/bronze/classicmodels/orderfulldetails.parquet`"
   ]
  },
  {
   "cell_type": "code",
   "execution_count": null,
   "id": "72ea1a94",
   "metadata": {},
   "outputs": [],
   "source": [
    "# CODE HERE"
   ]
  },
  {
   "cell_type": "code",
   "execution_count": null,
   "id": "ce165e3d",
   "metadata": {},
   "outputs": [],
   "source": [
    "row_count = spark.read.format(\"parquet\").load(\"s3a://datalake/exercises/bronze/classicmodels/orderfulldetails.parquet\")\n",
    "\n",
    "assert row_count == 0, \"Orderfulldetails was not valid\""
   ]
  }
 ],
 "metadata": {
  "kernelspec": {
   "display_name": "PySpark",
   "language": "python",
   "name": "pysparkkernel"
  },
  "language_info": {
   "codemirror_mode": {
    "name": "python",
    "version": 3
   },
   "file_extension": ".py",
   "mimetype": "text/x-python",
   "name": "pyspark",
   "pygments_lexer": "python3"
  }
 },
 "nbformat": 4,
 "nbformat_minor": 5
}
