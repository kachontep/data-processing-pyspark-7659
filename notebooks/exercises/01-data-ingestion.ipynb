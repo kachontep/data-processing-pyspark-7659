{
 "cells": [
  {
   "cell_type": "markdown",
   "id": "5e8333a8",
   "metadata": {},
   "source": [
    "# Extract data from source to datalake"
   ]
  },
  {
   "cell_type": "markdown",
   "id": "fa78188a",
   "metadata": {},
   "source": [
    "In this exercise, we will extract data from datasource, which is MySQL server database called `classicmodels`, and load the extracted into datalake. We will process those data later exercises.\n",
    "\n",
    "![Data Model](https://www.mysqltutorial.org/wp-content/uploads/2009/12/MySQL-Sample-Database-Schema.png)"
   ]
  },
  {
   "cell_type": "markdown",
   "id": "f6b42d77",
   "metadata": {},
   "source": [
    "The extracted data should be located at `s3a://datalake/classicmodels/<table_name>.parquet`."
   ]
  },
  {
   "cell_type": "code",
   "execution_count": null,
   "id": "7cf0e14d",
   "metadata": {},
   "outputs": [],
   "source": [
    "from pyspark.sql import DataFrame\n",
    "\n",
    "def load_table_df(table_name) -> DataFrame:\n",
    "    return (\n",
    "        spark\n",
    "            .read\n",
    "            .format(\"jdbc\")\n",
    "            .option(\"driver\", \"com.mysql.jdbc.Driver\")\n",
    "            .option(\"url\", \"jdbc:mysql://localhost/classicmodels\")\n",
    "            .option(\"dbtable\", table_name)\n",
    "            .option(\"user\", \"root\")\n",
    "            .option(\"password\", \"\")\n",
    "            .load()\n",
    "    )"
   ]
  },
  {
   "cell_type": "markdown",
   "id": "53b57ba0",
   "metadata": {},
   "source": [
    "## productlines table"
   ]
  },
  {
   "cell_type": "code",
   "execution_count": null,
   "id": "3ba7f601",
   "metadata": {},
   "outputs": [],
   "source": [
    "# Code here"
   ]
  },
  {
   "cell_type": "code",
   "execution_count": null,
   "id": "0a9264d4",
   "metadata": {},
   "outputs": [],
   "source": [
    "row_count = spark.read.format(\"parquet\").load(\"s3a://datalake/exercises/classmodels/productlines.parquet\")"
   ]
  },
  {
   "cell_type": "code",
   "execution_count": null,
   "id": "737f093c",
   "metadata": {},
   "outputs": [],
   "source": [
    "assert row_count == 7, \"Productlines was not loaded complete\""
   ]
  },
  {
   "cell_type": "markdown",
   "id": "d63f3b5c",
   "metadata": {},
   "source": [
    "## products table"
   ]
  },
  {
   "cell_type": "code",
   "execution_count": null,
   "id": "9818b7e5",
   "metadata": {},
   "outputs": [],
   "source": [
    "# Code here"
   ]
  },
  {
   "cell_type": "code",
   "execution_count": null,
   "id": "e6a6c9be",
   "metadata": {},
   "outputs": [],
   "source": [
    "row_count = spark.read.format(\"parquet\").load(\"s3a://datalake/exercises/classmodels/products.parquet\")"
   ]
  },
  {
   "cell_type": "code",
   "execution_count": null,
   "id": "deac4304",
   "metadata": {},
   "outputs": [],
   "source": [
    "assert row_count == 110, \"Products was not loaded complete\""
   ]
  },
  {
   "cell_type": "markdown",
   "id": "d83a32e7",
   "metadata": {},
   "source": [
    "## offices table"
   ]
  },
  {
   "cell_type": "code",
   "execution_count": null,
   "id": "c5674acc",
   "metadata": {},
   "outputs": [],
   "source": [
    "# Code here"
   ]
  },
  {
   "cell_type": "code",
   "execution_count": null,
   "id": "bb3bf991",
   "metadata": {},
   "outputs": [],
   "source": [
    "row_count = spark.read.format(\"parquet\").load(\"s3a://datalake/exercises/classmodels/offices.parquet\")"
   ]
  },
  {
   "cell_type": "code",
   "execution_count": null,
   "id": "0680f5ff",
   "metadata": {},
   "outputs": [],
   "source": [
    "assert row_count == 7, \"Offices was not loaded complete\""
   ]
  },
  {
   "cell_type": "markdown",
   "id": "eabcc15d",
   "metadata": {},
   "source": [
    "## employees table"
   ]
  },
  {
   "cell_type": "code",
   "execution_count": null,
   "id": "c5cc93ed",
   "metadata": {},
   "outputs": [],
   "source": [
    "# Code here"
   ]
  },
  {
   "cell_type": "code",
   "execution_count": null,
   "id": "9314e2e4",
   "metadata": {},
   "outputs": [],
   "source": [
    "row_count = spark.read.format(\"parquet\").load(\"s3a://datalake/exercises/classmodels/employees.parquet\")"
   ]
  },
  {
   "cell_type": "code",
   "execution_count": null,
   "id": "e15dff5d",
   "metadata": {},
   "outputs": [],
   "source": [
    "assert row_count == 23, \"Employees was not loaded complete\""
   ]
  },
  {
   "cell_type": "markdown",
   "id": "2f0020bd",
   "metadata": {},
   "source": [
    "## customers table"
   ]
  },
  {
   "cell_type": "code",
   "execution_count": null,
   "id": "26c63694",
   "metadata": {},
   "outputs": [],
   "source": [
    "# Code here"
   ]
  },
  {
   "cell_type": "code",
   "execution_count": null,
   "id": "bcb66217",
   "metadata": {},
   "outputs": [],
   "source": [
    "row_count = spark.read.format(\"parquet\").load(\"s3a://datalake/exercises/classmodels/customers.parquet\")"
   ]
  },
  {
   "cell_type": "code",
   "execution_count": null,
   "id": "031222d4",
   "metadata": {},
   "outputs": [],
   "source": [
    "assert row_count == 23, \"Employees was not loaded complete\""
   ]
  },
  {
   "cell_type": "markdown",
   "id": "e5fc223e",
   "metadata": {},
   "source": [
    "## payments table"
   ]
  },
  {
   "cell_type": "code",
   "execution_count": null,
   "id": "8740375c",
   "metadata": {},
   "outputs": [],
   "source": [
    "# Code here"
   ]
  },
  {
   "cell_type": "code",
   "execution_count": null,
   "id": "c69792f0",
   "metadata": {},
   "outputs": [],
   "source": [
    "row_count = spark.read.format(\"parquet\").load(\"s3a://datalake/exercises/classmodels/payments.parquet\")"
   ]
  },
  {
   "cell_type": "code",
   "execution_count": null,
   "id": "05242cda",
   "metadata": {},
   "outputs": [],
   "source": [
    "assert row_count == 273, \"Employees was not loaded complete\""
   ]
  },
  {
   "cell_type": "markdown",
   "id": "1cf8f61d",
   "metadata": {},
   "source": [
    "## orders table"
   ]
  },
  {
   "cell_type": "code",
   "execution_count": null,
   "id": "fe8134f9",
   "metadata": {},
   "outputs": [],
   "source": [
    "# Code here"
   ]
  },
  {
   "cell_type": "code",
   "execution_count": null,
   "id": "7841e2f5",
   "metadata": {},
   "outputs": [],
   "source": [
    "row_count = spark.read.format(\"parquet\").load(\"s3a://datalake/exercises/classmodels/orders.parquet\")"
   ]
  },
  {
   "cell_type": "code",
   "execution_count": null,
   "id": "a8525a2a",
   "metadata": {},
   "outputs": [],
   "source": [
    "assert row_count == 273, \"Employees was not loaded complete\""
   ]
  },
  {
   "cell_type": "markdown",
   "id": "22b32164",
   "metadata": {},
   "source": [
    "## orderdetails table"
   ]
  },
  {
   "cell_type": "code",
   "execution_count": null,
   "id": "79b12938",
   "metadata": {},
   "outputs": [],
   "source": [
    "# Code here"
   ]
  },
  {
   "cell_type": "code",
   "execution_count": null,
   "id": "dcd93b06",
   "metadata": {},
   "outputs": [],
   "source": [
    "row_count = spark.read.format(\"parquet\").load(\"s3a://datalake/exercises/classmodels/orderdetails.parquet\")"
   ]
  },
  {
   "cell_type": "code",
   "execution_count": null,
   "id": "5e1e32ba",
   "metadata": {},
   "outputs": [],
   "source": [
    "assert row_count == 273, \"Employees was not loaded complete\""
   ]
  }
 ],
 "metadata": {
  "kernelspec": {
   "display_name": "PySpark",
   "language": "python",
   "name": "pysparkkernel"
  },
  "language_info": {
   "codemirror_mode": {
    "name": "python",
    "version": 3
   },
   "file_extension": ".py",
   "mimetype": "text/x-python",
   "name": "pyspark",
   "pygments_lexer": "python3"
  }
 },
 "nbformat": 4,
 "nbformat_minor": 5
}
