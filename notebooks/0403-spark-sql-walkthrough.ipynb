{
 "cells": [
  {
   "cell_type": "markdown",
   "id": "b7dd217d",
   "metadata": {},
   "source": [
    "# Spark SQL statements"
   ]
  },
  {
   "cell_type": "code",
   "execution_count": null,
   "id": "ab241783",
   "metadata": {},
   "outputs": [],
   "source": [
    "%%configure\n",
    "{\n",
    "    \"driverMemory\": \"1000M\",\n",
    "    \"executorCores\": 1,\n",
    "    \"conf\": {\n",
    "        \"spark.sql.extensions\": \"org.apache.iceberg.spark.extensions.IcebergSparkSessionExtensions\",\n",
    "        \"spark.sql.catalog.iceberg\": \"org.apache.iceberg.spark.SparkCatalog\",\n",
    "        \"spark.sql.catalog.iceberg.catalog-impl\": \"org.apache.iceberg.jdbc.JdbcCatalog\",\n",
    "        \"spark.sql.catalog.iceberg.warehouse\": \"s3://datalake/warehouse/\",\n",
    "        \"spark.sql.catalog.iceberg.io-impl\": \"org.apache.iceberg.aws.s3.S3FileIO\",\n",
    "        \"spark.sql.catalog.iceberg.s3.endpoint\": \"http://127.0.0.1:9000\",\n",
    "        \"spark.sql.catalog.iceberg.uri\": \"jdbc:mysql://localhost/iceberg\",\n",
    "        \"spark.sql.catalog.iceberg.jdbc.user\": \"root\",\n",
    "        \"spark.sql.catalog.iceberg.jdbc.password\": \"\",\n",
    "        \"spark.sql.catalog.iceberg.jdbc.useSSL\": \"false\",\n",
    "        \"spark.sql.defaultCatalog\": \"iceberg\"\n",
    "    }\n",
    "}"
   ]
  },
  {
   "cell_type": "markdown",
   "id": "36fb59c0",
   "metadata": {},
   "source": [
    "In order to apply changes in configuration, we must start to create a `SparkSession` afterward."
   ]
  },
  {
   "cell_type": "code",
   "execution_count": null,
   "id": "24d2e111",
   "metadata": {},
   "outputs": [],
   "source": [
    "spark"
   ]
  },
  {
   "cell_type": "markdown",
   "id": "5c21707c",
   "metadata": {},
   "source": [
    "Check if `mydb.employees` table still exists in external catalog system."
   ]
  },
  {
   "cell_type": "code",
   "execution_count": null,
   "id": "61974303",
   "metadata": {},
   "outputs": [],
   "source": [
    "%%sql\n",
    "\n",
    "show tables in mydb like 'employees'"
   ]
  },
  {
   "cell_type": "code",
   "execution_count": null,
   "id": "53f74b3f",
   "metadata": {},
   "outputs": [],
   "source": [
    "%%sql\n",
    "\n",
    "describe mydb.employees"
   ]
  },
  {
   "cell_type": "markdown",
   "id": "7dbed97e",
   "metadata": {},
   "source": [
    "## Select all"
   ]
  },
  {
   "cell_type": "code",
   "execution_count": null,
   "id": "94b52d43",
   "metadata": {},
   "outputs": [],
   "source": [
    "%%sql\n",
    "\n",
    "select * from mydb.employees"
   ]
  },
  {
   "cell_type": "markdown",
   "id": "80f2fe4b",
   "metadata": {},
   "source": [
    "## Projection"
   ]
  },
  {
   "cell_type": "code",
   "execution_count": null,
   "id": "e79f8eac",
   "metadata": {},
   "outputs": [],
   "source": [
    "%%sql\n",
    "\n",
    "select\n",
    "    employee_name,\n",
    "    age,\n",
    "    salary\n",
    "    \n",
    "from mydb.employees"
   ]
  },
  {
   "cell_type": "markdown",
   "id": "ae48ae72",
   "metadata": {},
   "source": [
    "We can do cast type, expression and aliasing column."
   ]
  },
  {
   "cell_type": "code",
   "execution_count": null,
   "id": "124ce6bc",
   "metadata": {},
   "outputs": [],
   "source": [
    "%%sql\n",
    "\n",
    "select\n",
    "    employee_name,\n",
    "    age,\n",
    "    salary,\n",
    "    cast(salary as decimal) * 0.27 as tax\n",
    "    \n",
    "from mydb.employees"
   ]
  },
  {
   "cell_type": "markdown",
   "id": "faaa7bdc",
   "metadata": {},
   "source": [
    "## Filter"
   ]
  },
  {
   "cell_type": "code",
   "execution_count": null,
   "id": "fe302c9e",
   "metadata": {},
   "outputs": [],
   "source": [
    "%%sql\n",
    "\n",
    "select\n",
    "    *\n",
    "    \n",
    "from mydb.employees\n",
    "where state = 'NY'"
   ]
  },
  {
   "cell_type": "markdown",
   "id": "ce5ce149",
   "metadata": {},
   "source": [
    "## Limit"
   ]
  },
  {
   "cell_type": "code",
   "execution_count": null,
   "id": "be892912",
   "metadata": {},
   "outputs": [],
   "source": [
    "%%sql\n",
    "\n",
    "select\n",
    "    *\n",
    "    \n",
    "from mydb.employees\n",
    "where state = 'NY'\n",
    "limit 3"
   ]
  },
  {
   "cell_type": "markdown",
   "id": "64b5a5f9",
   "metadata": {},
   "source": [
    "## Order by"
   ]
  },
  {
   "cell_type": "code",
   "execution_count": null,
   "id": "940a25b4",
   "metadata": {},
   "outputs": [],
   "source": [
    "%%sql\n",
    "\n",
    "select\n",
    "    *\n",
    "    \n",
    "from mydb.employees\n",
    "where state = 'NY'\n",
    "order by salary desc\n",
    "limit 3"
   ]
  },
  {
   "cell_type": "markdown",
   "id": "6e8d6979",
   "metadata": {},
   "source": [
    "## Group by"
   ]
  },
  {
   "cell_type": "code",
   "execution_count": null,
   "id": "9e6c0723",
   "metadata": {},
   "outputs": [],
   "source": [
    "%%sql\n",
    "\n",
    "select\n",
    "    department,\n",
    "    sum(salary)\n",
    "    \n",
    "from mydb.employees\n",
    "group by department"
   ]
  },
  {
   "cell_type": "code",
   "execution_count": null,
   "id": "4f0bd3d2",
   "metadata": {},
   "outputs": [],
   "source": [
    "%%sql\n",
    "\n",
    "select\n",
    "    sum(salary) as sum_salary,\n",
    "    avg(salary) as avg_salary,\n",
    "    sum(bonus) as sum_bonus,\n",
    "    max(bonus) as max_bonus\n",
    "    \n",
    "from mydb.employees\n",
    "group by department"
   ]
  },
  {
   "cell_type": "markdown",
   "id": "16687230",
   "metadata": {},
   "source": [
    "## Group by and Having"
   ]
  },
  {
   "cell_type": "code",
   "execution_count": null,
   "id": "d507ecf7",
   "metadata": {},
   "outputs": [],
   "source": [
    "%%sql\n",
    "\n",
    "select\n",
    "    sum(salary) as sum_salary,\n",
    "    avg(salary) as avg_salary,\n",
    "    sum(bonus) as sum_bonus,\n",
    "    max(bonus) as max_bonus\n",
    "    \n",
    "from mydb.employees\n",
    "group by department\n",
    "having sum_bonus > 50000"
   ]
  },
  {
   "cell_type": "markdown",
   "id": "b98e78be",
   "metadata": {},
   "source": [
    "## Group by and Order by"
   ]
  },
  {
   "cell_type": "code",
   "execution_count": null,
   "id": "282c0464",
   "metadata": {},
   "outputs": [],
   "source": [
    "%%sql\n",
    "\n",
    "select\n",
    "    department,\n",
    "    sum(salary) as sum_salary\n",
    "    \n",
    "from mydb.employees\n",
    "group by department\n",
    "order by sum_salary desc"
   ]
  },
  {
   "cell_type": "markdown",
   "id": "6a858ce6",
   "metadata": {},
   "source": [
    "## Temporary view"
   ]
  },
  {
   "cell_type": "code",
   "execution_count": null,
   "id": "5cb202d1",
   "metadata": {},
   "outputs": [],
   "source": [
    "%%sql\n",
    "\n",
    "create or replace temporary view high_salary_employees\n",
    "\n",
    "as\n",
    "\n",
    "select\n",
    "    *\n",
    "    \n",
    "from mydb.employees\n",
    "where salary > 80000"
   ]
  },
  {
   "cell_type": "code",
   "execution_count": null,
   "id": "18e46f38",
   "metadata": {},
   "outputs": [],
   "source": [
    "%%sql\n",
    "\n",
    "select * from high_salary_employees"
   ]
  },
  {
   "cell_type": "markdown",
   "id": "bf50605b",
   "metadata": {},
   "source": [
    "## Join"
   ]
  },
  {
   "cell_type": "code",
   "execution_count": null,
   "id": "b6825305",
   "metadata": {},
   "outputs": [],
   "source": [
    "%%sql\n",
    "\n",
    "create or replace temporary view employee_relation\n",
    "\n",
    "as \n",
    "\n",
    "select * from values\n",
    "    ('James', 'Michael'),\n",
    "    ('Robert', 'Michael'),\n",
    "    ('Maria', 'Jen'),\n",
    "    ('Raman', 'Jen'),\n",
    "    ('Scott', 'Jen'),\n",
    "    ('Jeff', 'Kumar') as data(employee_name, report_to)"
   ]
  },
  {
   "cell_type": "code",
   "execution_count": null,
   "id": "d8507262",
   "metadata": {},
   "outputs": [],
   "source": [
    "%%sql\n",
    "\n",
    "select * from employee_relation"
   ]
  },
  {
   "cell_type": "code",
   "execution_count": null,
   "id": "a10fa66f",
   "metadata": {},
   "outputs": [],
   "source": [
    "%%sql\n",
    "\n",
    "select\n",
    "    a.*,\n",
    "    b.report_to\n",
    "    \n",
    "from mydb.employees as a\n",
    "inner join employee_relation as b\n",
    "  on a.employee_name == b.employee_name"
   ]
  },
  {
   "cell_type": "code",
   "execution_count": null,
   "id": "e6e3463d",
   "metadata": {},
   "outputs": [],
   "source": [
    "%%sql\n",
    "\n",
    "select\n",
    "    a.*,\n",
    "    coalesce(b.report_to, b.report_to, 'Director')\n",
    "    \n",
    "from mydb.employees as a\n",
    "left join employee_relation as b\n",
    "  on a.employee_name == b.employee_name"
   ]
  },
  {
   "cell_type": "markdown",
   "id": "385b8d2a",
   "metadata": {},
   "source": [
    "## More about aggregate functions"
   ]
  },
  {
   "cell_type": "markdown",
   "id": "39c5b614",
   "metadata": {},
   "source": [
    "### collect_list"
   ]
  },
  {
   "cell_type": "code",
   "execution_count": null,
   "id": "9a0badcc",
   "metadata": {},
   "outputs": [],
   "source": [
    "%%sql\n",
    "\n",
    "select\n",
    "    collect_list(salary) as salaries\n",
    "    \n",
    "from mydb.employees"
   ]
  },
  {
   "cell_type": "code",
   "execution_count": null,
   "id": "de5db32f",
   "metadata": {},
   "outputs": [],
   "source": [
    "%%sql\n",
    "\n",
    "select\n",
    "    state,\n",
    "    collect_list(salary) as salaries\n",
    "    \n",
    "from mydb.employees\n",
    "group by state"
   ]
  },
  {
   "cell_type": "markdown",
   "id": "e059aa88",
   "metadata": {},
   "source": [
    "### collect_set"
   ]
  },
  {
   "cell_type": "code",
   "execution_count": null,
   "id": "a816def6",
   "metadata": {},
   "outputs": [],
   "source": [
    "%%sql\n",
    "\n",
    "select\n",
    "    state,\n",
    "    collect_list(department) as departments\n",
    "\n",
    "from mydb.employees\n",
    "group by state"
   ]
  },
  {
   "cell_type": "code",
   "execution_count": null,
   "id": "50a6f7e9",
   "metadata": {},
   "outputs": [],
   "source": [
    "%%sql\n",
    "\n",
    "select\n",
    "    state,\n",
    "    collect_set(department) as departments\n",
    "    \n",
    "from mydb.employees\n",
    "group by state"
   ]
  },
  {
   "cell_type": "markdown",
   "id": "096fdfec",
   "metadata": {},
   "source": [
    "More about SparkSQL function [https://spark.apache.org/docs/latest/api/sql/index.html](https://spark.apache.org/docs/latest/api/sql/index.html)"
   ]
  }
 ],
 "metadata": {
  "kernelspec": {
   "display_name": "PySpark",
   "language": "python",
   "name": "pysparkkernel"
  },
  "language_info": {
   "codemirror_mode": {
    "name": "python",
    "version": 3
   },
   "file_extension": ".py",
   "mimetype": "text/x-python",
   "name": "pyspark",
   "pygments_lexer": "python3"
  }
 },
 "nbformat": 4,
 "nbformat_minor": 5
}
