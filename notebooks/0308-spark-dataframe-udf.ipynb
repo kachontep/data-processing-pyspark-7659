{
 "cells": [
  {
   "cell_type": "markdown",
   "id": "d151063a",
   "metadata": {},
   "source": [
    "# Data Frame UDF (User Defined Function)\n"
   ]
  },
  {
   "cell_type": "code",
   "execution_count": null,
   "id": "ba71a2ea",
   "metadata": {},
   "outputs": [],
   "source": [
    "from pyspark.sql import functions as F\n",
    "from pyspark.sql import types as T"
   ]
  },
  {
   "cell_type": "code",
   "execution_count": null,
   "id": "1fc78dc7",
   "metadata": {},
   "outputs": [],
   "source": [
    "columns = [\"Seqno\",\"Name\"]\n",
    "\n",
    "data = [\n",
    "    (\"1\", \"john jones\"),\n",
    "    (\"2\", \"tracey smith\"),\n",
    "    (\"3\", \"amy sanders\")\n",
    "]\n",
    "\n",
    "df = spark.createDataFrame(data=data,schema=columns)\n",
    "df.show(truncate=False)"
   ]
  },
  {
   "cell_type": "markdown",
   "id": "6b92c2cb",
   "metadata": {},
   "source": [
    "## convertCase"
   ]
  },
  {
   "cell_type": "code",
   "execution_count": null,
   "id": "b11dd5b6",
   "metadata": {},
   "outputs": [],
   "source": [
    "def convertCase(str):\n",
    "    resStr=\"\"\n",
    "    arr = str.split(\" \")\n",
    "    for x in arr:\n",
    "       resStr= resStr + x[0:1].upper() + x[1:len(x)] + \" \"\n",
    "    return resStr"
   ]
  },
  {
   "cell_type": "code",
   "execution_count": null,
   "id": "1abd2053",
   "metadata": {},
   "outputs": [],
   "source": [
    "\"\"\" Converting function to UDF \"\"\"\n",
    "convertUDF = F.udf(lambda z: convertCase(z))"
   ]
  },
  {
   "cell_type": "code",
   "execution_count": null,
   "id": "22d5d961",
   "metadata": {},
   "outputs": [],
   "source": [
    "df.select(\n",
    "    F.col(\"Seqno\"),\n",
    "    convertUDF(F.col(\"Name\")).alias(\"Name\"),\n",
    ").show(truncate=False)"
   ]
  },
  {
   "cell_type": "markdown",
   "id": "809e5684",
   "metadata": {},
   "source": [
    "## upperCase"
   ]
  },
  {
   "cell_type": "code",
   "execution_count": null,
   "id": "d06618bd",
   "metadata": {},
   "outputs": [],
   "source": [
    "@F.udf(returnType=T.StringType()) \n",
    "def upperCase(str):\n",
    "    return str.upper()\n",
    "\n",
    "upperCaseUDF = F.udf(lambda z:upperCase(z), T.StringType())    "
   ]
  },
  {
   "cell_type": "code",
   "execution_count": null,
   "id": "15d24bad",
   "metadata": {},
   "outputs": [],
   "source": [
    "(\n",
    "df.withColumn(\"Cureated Name\", upperCase(F.col(\"Name\")))\n",
    "  .show(truncate=False)\n",
    ")"
   ]
  }
 ],
 "metadata": {
  "kernelspec": {
   "display_name": "PySpark",
   "language": "python",
   "name": "pysparkkernel"
  },
  "language_info": {
   "codemirror_mode": {
    "name": "python",
    "version": 3
   },
   "file_extension": ".py",
   "mimetype": "text/x-python",
   "name": "pyspark",
   "pygments_lexer": "python3"
  }
 },
 "nbformat": 4,
 "nbformat_minor": 5
}
