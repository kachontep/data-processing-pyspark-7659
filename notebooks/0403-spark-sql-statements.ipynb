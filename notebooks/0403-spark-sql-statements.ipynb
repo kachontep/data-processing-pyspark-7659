{
 "cells": [
  {
   "cell_type": "markdown",
   "id": "b7dd217d",
   "metadata": {},
   "source": [
    "# Spark SQL statements"
   ]
  },
  {
   "cell_type": "code",
   "execution_count": 2,
   "id": "ab241783",
   "metadata": {},
   "outputs": [
    {
     "data": {
      "text/html": [
       "Current session configs: <tt>{'driverMemory': '1000M', 'executorCores': 1, 'conf': {'spark.jars.packages': 'org.apache.iceberg:iceberg-spark-runtime-3.2_2.12:1.3.0,software.amazon.awssdk:bundle:2.18.41,software.amazon.awssdk:url-connection-client:2.18.41,software.amazon.awssdk:utils:2.18.41', 'spark.sql.extensions': 'org.apache.iceberg.spark.extensions.IcebergSparkSessionExtensions', 'spark.sql.catalog.iceberg': 'org.apache.iceberg.spark.SparkCatalog', 'spark.sql.catalog.iceberg.catalog-impl': 'org.apache.iceberg.jdbc.JdbcCatalog', 'spark.sql.catalog.iceberg.warehouse': 's3a://datalake/warehouse/', 'spark.sql.catalog.iceberg.io-impl': 'org.apache.iceberg.aws.s3.S3FileIO', 'spark.sql.catalog.iceberg.s3.endpoint': 'http://127.0.0.1:9000', 'spark.sql.catalog.iceberg.uri': 'jdbc:mysql://localhost/iceberg', 'spark.sql.catalog.iceberg.jdbc.user': 'root', 'spark.sql.catalog.iceberg.jdbc.password': '', 'spark.sql.catalog.iceberg.jdbc.useSSL': 'false', 'spark.sql.defaultCatalog': 'iceberg'}, 'kind': 'pyspark'}</tt><br>"
      ],
      "text/plain": [
       "<IPython.core.display.HTML object>"
      ]
     },
     "metadata": {},
     "output_type": "display_data"
    },
    {
     "data": {
      "text/html": [
       "No active sessions."
      ],
      "text/plain": [
       "<IPython.core.display.HTML object>"
      ]
     },
     "metadata": {},
     "output_type": "display_data"
    }
   ],
   "source": [
    "%%configure\n",
    "{\n",
    "    \"driverMemory\": \"1000M\",\n",
    "    \"executorCores\": 1,\n",
    "    \"conf\": {\n",
    "        \"spark.jars.packages\": \"org.apache.iceberg:iceberg-spark-runtime-3.2_2.12:1.3.0,software.amazon.awssdk:bundle:2.18.41,software.amazon.awssdk:url-connection-client:2.18.41,software.amazon.awssdk:utils:2.18.41\",\n",
    "        \"spark.sql.extensions\": \"org.apache.iceberg.spark.extensions.IcebergSparkSessionExtensions\",\n",
    "        \"spark.sql.catalog.iceberg\": \"org.apache.iceberg.spark.SparkCatalog\",\n",
    "        \"spark.sql.catalog.iceberg.catalog-impl\": \"org.apache.iceberg.jdbc.JdbcCatalog\",\n",
    "        \"spark.sql.catalog.iceberg.warehouse\": \"s3a://datalake/warehouse/\",\n",
    "        \"spark.sql.catalog.iceberg.io-impl\": \"org.apache.iceberg.aws.s3.S3FileIO\",\n",
    "        \"spark.sql.catalog.iceberg.s3.endpoint\": \"http://127.0.0.1:9000\",\n",
    "        \"spark.sql.catalog.iceberg.uri\": \"jdbc:mysql://localhost/iceberg\",\n",
    "        \"spark.sql.catalog.iceberg.jdbc.user\": \"root\",\n",
    "        \"spark.sql.catalog.iceberg.jdbc.password\": \"\",\n",
    "        \"spark.sql.catalog.iceberg.jdbc.useSSL\": \"false\",\n",
    "        \"spark.sql.defaultCatalog\": \"iceberg\"\n",
    "    }\n",
    "}"
   ]
  },
  {
   "cell_type": "code",
   "execution_count": 3,
   "id": "24d2e111",
   "metadata": {},
   "outputs": [
    {
     "name": "stdout",
     "output_type": "stream",
     "text": [
      "Starting Spark application\n"
     ]
    },
    {
     "data": {
      "text/html": [
       "<table>\n",
       "<tr><th>ID</th><th>YARN Application ID</th><th>Kind</th><th>State</th><th>Spark UI</th><th>Driver log</th><th>User</th><th>Current session?</th></tr><tr><td>9</td><td>None</td><td>pyspark</td><td>idle</td><td></td><td></td><td>None</td><td>✔</td></tr></table>"
      ],
      "text/plain": [
       "<IPython.core.display.HTML object>"
      ]
     },
     "metadata": {},
     "output_type": "display_data"
    },
    {
     "data": {
      "application/vnd.jupyter.widget-view+json": {
       "model_id": "",
       "version_major": 2,
       "version_minor": 0
      },
      "text/plain": [
       "FloatProgress(value=0.0, bar_style='info', description='Progress:', layout=Layout(height='25px', width='50%'),…"
      ]
     },
     "metadata": {},
     "output_type": "display_data"
    },
    {
     "name": "stdout",
     "output_type": "stream",
     "text": [
      "SparkSession available as 'spark'.\n"
     ]
    },
    {
     "data": {
      "application/vnd.jupyter.widget-view+json": {
       "model_id": "",
       "version_major": 2,
       "version_minor": 0
      },
      "text/plain": [
       "FloatProgress(value=0.0, bar_style='info', description='Progress:', layout=Layout(height='25px', width='50%'),…"
      ]
     },
     "metadata": {},
     "output_type": "display_data"
    },
    {
     "name": "stdout",
     "output_type": "stream",
     "text": [
      "<pyspark.sql.session.SparkSession object at 0x7fb49d92e080>"
     ]
    }
   ],
   "source": [
    "spark"
   ]
  },
  {
   "cell_type": "markdown",
   "id": "5c21707c",
   "metadata": {},
   "source": [
    "Check if `mydb.employees` table still exists in external catalog system."
   ]
  },
  {
   "cell_type": "code",
   "execution_count": 4,
   "id": "61974303",
   "metadata": {},
   "outputs": [
    {
     "data": {
      "application/vnd.jupyter.widget-view+json": {
       "model_id": "",
       "version_major": 2,
       "version_minor": 0
      },
      "text/plain": [
       "FloatProgress(value=0.0, bar_style='info', description='Progress:', layout=Layout(height='25px', width='50%'),…"
      ]
     },
     "metadata": {},
     "output_type": "display_data"
    },
    {
     "data": {
      "application/vnd.jupyter.widget-view+json": {
       "model_id": "39381d8403e9497bacaaf100d7cd4050",
       "version_major": 2,
       "version_minor": 0
      },
      "text/plain": [
       "VBox(children=(HBox(children=(HTML(value='Type:'), Button(description='Table', layout=Layout(width='70px'), st…"
      ]
     },
     "metadata": {},
     "output_type": "display_data"
    },
    {
     "data": {
      "application/vnd.jupyter.widget-view+json": {
       "model_id": "1df3718658c347c496e61dd15c25e7f0",
       "version_major": 2,
       "version_minor": 0
      },
      "text/plain": [
       "Output()"
      ]
     },
     "metadata": {},
     "output_type": "display_data"
    }
   ],
   "source": [
    "%%sql\n",
    "\n",
    "show tables in mydb like 'employees'"
   ]
  },
  {
   "cell_type": "code",
   "execution_count": 16,
   "id": "53f74b3f",
   "metadata": {},
   "outputs": [
    {
     "data": {
      "application/vnd.jupyter.widget-view+json": {
       "model_id": "",
       "version_major": 2,
       "version_minor": 0
      },
      "text/plain": [
       "FloatProgress(value=0.0, bar_style='info', description='Progress:', layout=Layout(height='25px', width='50%'),…"
      ]
     },
     "metadata": {},
     "output_type": "display_data"
    },
    {
     "data": {
      "application/vnd.jupyter.widget-view+json": {
       "model_id": "dafcf0dbcf4b4aabb80ba21f556f40c4",
       "version_major": 2,
       "version_minor": 0
      },
      "text/plain": [
       "VBox(children=(HBox(children=(HTML(value='Type:'), Button(description='Table', layout=Layout(width='70px'), st…"
      ]
     },
     "metadata": {},
     "output_type": "display_data"
    },
    {
     "data": {
      "application/vnd.jupyter.widget-view+json": {
       "model_id": "7362207eec48483ca4db14df50b04e90",
       "version_major": 2,
       "version_minor": 0
      },
      "text/plain": [
       "Output()"
      ]
     },
     "metadata": {},
     "output_type": "display_data"
    }
   ],
   "source": [
    "%%sql\n",
    "\n",
    "describe mydb.employees"
   ]
  },
  {
   "cell_type": "markdown",
   "id": "80f2fe4b",
   "metadata": {},
   "source": [
    "## Column selection"
   ]
  },
  {
   "cell_type": "code",
   "execution_count": 17,
   "id": "e79f8eac",
   "metadata": {},
   "outputs": [
    {
     "data": {
      "application/vnd.jupyter.widget-view+json": {
       "model_id": "",
       "version_major": 2,
       "version_minor": 0
      },
      "text/plain": [
       "FloatProgress(value=0.0, bar_style='info', description='Progress:', layout=Layout(height='25px', width='50%'),…"
      ]
     },
     "metadata": {},
     "output_type": "display_data"
    },
    {
     "data": {
      "application/vnd.jupyter.widget-view+json": {
       "model_id": "5ebb4598163e4f308ccde7ded1bf3958",
       "version_major": 2,
       "version_minor": 0
      },
      "text/plain": [
       "VBox(children=(HBox(children=(HTML(value='Type:'), Button(description='Table', layout=Layout(width='70px'), st…"
      ]
     },
     "metadata": {},
     "output_type": "display_data"
    },
    {
     "data": {
      "application/vnd.jupyter.widget-view+json": {
       "model_id": "23c2f6cb1e6844fa8b120c9d21bfcc3d",
       "version_major": 2,
       "version_minor": 0
      },
      "text/plain": [
       "Output()"
      ]
     },
     "metadata": {},
     "output_type": "display_data"
    }
   ],
   "source": [
    "%%sql\n",
    "\n",
    "select\n",
    "    employee_name,\n",
    "    age,\n",
    "    salary\n",
    "    \n",
    "from mydb.employees"
   ]
  },
  {
   "cell_type": "markdown",
   "id": "b18483dd",
   "metadata": {},
   "source": [
    "## Cast, New Column, and Alias"
   ]
  },
  {
   "cell_type": "code",
   "execution_count": 21,
   "id": "124ce6bc",
   "metadata": {},
   "outputs": [
    {
     "data": {
      "application/vnd.jupyter.widget-view+json": {
       "model_id": "",
       "version_major": 2,
       "version_minor": 0
      },
      "text/plain": [
       "FloatProgress(value=0.0, bar_style='info', description='Progress:', layout=Layout(height='25px', width='50%'),…"
      ]
     },
     "metadata": {},
     "output_type": "display_data"
    },
    {
     "data": {
      "application/vnd.jupyter.widget-view+json": {
       "model_id": "6ec3e009af5b4cad9ab983b35412cf50",
       "version_major": 2,
       "version_minor": 0
      },
      "text/plain": [
       "VBox(children=(HBox(children=(HTML(value='Type:'), Button(description='Table', layout=Layout(width='70px'), st…"
      ]
     },
     "metadata": {},
     "output_type": "display_data"
    },
    {
     "data": {
      "application/vnd.jupyter.widget-view+json": {
       "model_id": "af6c10d905b34e69970a18ef94ffaecf",
       "version_major": 2,
       "version_minor": 0
      },
      "text/plain": [
       "Output()"
      ]
     },
     "metadata": {},
     "output_type": "display_data"
    }
   ],
   "source": [
    "%%sql\n",
    "\n",
    "select\n",
    "    employee_name,\n",
    "    age,\n",
    "    salary,\n",
    "    cast(salary as decimal) * 0.30 as tax\n",
    "    \n",
    "from mydb.employees"
   ]
  },
  {
   "cell_type": "markdown",
   "id": "faaa7bdc",
   "metadata": {},
   "source": [
    "## Filter, Limit and Order by"
   ]
  },
  {
   "cell_type": "code",
   "execution_count": 25,
   "id": "fe302c9e",
   "metadata": {},
   "outputs": [
    {
     "data": {
      "application/vnd.jupyter.widget-view+json": {
       "model_id": "",
       "version_major": 2,
       "version_minor": 0
      },
      "text/plain": [
       "FloatProgress(value=0.0, bar_style='info', description='Progress:', layout=Layout(height='25px', width='50%'),…"
      ]
     },
     "metadata": {},
     "output_type": "display_data"
    },
    {
     "data": {
      "application/vnd.jupyter.widget-view+json": {
       "model_id": "eee69df6c9f941a1b070c9164d09a614",
       "version_major": 2,
       "version_minor": 0
      },
      "text/plain": [
       "VBox(children=(HBox(children=(HTML(value='Type:'), Button(description='Table', layout=Layout(width='70px'), st…"
      ]
     },
     "metadata": {},
     "output_type": "display_data"
    },
    {
     "data": {
      "application/vnd.jupyter.widget-view+json": {
       "model_id": "1e2f131b64d34e049a952f57ab877792",
       "version_major": 2,
       "version_minor": 0
      },
      "text/plain": [
       "Output()"
      ]
     },
     "metadata": {},
     "output_type": "display_data"
    }
   ],
   "source": [
    "%%sql\n",
    "\n",
    "select\n",
    "    *\n",
    "    \n",
    "from mydb.employees\n",
    "where state = 'NY'\n",
    "order by salary desc\n",
    "limit 3"
   ]
  }
 ],
 "metadata": {
  "kernelspec": {
   "display_name": "PySpark",
   "language": "python",
   "name": "pysparkkernel"
  },
  "language_info": {
   "codemirror_mode": {
    "name": "python",
    "version": 3
   },
   "file_extension": ".py",
   "mimetype": "text/x-python",
   "name": "pyspark",
   "pygments_lexer": "python3"
  }
 },
 "nbformat": 4,
 "nbformat_minor": 5
}
