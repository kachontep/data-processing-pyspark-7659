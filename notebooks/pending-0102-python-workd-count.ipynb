{
 "cells": [
  {
   "cell_type": "code",
   "execution_count": null,
   "id": "266228e9",
   "metadata": {},
   "outputs": [],
   "source": [
    "import os\n",
    "import os.path as ospath"
   ]
  },
  {
   "cell_type": "code",
   "execution_count": null,
   "id": "e7d4c88d",
   "metadata": {},
   "outputs": [],
   "source": [
    "%%sh\n",
    "\n",
    "mkdir -p data\n"
   ]
  },
  {
   "cell_type": "code",
   "execution_count": null,
   "id": "d9beb366",
   "metadata": {},
   "outputs": [],
   "source": [
    "data_path = ospath.join(os.getenv(\"GITPOD_REPO_ROOT\"), \"resources\", \"data\", \"data.txt\")"
   ]
  },
  {
   "cell_type": "code",
   "execution_count": null,
   "id": "4acfef7c",
   "metadata": {},
   "outputs": [],
   "source": [
    "open(data_path, \"r\")"
   ]
  }
 ],
 "metadata": {
  "kernelspec": {
   "display_name": "Python 3 (ipykernel)",
   "language": "python",
   "name": "python3"
  },
  "language_info": {
   "codemirror_mode": {
    "name": "ipython",
    "version": 3
   },
   "file_extension": ".py",
   "mimetype": "text/x-python",
   "name": "python",
   "nbconvert_exporter": "python",
   "pygments_lexer": "ipython3",
   "version": "3.10.9"
  }
 },
 "nbformat": 4,
 "nbformat_minor": 5
}
