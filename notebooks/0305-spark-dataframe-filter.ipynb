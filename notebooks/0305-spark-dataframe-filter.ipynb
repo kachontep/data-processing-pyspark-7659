{
 "cells": [
  {
   "cell_type": "markdown",
   "id": "8d2b9953",
   "metadata": {},
   "source": [
    "# DataFrame Filter (or Where)"
   ]
  },
  {
   "cell_type": "code",
   "execution_count": null,
   "id": "e048599e",
   "metadata": {},
   "outputs": [],
   "source": [
    "from pyspark.sql import functions as F\n",
    "from pyspark.sql import types as T"
   ]
  },
  {
   "cell_type": "code",
   "execution_count": null,
   "id": "c0b3f5ca",
   "metadata": {},
   "outputs": [],
   "source": [
    "arrayStructureData = [\n",
    "    ((\"James\",\"\",\"Smith\"),[\"Java\",\"Scala\",\"C++\"],\"OH\",\"M\"),\n",
    "    ((\"Anna\",\"Rose\",\"\"),[\"Spark\",\"Java\",\"C++\"],\"NY\",\"F\"),\n",
    "    ((\"Julia\",\"\",\"Williams\"),[\"CSharp\",\"VB\"],\"OH\",\"F\"),\n",
    "    ((\"Maria\",\"Anne\",\"Jones\"),[\"CSharp\",\"VB\"],\"NY\",\"M\"),\n",
    "    ((\"Jen\",\"Mary\",\"Brown\"),[\"CSharp\",\"VB\"],\"NY\",\"M\"),\n",
    "    ((\"Mike\",\"Mary\",\"Williams\"),[\"Python\",\"VB\"],\"OH\",\"M\")\n",
    "]"
   ]
  },
  {
   "cell_type": "code",
   "execution_count": null,
   "id": "404142bd",
   "metadata": {},
   "outputs": [],
   "source": [
    "arrayStructureSchema = T.StructType([\n",
    "    T.StructField('name', T.StructType([\n",
    "        T.StructField('firstname', T.StringType(), True),\n",
    "        T.StructField('middlename', T.StringType(), True),\n",
    "        T.StructField('lastname', T.StringType(), True)\n",
    "    ])),\n",
    "    T.StructField('languages', T.ArrayType(T.StringType()), True),\n",
    "    T.StructField('state', T.StringType(), True),\n",
    "    T.StructField('gender', T.StringType(), True),\n",
    "])"
   ]
  },
  {
   "cell_type": "code",
   "execution_count": null,
   "id": "b573b921",
   "metadata": {},
   "outputs": [],
   "source": [
    "df = spark.createDataFrame(data=arrayStructureData, schema=arrayStructureSchema)\n",
    "df.printSchema()\n",
    "df.show()"
   ]
  },
  {
   "cell_type": "markdown",
   "id": "152c820e",
   "metadata": {},
   "source": [
    "**REMEMBER** All examples below can replace `filter()` with `where()`. Both are aliases."
   ]
  },
  {
   "cell_type": "markdown",
   "id": "32869fb6",
   "metadata": {},
   "source": [
    "Filterby using a column property in a DataFrame"
   ]
  },
  {
   "cell_type": "code",
   "execution_count": null,
   "id": "d2e57b8e",
   "metadata": {},
   "outputs": [],
   "source": [
    "df.filter(df.state == \"OH\").show(truncate=False)"
   ]
  },
  {
   "cell_type": "code",
   "execution_count": null,
   "id": "7a1451dd",
   "metadata": {},
   "outputs": [],
   "source": [
    "df.filter(df.state != \"OH\").show(truncate=False)"
   ]
  },
  {
   "cell_type": "markdown",
   "id": "87b28307",
   "metadata": {},
   "source": [
    "Filter by using `col()` to reference a column."
   ]
  },
  {
   "cell_type": "code",
   "execution_count": null,
   "id": "e2862a49",
   "metadata": {},
   "outputs": [],
   "source": [
    "df.filter(F.col(\"state\") == \"OH\").show(truncate=False)"
   ]
  },
  {
   "cell_type": "markdown",
   "id": "373d7d5d",
   "metadata": {},
   "source": [
    "Filter by using condition string as argument in `filter()`."
   ]
  },
  {
   "cell_type": "code",
   "execution_count": null,
   "id": "391bca8e",
   "metadata": {},
   "outputs": [],
   "source": [
    "df.filter(\"gender == 'M'\").show(truncate=False)"
   ]
  },
  {
   "cell_type": "code",
   "execution_count": null,
   "id": "d705cacb",
   "metadata": {},
   "outputs": [],
   "source": [
    "df.filter(\"gender <> 'M'\").show(truncate=False)"
   ]
  },
  {
   "cell_type": "markdown",
   "id": "88b22425",
   "metadata": {},
   "source": [
    "## Membership"
   ]
  },
  {
   "cell_type": "code",
   "execution_count": null,
   "id": "1f3c7597",
   "metadata": {},
   "outputs": [],
   "source": [
    "li = [\"OH\", \"CA\", \"DE\"]\n",
    "\n",
    "df.filter(df.state.isin(li)).show()"
   ]
  },
  {
   "cell_type": "code",
   "execution_count": null,
   "id": "0832988d",
   "metadata": {},
   "outputs": [],
   "source": [
    "df.filter(~df.state.isin(li)).show()"
   ]
  },
  {
   "cell_type": "markdown",
   "id": "4c6b2ea9",
   "metadata": {},
   "source": [
    "Accessing nested struct property to make a condition."
   ]
  },
  {
   "cell_type": "code",
   "execution_count": null,
   "id": "b9f47127",
   "metadata": {},
   "outputs": [],
   "source": [
    "df.filter(df.name.lastname == \"Williams\").show(truncate=False)"
   ]
  },
  {
   "cell_type": "markdown",
   "id": "c83b9be8",
   "metadata": {},
   "source": [
    "## Logical conjunction\n",
    "\n",
    "Use `&` and `|` to associate two conditional expression as one."
   ]
  },
  {
   "cell_type": "code",
   "execution_count": null,
   "id": "5ac13b79",
   "metadata": {},
   "outputs": [],
   "source": [
    "df.filter((df.state == \"OH\") & (df.gender == \"M\")).show(truncate=False)"
   ]
  },
  {
   "cell_type": "markdown",
   "id": "d5bf5ef5",
   "metadata": {},
   "source": [
    "## Logical functions"
   ]
  },
  {
   "cell_type": "markdown",
   "id": "c58527d6",
   "metadata": {},
   "source": [
    "There are both functions in `psypark.sql.functions` package and `Column` methods which are useful to make a conditional expression.\n",
    "\n",
    "For full list of functions in `pyspark.sql.functions` package, you can look at [here](https://spark.apache.org/docs/latest/api/python/reference/pyspark.sql/functions.html)"
   ]
  },
  {
   "cell_type": "code",
   "execution_count": null,
   "id": "7bbba4de",
   "metadata": {},
   "outputs": [],
   "source": [
    "df.filter(array_contains(df.language, \"Java\")).show()"
   ]
  },
  {
   "cell_type": "code",
   "execution_count": null,
   "id": "7a2ee92e",
   "metadata": {},
   "outputs": [],
   "source": [
    "df.filter(df.state.startswith(\"N\")).show()"
   ]
  },
  {
   "cell_type": "code",
   "execution_count": null,
   "id": "576be6b9",
   "metadata": {},
   "outputs": [],
   "source": [
    "df.filter(df.state.endswith(\"H\")).show()"
   ]
  },
  {
   "cell_type": "code",
   "execution_count": null,
   "id": "64f238b0",
   "metadata": {},
   "outputs": [],
   "source": [
    "df.filter(df.state.like(\"N%\")).show()"
   ]
  },
  {
   "cell_type": "markdown",
   "id": "d6a07d7e",
   "metadata": {},
   "source": [
    "Examples of filter with multiple steps"
   ]
  },
  {
   "cell_type": "code",
   "execution_count": null,
   "id": "2156dae5",
   "metadata": {},
   "outputs": [],
   "source": [
    "(df\n",
    " .withColumn(\n",
    "     \"fullname\",\n",
    "     F.lower(\n",
    "         F.concat_ws(\n",
    "             \" \",\n",
    "             F.col(\"name.firstname\"),\n",
    "             F.col(\"name.middlename\"),\n",
    "             F.col(\"name.lastname\"),\n",
    "         )\n",
    "     )\n",
    " ).filter(F.col(\"fullname\").like(\"%rose%\"))\n",
    ").show()"
   ]
  },
  {
   "cell_type": "markdown",
   "id": "a3cd05e7",
   "metadata": {},
   "source": [
    "## Filter Null"
   ]
  },
  {
   "cell_type": "code",
   "execution_count": null,
   "id": "d7770682",
   "metadata": {},
   "outputs": [],
   "source": [
    "data = [\n",
    "    (\"James\", None, \"M\"),\n",
    "    (\"Anna\", \"NY\", \"F\"),\n",
    "    (\"Julia\", None, None),\n",
    "]\n",
    "\n",
    "columns = [\"name\", \"state\", \"gender\"]\n",
    "df = spark.createDataFrame(data, columns)\n",
    "df.show()"
   ]
  },
  {
   "cell_type": "markdown",
   "id": "9177c3f3",
   "metadata": {},
   "source": [
    "Using string expression as a condition by using \"is NULL\" like `SQL`."
   ]
  },
  {
   "cell_type": "code",
   "execution_count": null,
   "id": "6f1b0c2b",
   "metadata": {},
   "outputs": [],
   "source": [
    "df.filter(\"state is NULL\").show()"
   ]
  },
  {
   "cell_type": "markdown",
   "id": "9ef05c92",
   "metadata": {},
   "source": [
    "It is the same result as using `isNull()` from `Column` instance."
   ]
  },
  {
   "cell_type": "code",
   "execution_count": null,
   "id": "63040e7e",
   "metadata": {},
   "outputs": [],
   "source": [
    "df.filter(df.state.isNull()).show()"
   ]
  },
  {
   "cell_type": "code",
   "execution_count": null,
   "id": "0d4e8141",
   "metadata": {},
   "outputs": [],
   "source": [
    "df.filter(F.col(\"state\").isNull()).show()"
   ]
  },
  {
   "cell_type": "markdown",
   "id": "424db3f2",
   "metadata": {},
   "source": [
    "Moreover, you can use `and` and `or` in string expression like `SQL'."
   ]
  },
  {
   "cell_type": "code",
   "execution_count": null,
   "id": "03f94dc7",
   "metadata": {},
   "outputs": [],
   "source": [
    "df.filter(\"state is NULL AND gender is NULL\").show()"
   ]
  },
  {
   "cell_type": "markdown",
   "id": "af280581",
   "metadata": {},
   "source": [
    "It is the same as this:"
   ]
  },
  {
   "cell_type": "code",
   "execution_count": null,
   "id": "bdca75fc",
   "metadata": {},
   "outputs": [],
   "source": [
    "df.filter(df.state.isNull() & df.gender.isNull()).show()"
   ]
  },
  {
   "cell_type": "markdown",
   "id": "7c6b556c",
   "metadata": {},
   "source": [
    "For negative null checks, it is easy by using `not` in string condition. "
   ]
  },
  {
   "cell_type": "code",
   "execution_count": null,
   "id": "a4a1a31f",
   "metadata": {},
   "outputs": [],
   "source": [
    "df.filter(\"state is not NULL\").show()"
   ]
  },
  {
   "cell_type": "code",
   "execution_count": null,
   "id": "5d6e3b76",
   "metadata": {},
   "outputs": [],
   "source": [
    "df.filter(\"NOT state is NULL\").show()"
   ]
  },
  {
   "cell_type": "code",
   "execution_count": null,
   "id": "37ff4e82",
   "metadata": {},
   "outputs": [],
   "source": [
    "df.filter(df.state.isNotNull()).show()"
   ]
  },
  {
   "cell_type": "code",
   "execution_count": null,
   "id": "83d64218",
   "metadata": {},
   "outputs": [],
   "source": [
    "df.filter(F.col(\"state\").isNotNull()).show()"
   ]
  },
  {
   "cell_type": "markdown",
   "id": "27081ecd",
   "metadata": {},
   "source": [
    "## Drop Null"
   ]
  },
  {
   "cell_type": "code",
   "execution_count": null,
   "id": "bbed0d62",
   "metadata": {},
   "outputs": [],
   "source": [
    "df = (\n",
    "    spark\n",
    "        .read\n",
    "        .options(header=\"true\", inferSchema=\"true\")\n",
    "        .csv(\"s3a://datalake/examples/small_zipcode.csv\")\n",
    ")\n",
    "\n",
    "df.printSchema()\n",
    "df.show(truncate=False)"
   ]
  },
  {
   "cell_type": "code",
   "execution_count": null,
   "id": "e62d2a82",
   "metadata": {},
   "outputs": [],
   "source": [
    "df.na.drop().show(truncate=False)"
   ]
  },
  {
   "cell_type": "code",
   "execution_count": null,
   "id": "56e48479",
   "metadata": {},
   "outputs": [],
   "source": [
    "df.na.drop(how=\"any\").show(truncate=False)"
   ]
  },
  {
   "cell_type": "code",
   "execution_count": null,
   "id": "b81932c3",
   "metadata": {},
   "outputs": [],
   "source": [
    "df.na.drop(subset=[\"population\", \"type\"]).show()"
   ]
  },
  {
   "cell_type": "code",
   "execution_count": null,
   "id": "9807760d",
   "metadata": {},
   "outputs": [],
   "source": [
    "df.dropna().show(truncate=False)"
   ]
  },
  {
   "cell_type": "markdown",
   "id": "2cb4ea61",
   "metadata": {},
   "source": [
    "## Fill NA"
   ]
  },
  {
   "cell_type": "code",
   "execution_count": null,
   "id": "4db1166b",
   "metadata": {},
   "outputs": [],
   "source": [
    "df = (\n",
    "    spark\n",
    "        .read\n",
    "        .options(header=\"true\", inferSchema=\"true\")\n",
    "        .csv(\"s3a://datalake/examples/small_zipcode.csv\")\n",
    ")\n",
    "\n",
    "df.printSchema()\n",
    "df.show(truncate=False)"
   ]
  },
  {
   "cell_type": "markdown",
   "id": "2e26c5f8",
   "metadata": {},
   "source": [
    "Fill all columns which are IntegerType() as `0` value."
   ]
  },
  {
   "cell_type": "code",
   "execution_count": null,
   "id": "687746dd",
   "metadata": {},
   "outputs": [],
   "source": [
    "df.fillna(value=0).show()"
   ]
  },
  {
   "cell_type": "code",
   "execution_count": null,
   "id": "8ed7176d",
   "metadata": {},
   "outputs": [],
   "source": [
    "df.fillna(value=0, subset=[\"population\"]).show()"
   ]
  },
  {
   "cell_type": "markdown",
   "id": "77928e32",
   "metadata": {},
   "source": [
    "Alternative ways by using `na` property of a dataframe."
   ]
  },
  {
   "cell_type": "code",
   "execution_count": null,
   "id": "15015ca0",
   "metadata": {},
   "outputs": [],
   "source": [
    "df.na.fill(value=0).show()"
   ]
  },
  {
   "cell_type": "code",
   "execution_count": null,
   "id": "c2df192c",
   "metadata": {},
   "outputs": [],
   "source": [
    "df.na.fill(value=0, subset=[\"population\"]).show()"
   ]
  },
  {
   "cell_type": "markdown",
   "id": "f5c2bf12",
   "metadata": {},
   "source": [
    "Fill al columns which are StringType() as `\"\"`"
   ]
  },
  {
   "cell_type": "code",
   "execution_count": null,
   "id": "70c21c0b",
   "metadata": {},
   "outputs": [],
   "source": [
    "df.show()"
   ]
  },
  {
   "cell_type": "code",
   "execution_count": null,
   "id": "cd6bb244",
   "metadata": {},
   "outputs": [],
   "source": [
    "df.fillna(value=\"\").show()"
   ]
  },
  {
   "cell_type": "code",
   "execution_count": null,
   "id": "4e9ec368",
   "metadata": {},
   "outputs": [],
   "source": [
    "df.na.fill(value=\"\").show()"
   ]
  },
  {
   "cell_type": "markdown",
   "id": "93359d49",
   "metadata": {},
   "source": [
    "Fill with different values for columns."
   ]
  },
  {
   "cell_type": "code",
   "execution_count": null,
   "id": "e7b3d9d4",
   "metadata": {},
   "outputs": [],
   "source": [
    "(\n",
    "df.fillna(\"unknown\", [\"city\"])\n",
    "  .fillna(\"\",[\"type\"])\n",
    ").show()"
   ]
  },
  {
   "cell_type": "markdown",
   "id": "8b74170b",
   "metadata": {},
   "source": [
    "Or using a dictionary instead."
   ]
  },
  {
   "cell_type": "code",
   "execution_count": null,
   "id": "9606442b",
   "metadata": {},
   "outputs": [],
   "source": [
    "df.fillna({\"city\": \"unknown\", \"type\": \"\"}).show()"
   ]
  },
  {
   "cell_type": "code",
   "execution_count": null,
   "id": "09e8a98a",
   "metadata": {},
   "outputs": [],
   "source": [
    "(\n",
    "df.na.fill(\"unknwon\", [\"city\"])\n",
    "  .na.fill(\"\", [\"type\"])\n",
    ").show()"
   ]
  },
  {
   "cell_type": "code",
   "execution_count": null,
   "id": "b6f94403",
   "metadata": {},
   "outputs": [],
   "source": [
    "df.na.fill({\"city\": \"unknown\", \"type\": \"\"}).show()"
   ]
  }
 ],
 "metadata": {
  "kernelspec": {
   "display_name": "PySpark",
   "language": "python",
   "name": "pysparkkernel"
  },
  "language_info": {
   "codemirror_mode": {
    "name": "python",
    "version": 3
   },
   "file_extension": ".py",
   "mimetype": "text/x-python",
   "name": "pyspark",
   "pygments_lexer": "python3"
  }
 },
 "nbformat": 4,
 "nbformat_minor": 5
}
