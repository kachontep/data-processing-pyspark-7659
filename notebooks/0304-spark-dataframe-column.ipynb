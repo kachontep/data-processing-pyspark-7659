{
 "cells": [
  {
   "cell_type": "code",
   "execution_count": 28,
   "id": "c6e7c1ab",
   "metadata": {},
   "outputs": [
    {
     "data": {
      "application/vnd.jupyter.widget-view+json": {
       "model_id": "",
       "version_major": 2,
       "version_minor": 0
      },
      "text/plain": [
       "FloatProgress(value=0.0, bar_style='info', description='Progress:', layout=Layout(height='25px', width='50%'),…"
      ]
     },
     "metadata": {},
     "output_type": "display_data"
    },
    {
     "name": "stdout",
     "output_type": "stream",
     "text": [
      "<pyspark.sql.session.SparkSession object at 0x7f553f578d90>"
     ]
    }
   ],
   "source": [
    "spark"
   ]
  },
  {
   "cell_type": "markdown",
   "id": "47446edc",
   "metadata": {},
   "source": [
    "# Column Collection Type"
   ]
  },
  {
   "cell_type": "code",
   "execution_count": 10,
   "id": "77e20df7",
   "metadata": {},
   "outputs": [
    {
     "data": {
      "application/vnd.jupyter.widget-view+json": {
       "model_id": "",
       "version_major": 2,
       "version_minor": 0
      },
      "text/plain": [
       "FloatProgress(value=0.0, bar_style='info', description='Progress:', layout=Layout(height='25px', width='50%'),…"
      ]
     },
     "metadata": {},
     "output_type": "display_data"
    }
   ],
   "source": [
    "from pyspark.sql import functions as F\n",
    "from pyspark.sql import types as T"
   ]
  },
  {
   "cell_type": "markdown",
   "id": "45f74c8b",
   "metadata": {},
   "source": [
    "## Array"
   ]
  },
  {
   "cell_type": "code",
   "execution_count": null,
   "id": "4439fb1a",
   "metadata": {},
   "outputs": [],
   "source": [
    "arrayType = T.ArrayType(T.IntegerType(), False)"
   ]
  },
  {
   "cell_type": "code",
   "execution_count": null,
   "id": "b0bbb822",
   "metadata": {},
   "outputs": [],
   "source": [
    "print(arrayType.jsonValue()) # schema description as JSONSchema\n",
    "\n",
    "print(arrayType.simpleString()) # schema description in Hive style\n",
    "\n",
    "print(arrayType.typeName()) # type name"
   ]
  },
  {
   "cell_type": "markdown",
   "id": "14cf0552",
   "metadata": {},
   "source": [
    "## Map"
   ]
  },
  {
   "cell_type": "code",
   "execution_count": null,
   "id": "954fdfaa",
   "metadata": {},
   "outputs": [],
   "source": [
    "mapType = T.MapType(T.StringType(), T.IntegerType())"
   ]
  },
  {
   "cell_type": "code",
   "execution_count": null,
   "id": "0953e5c9",
   "metadata": {},
   "outputs": [],
   "source": [
    "print(mapType.keyType)\n",
    "\n",
    "print(mapType.valueType)\n",
    "\n",
    "print(mapType.valueContainsNull)"
   ]
  },
  {
   "cell_type": "markdown",
   "id": "bd258612",
   "metadata": {},
   "source": [
    "## Struct"
   ]
  },
  {
   "cell_type": "code",
   "execution_count": null,
   "id": "39a1b467",
   "metadata": {},
   "outputs": [],
   "source": [
    "data = [\n",
    "    (\"James\",\"\",\"Smith\",\"36\",\"M\",3000),\n",
    "    (\"Michael\",\"Rose\",\"\",\"40\",\"M\",4000),\n",
    "    (\"Robert\",\"\",\"Williams\",\"42\",\"M\",4000),\n",
    "    (\"Maria\",\"Anne\",\"Jones\",\"39\",\"F\",4000),\n",
    "    (\"Jen\",\"Mary\",\"Brown\",\"\",\"F\",-1),\n",
    "]"
   ]
  },
  {
   "cell_type": "code",
   "execution_count": null,
   "id": "22af8423",
   "metadata": {},
   "outputs": [],
   "source": [
    "schema = T.StructType([\n",
    "    T.StructField(\"firetname\", T.StringType(), True),\n",
    "    T.StructField(\"middlename\",T.StringType(),True), \n",
    "    T.StructField(\"lastname\",T.StringType(),True), \n",
    "    T.StructField(\"age\", T.StringType(), True), \n",
    "    T.StructField(\"gender\", T.StringType(), True), \n",
    "    T.StructField(\"salary\", T.IntegerType(), True) \n",
    "])"
   ]
  },
  {
   "cell_type": "code",
   "execution_count": null,
   "id": "a9eb6e74",
   "metadata": {},
   "outputs": [],
   "source": [
    "df = spark.createDataFrame(data=data, schema=schema)"
   ]
  },
  {
   "cell_type": "code",
   "execution_count": null,
   "id": "cf3c5c27",
   "metadata": {},
   "outputs": [],
   "source": [
    "df.printSchema()"
   ]
  },
  {
   "cell_type": "code",
   "execution_count": null,
   "id": "c2278e4d",
   "metadata": {},
   "outputs": [],
   "source": [
    "df.show(truncate=False)"
   ]
  },
  {
   "cell_type": "markdown",
   "id": "5e8a9ca1",
   "metadata": {},
   "source": [
    "# Column Selection"
   ]
  },
  {
   "cell_type": "code",
   "execution_count": null,
   "id": "3dac6a9c",
   "metadata": {},
   "outputs": [],
   "source": [
    "data = [\n",
    "    (\"James\",\"Smith\",\"USA\",\"CA\"),\n",
    "    (\"Michael\",\"Rose\",\"USA\",\"NY\"),\n",
    "    (\"Robert\",\"Williams\",\"USA\",\"CA\"),\n",
    "    (\"Maria\",\"Jones\",\"USA\",\"FL\"),\n",
    "]\n",
    "\n",
    "columns = [\"firstname\",\"lastname\",\"country\",\"state\"]\n",
    "df = spark.createDataFrame(data, columns)\n",
    "df.show()"
   ]
  },
  {
   "cell_type": "markdown",
   "id": "bb5492fb",
   "metadata": {},
   "source": [
    "## Select columns"
   ]
  },
  {
   "cell_type": "markdown",
   "id": "2129980f",
   "metadata": {},
   "source": [
    "Show all columns with `columns` property"
   ]
  },
  {
   "cell_type": "code",
   "execution_count": null,
   "id": "6b538a5b",
   "metadata": {},
   "outputs": [],
   "source": [
    "df.columns"
   ]
  },
  {
   "cell_type": "markdown",
   "id": "e22ff381",
   "metadata": {},
   "source": [
    "Use string as a column specifier."
   ]
  },
  {
   "cell_type": "code",
   "execution_count": null,
   "id": "452afc4d",
   "metadata": {},
   "outputs": [],
   "source": [
    "df.select(\"firstname\", \"lastname\").show()"
   ]
  },
  {
   "cell_type": "markdown",
   "id": "b6451d63",
   "metadata": {},
   "source": [
    "Use data frame property as a column specifier This way has a limitation if a name contains whitespace or invalid characters for Python property name. **Not recommended** "
   ]
  },
  {
   "cell_type": "code",
   "execution_count": null,
   "id": "ad594302",
   "metadata": {},
   "outputs": [],
   "source": [
    "df.select(df.firstname, df.lastname).show()"
   ]
  },
  {
   "cell_type": "markdown",
   "id": "8b4549bf",
   "metadata": {},
   "source": [
    "Use data frame indexing (with string ) as a column specifier."
   ]
  },
  {
   "cell_type": "code",
   "execution_count": null,
   "id": "1aae6280",
   "metadata": {},
   "outputs": [],
   "source": [
    "df.select(df[\"firstname\"], df[\"lastname\"]).show()"
   ]
  },
  {
   "cell_type": "markdown",
   "id": "77b66098",
   "metadata": {},
   "source": [
    "Use `col()` function to reference  a dataframe. it has an additional good point to extend operation with the column, for example, `alias()`."
   ]
  },
  {
   "cell_type": "code",
   "execution_count": null,
   "id": "fb80d8b9",
   "metadata": {},
   "outputs": [],
   "source": [
    "df.select(F.col(\"firstname\").alias(\"fname\"), F.col(\"lastname\")).show()"
   ]
  },
  {
   "cell_type": "markdown",
   "id": "f3434c40",
   "metadata": {},
   "source": [
    "### Show all columns"
   ]
  },
  {
   "cell_type": "code",
   "execution_count": null,
   "id": "d25658bc",
   "metadata": {},
   "outputs": [],
   "source": [
    "df.select(\"*\").show() # or only show()"
   ]
  },
  {
   "cell_type": "code",
   "execution_count": null,
   "id": "3832f6c5",
   "metadata": {},
   "outputs": [],
   "source": [
    "df.select([col for col in df.columns]).show()  # List of column names"
   ]
  },
  {
   "cell_type": "code",
   "execution_count": null,
   "id": "01b396d9",
   "metadata": {},
   "outputs": [],
   "source": [
    "df.select(*df.columns).show()"
   ]
  },
  {
   "cell_type": "markdown",
   "id": "1e7b565c",
   "metadata": {},
   "source": [
    "Use slicing `df.columns` property to select column in range."
   ]
  },
  {
   "cell_type": "code",
   "execution_count": null,
   "id": "615ea02f",
   "metadata": {},
   "outputs": [],
   "source": [
    "df.select(df.columns[:3]).show(3)  # first three columns"
   ]
  },
  {
   "cell_type": "code",
   "execution_count": null,
   "id": "86c06de0",
   "metadata": {},
   "outputs": [],
   "source": [
    "df.select(df.columns[2:4]).show()  # column 3 to 4"
   ]
  },
  {
   "cell_type": "markdown",
   "id": "f48d81e2",
   "metadata": {},
   "source": [
    "### Select nested struct"
   ]
  },
  {
   "cell_type": "code",
   "execution_count": null,
   "id": "1002dd00",
   "metadata": {},
   "outputs": [],
   "source": [
    "data = [\n",
    "    ((\"James\",None,\"Smith\"),\"OH\",\"M\"),\n",
    "    ((\"Anna\",\"Rose\",\"\"),\"NY\",\"F\"),\n",
    "    ((\"Julia\",\"\",\"Williams\"),\"OH\",\"F\"),\n",
    "    ((\"Maria\",\"Anne\",\"Jones\"),\"NY\",\"M\"),\n",
    "    ((\"Jen\",\"Mary\",\"Brown\"),\"NY\",\"M\"),\n",
    "    ((\"Mike\",\"Mary\",\"Williams\"),\"OH\",\"M\")\n",
    "]"
   ]
  },
  {
   "cell_type": "code",
   "execution_count": null,
   "id": "b59487a9",
   "metadata": {},
   "outputs": [],
   "source": [
    "schema = T.StructType([\n",
    "    T.StructField(\"name\", T.StructType([\n",
    "        T.StructField(\"firstname\", T.StringType(), True),\n",
    "        T.StructField(\"middlename\", T.StringType(), True),\n",
    "        T.StructField(\"lastname\", T.StringType(), True),\n",
    "    ])),\n",
    "    T.StructField(\"state\", T.StringType(), True),\n",
    "    T.StructField(\"gender\", T.StringType(), True),\n",
    "])"
   ]
  },
  {
   "cell_type": "code",
   "execution_count": null,
   "id": "26cf7657",
   "metadata": {},
   "outputs": [],
   "source": [
    "df2 = spark.createDataFrame(data, schema)"
   ]
  },
  {
   "cell_type": "code",
   "execution_count": null,
   "id": "f5b9de17",
   "metadata": {},
   "outputs": [],
   "source": [
    "df2.printSchema()"
   ]
  },
  {
   "cell_type": "code",
   "execution_count": null,
   "id": "b0be08a9",
   "metadata": {},
   "outputs": [],
   "source": [
    "df2.show(truncate=False)"
   ]
  },
  {
   "cell_type": "code",
   "execution_count": null,
   "id": "0f3afac4",
   "metadata": {},
   "outputs": [],
   "source": [
    "df2.select(\"name\").show(truncate=False)"
   ]
  },
  {
   "cell_type": "code",
   "execution_count": null,
   "id": "cb194e28",
   "metadata": {},
   "outputs": [],
   "source": [
    "df2.select(\"name.firstname\", \"name.lastname\").show(truncate=False)"
   ]
  },
  {
   "cell_type": "code",
   "execution_count": null,
   "id": "ff201916",
   "metadata": {},
   "outputs": [],
   "source": [
    "df2.select(\"name.*\").show(truncate=False)"
   ]
  },
  {
   "cell_type": "markdown",
   "id": "2cabde84",
   "metadata": {},
   "source": [
    "# Add Column"
   ]
  },
  {
   "cell_type": "code",
   "execution_count": 2,
   "id": "060d358a",
   "metadata": {},
   "outputs": [
    {
     "data": {
      "application/vnd.jupyter.widget-view+json": {
       "model_id": "",
       "version_major": 2,
       "version_minor": 0
      },
      "text/plain": [
       "FloatProgress(value=0.0, bar_style='info', description='Progress:', layout=Layout(height='25px', width='50%'),…"
      ]
     },
     "metadata": {},
     "output_type": "display_data"
    }
   ],
   "source": [
    "data = [\n",
    "  ('James','','Smith','1991-04-01','M',3000),\n",
    "  ('Michael','Rose','','2000-05-19','M',4000),\n",
    "  ('Robert','','Williams','1978-09-05','M',4000),\n",
    "  ('Maria','Anne','Jones','1967-12-01','F',4000),\n",
    "  ('Jen','Mary','kkkBrown','1980-02-17','F',-1),\n",
    "]"
   ]
  },
  {
   "cell_type": "code",
   "execution_count": 3,
   "id": "b7eda2fb",
   "metadata": {},
   "outputs": [
    {
     "data": {
      "application/vnd.jupyter.widget-view+json": {
       "model_id": "",
       "version_major": 2,
       "version_minor": 0
      },
      "text/plain": [
       "FloatProgress(value=0.0, bar_style='info', description='Progress:', layout=Layout(height='25px', width='50%'),…"
      ]
     },
     "metadata": {},
     "output_type": "display_data"
    }
   ],
   "source": [
    "columns = [\"firstname\", \"middlename\", \"lastname\", \"dob\", \"gender\", \"salary\"]"
   ]
  },
  {
   "cell_type": "code",
   "execution_count": 19,
   "id": "1d65e736",
   "metadata": {},
   "outputs": [
    {
     "data": {
      "application/vnd.jupyter.widget-view+json": {
       "model_id": "",
       "version_major": 2,
       "version_minor": 0
      },
      "text/plain": [
       "FloatProgress(value=0.0, bar_style='info', description='Progress:', layout=Layout(height='25px', width='50%'),…"
      ]
     },
     "metadata": {},
     "output_type": "display_data"
    },
    {
     "name": "stdout",
     "output_type": "stream",
     "text": [
      "root\n",
      " |-- firstname: string (nullable = true)\n",
      " |-- middlename: string (nullable = true)\n",
      " |-- lastname: string (nullable = true)\n",
      " |-- dob: string (nullable = true)\n",
      " |-- gender: string (nullable = true)\n",
      " |-- salary: long (nullable = true)\n",
      "\n",
      "+---------+----------+--------+----------+------+------+\n",
      "|firstname|middlename|lastname|dob       |gender|salary|\n",
      "+---------+----------+--------+----------+------+------+\n",
      "|James    |          |Smith   |1991-04-01|M     |3000  |\n",
      "|Michael  |Rose      |        |2000-05-19|M     |4000  |\n",
      "|Robert   |          |Williams|1978-09-05|M     |4000  |\n",
      "|Maria    |Anne      |Jones   |1967-12-01|F     |4000  |\n",
      "|Jen      |Mary      |kkkBrown|1980-02-17|F     |-1    |\n",
      "+---------+----------+--------+----------+------+------+"
     ]
    }
   ],
   "source": [
    "df = spark.createDataFrame(data=data, schema=columns)\n",
    "df.printSchema()\n",
    "df.show(truncate=False)"
   ]
  },
  {
   "cell_type": "markdown",
   "id": "46942702",
   "metadata": {},
   "source": [
    "Casting a column type, but still keep the same name."
   ]
  },
  {
   "cell_type": "code",
   "execution_count": 15,
   "id": "6eae63d6",
   "metadata": {},
   "outputs": [
    {
     "data": {
      "application/vnd.jupyter.widget-view+json": {
       "model_id": "",
       "version_major": 2,
       "version_minor": 0
      },
      "text/plain": [
       "FloatProgress(value=0.0, bar_style='info', description='Progress:', layout=Layout(height='25px', width='50%'),…"
      ]
     },
     "metadata": {},
     "output_type": "display_data"
    },
    {
     "name": "stdout",
     "output_type": "stream",
     "text": [
      "root\n",
      " |-- firstname: string (nullable = true)\n",
      " |-- middlename: string (nullable = true)\n",
      " |-- lastname: string (nullable = true)\n",
      " |-- dob: string (nullable = true)\n",
      " |-- gender: string (nullable = true)\n",
      " |-- salary: integer (nullable = true)\n",
      "\n",
      "+---------+----------+--------+----------+------+------+\n",
      "|firstname|middlename|lastname|dob       |gender|salary|\n",
      "+---------+----------+--------+----------+------+------+\n",
      "|James    |          |Smith   |1991-04-01|M     |3000  |\n",
      "|Michael  |Rose      |        |2000-05-19|M     |4000  |\n",
      "|Robert   |          |Williams|1978-09-05|M     |4000  |\n",
      "|Maria    |Anne      |Jones   |1967-12-01|F     |4000  |\n",
      "|Jen      |Mary      |kkkBrown|1980-02-17|F     |-1    |\n",
      "+---------+----------+--------+----------+------+------+"
     ]
    }
   ],
   "source": [
    "df2 = df.withColumn(\"salary\", F.col(\"salary\").cast(\"integer\"))\n",
    "df2.printSchema()\n",
    "df2.show(truncate=False)"
   ]
  },
  {
   "cell_type": "markdown",
   "id": "9db73b9b",
   "metadata": {},
   "source": [
    "Applying an expression with a column, but still keep the same name."
   ]
  },
  {
   "cell_type": "code",
   "execution_count": 20,
   "id": "131c4f64",
   "metadata": {},
   "outputs": [
    {
     "data": {
      "application/vnd.jupyter.widget-view+json": {
       "model_id": "",
       "version_major": 2,
       "version_minor": 0
      },
      "text/plain": [
       "FloatProgress(value=0.0, bar_style='info', description='Progress:', layout=Layout(height='25px', width='50%'),…"
      ]
     },
     "metadata": {},
     "output_type": "display_data"
    },
    {
     "name": "stdout",
     "output_type": "stream",
     "text": [
      "root\n",
      " |-- firstname: string (nullable = true)\n",
      " |-- middlename: string (nullable = true)\n",
      " |-- lastname: string (nullable = true)\n",
      " |-- dob: string (nullable = true)\n",
      " |-- gender: string (nullable = true)\n",
      " |-- salary: long (nullable = true)\n",
      "\n",
      "+---------+----------+--------+----------+------+------+\n",
      "|firstname|middlename|lastname|dob       |gender|salary|\n",
      "+---------+----------+--------+----------+------+------+\n",
      "|James    |          |Smith   |1991-04-01|M     |300000|\n",
      "|Michael  |Rose      |        |2000-05-19|M     |400000|\n",
      "|Robert   |          |Williams|1978-09-05|M     |400000|\n",
      "|Maria    |Anne      |Jones   |1967-12-01|F     |400000|\n",
      "|Jen      |Mary      |kkkBrown|1980-02-17|F     |-100  |\n",
      "+---------+----------+--------+----------+------+------+"
     ]
    }
   ],
   "source": [
    "df3 = df.withColumn(\"salary\", F.col(\"salary\") * 100)\n",
    "df3.printSchema()\n",
    "df3.show(truncate=False)"
   ]
  },
  {
   "cell_type": "code",
   "execution_count": 30,
   "id": "5fa92c46",
   "metadata": {},
   "outputs": [
    {
     "data": {
      "application/vnd.jupyter.widget-view+json": {
       "model_id": "",
       "version_major": 2,
       "version_minor": 0
      },
      "text/plain": [
       "FloatProgress(value=0.0, bar_style='info', description='Progress:', layout=Layout(height='25px', width='50%'),…"
      ]
     },
     "metadata": {},
     "output_type": "display_data"
    },
    {
     "name": "stdout",
     "output_type": "stream",
     "text": [
      "root\n",
      " |-- firstname: string (nullable = true)\n",
      " |-- middlename: string (nullable = true)\n",
      " |-- lastname: string (nullable = true)\n",
      " |-- dob: string (nullable = true)\n",
      " |-- gender: string (nullable = true)\n",
      " |-- salary: long (nullable = true)\n",
      " |-- CopiedColumn: long (nullable = true)\n",
      "\n",
      "+---------+----------+--------+----------+------+------+------------+\n",
      "|firstname|middlename|lastname|dob       |gender|salary|CopiedColumn|\n",
      "+---------+----------+--------+----------+------+------+------------+\n",
      "|James    |          |Smith   |1991-04-01|M     |3000  |-3000       |\n",
      "|Michael  |Rose      |        |2000-05-19|M     |4000  |-4000       |\n",
      "|Robert   |          |Williams|1978-09-05|M     |4000  |-4000       |\n",
      "|Maria    |Anne      |Jones   |1967-12-01|F     |4000  |-4000       |\n",
      "|Jen      |Mary      |kkkBrown|1980-02-17|F     |-1    |1           |\n",
      "+---------+----------+--------+----------+------+------+------------+"
     ]
    }
   ],
   "source": [
    "df4 = df.withColumn(\"CopiedColumn\", F.col(\"salary\") * -1)\n",
    "df4.printSchema()\n",
    "df4.show(truncate=False)"
   ]
  },
  {
   "cell_type": "markdown",
   "id": "f33862a3",
   "metadata": {},
   "source": [
    "Create a new column with a literal value (of any type) by using `lit()`."
   ]
  },
  {
   "cell_type": "code",
   "execution_count": 33,
   "id": "a30fd6b8",
   "metadata": {},
   "outputs": [
    {
     "data": {
      "application/vnd.jupyter.widget-view+json": {
       "model_id": "",
       "version_major": 2,
       "version_minor": 0
      },
      "text/plain": [
       "FloatProgress(value=0.0, bar_style='info', description='Progress:', layout=Layout(height='25px', width='50%'),…"
      ]
     },
     "metadata": {},
     "output_type": "display_data"
    },
    {
     "name": "stdout",
     "output_type": "stream",
     "text": [
      "root\n",
      " |-- firstname: string (nullable = true)\n",
      " |-- middlename: string (nullable = true)\n",
      " |-- lastname: string (nullable = true)\n",
      " |-- dob: string (nullable = true)\n",
      " |-- gender: string (nullable = true)\n",
      " |-- salary: long (nullable = true)\n",
      " |-- Country: string (nullable = false)\n",
      "\n",
      "+---------+----------+--------+----------+------+------+-------+\n",
      "|firstname|middlename|lastname|dob       |gender|salary|Country|\n",
      "+---------+----------+--------+----------+------+------+-------+\n",
      "|James    |          |Smith   |1991-04-01|M     |3000  |USA    |\n",
      "|Michael  |Rose      |        |2000-05-19|M     |4000  |USA    |\n",
      "|Robert   |          |Williams|1978-09-05|M     |4000  |USA    |\n",
      "|Maria    |Anne      |Jones   |1967-12-01|F     |4000  |USA    |\n",
      "|Jen      |Mary      |kkkBrown|1980-02-17|F     |-1    |USA    |\n",
      "+---------+----------+--------+----------+------+------+-------+"
     ]
    }
   ],
   "source": [
    "df5 = df.withColumn(\"Country\", F.lit(\"USA\"))\n",
    "df5.printSchema()\n",
    "df5.show(truncate=False)"
   ]
  },
  {
   "cell_type": "markdown",
   "id": "33170578",
   "metadata": {},
   "source": [
    "As a `RDD` is immutable and its operation returns a new one. We can chain operations with a DataFrame."
   ]
  },
  {
   "cell_type": "code",
   "execution_count": 37,
   "id": "177aa668",
   "metadata": {},
   "outputs": [
    {
     "data": {
      "application/vnd.jupyter.widget-view+json": {
       "model_id": "",
       "version_major": 2,
       "version_minor": 0
      },
      "text/plain": [
       "FloatProgress(value=0.0, bar_style='info', description='Progress:', layout=Layout(height='25px', width='50%'),…"
      ]
     },
     "metadata": {},
     "output_type": "display_data"
    },
    {
     "name": "stdout",
     "output_type": "stream",
     "text": [
      "root\n",
      " |-- firstname: string (nullable = true)\n",
      " |-- middlename: string (nullable = true)\n",
      " |-- lastname: string (nullable = true)\n",
      " |-- dob: string (nullable = true)\n",
      " |-- gender: string (nullable = true)\n",
      " |-- salary: long (nullable = true)\n",
      " |-- Country: string (nullable = false)\n",
      " |-- anotherColumn: string (nullable = false)"
     ]
    }
   ],
   "source": [
    "df6 = (\n",
    "    df\n",
    "    .withColumn(\"Country\", F.lit(\"USA\"))\n",
    "    .withColumn(\"anotherColumn\", F.lit(\"anotherValue\"))\n",
    ")\n",
    "df6.printSchema()"
   ]
  },
  {
   "cell_type": "markdown",
   "id": "0af2dbea",
   "metadata": {},
   "source": [
    "## Drop Column"
   ]
  },
  {
   "cell_type": "code",
   "execution_count": 41,
   "id": "83bad971",
   "metadata": {},
   "outputs": [
    {
     "data": {
      "application/vnd.jupyter.widget-view+json": {
       "model_id": "",
       "version_major": 2,
       "version_minor": 0
      },
      "text/plain": [
       "FloatProgress(value=0.0, bar_style='info', description='Progress:', layout=Layout(height='25px', width='50%'),…"
      ]
     },
     "metadata": {},
     "output_type": "display_data"
    },
    {
     "name": "stdout",
     "output_type": "stream",
     "text": [
      "+---------+----------+--------+----------+------+------+------------+\n",
      "|firstname|middlename|lastname|dob       |gender|salary|CopiedColumn|\n",
      "+---------+----------+--------+----------+------+------+------------+\n",
      "|James    |          |Smith   |1991-04-01|M     |3000  |-3000       |\n",
      "|Michael  |Rose      |        |2000-05-19|M     |4000  |-4000       |\n",
      "|Robert   |          |Williams|1978-09-05|M     |4000  |-4000       |\n",
      "|Maria    |Anne      |Jones   |1967-12-01|F     |4000  |-4000       |\n",
      "|Jen      |Mary      |kkkBrown|1980-02-17|F     |-1    |1           |\n",
      "+---------+----------+--------+----------+------+------+------------+"
     ]
    }
   ],
   "source": [
    "df4.show(truncate=False)"
   ]
  },
  {
   "cell_type": "code",
   "execution_count": 40,
   "id": "9a79e210",
   "metadata": {},
   "outputs": [
    {
     "data": {
      "application/vnd.jupyter.widget-view+json": {
       "model_id": "",
       "version_major": 2,
       "version_minor": 0
      },
      "text/plain": [
       "FloatProgress(value=0.0, bar_style='info', description='Progress:', layout=Layout(height='25px', width='50%'),…"
      ]
     },
     "metadata": {},
     "output_type": "display_data"
    },
    {
     "name": "stdout",
     "output_type": "stream",
     "text": [
      "+---------+----------+--------+----------+------+------+\n",
      "|firstname|middlename|lastname|dob       |gender|salary|\n",
      "+---------+----------+--------+----------+------+------+\n",
      "|James    |          |Smith   |1991-04-01|M     |3000  |\n",
      "|Michael  |Rose      |        |2000-05-19|M     |4000  |\n",
      "|Robert   |          |Williams|1978-09-05|M     |4000  |\n",
      "|Maria    |Anne      |Jones   |1967-12-01|F     |4000  |\n",
      "|Jen      |Mary      |kkkBrown|1980-02-17|F     |-1    |\n",
      "+---------+----------+--------+----------+------+------+"
     ]
    }
   ],
   "source": [
    "df4.drop(\"CopiedColumn\").show(truncate=False)"
   ]
  },
  {
   "cell_type": "code",
   "execution_count": 42,
   "id": "ceb1c8b6",
   "metadata": {},
   "outputs": [
    {
     "data": {
      "application/vnd.jupyter.widget-view+json": {
       "model_id": "",
       "version_major": 2,
       "version_minor": 0
      },
      "text/plain": [
       "FloatProgress(value=0.0, bar_style='info', description='Progress:', layout=Layout(height='25px', width='50%'),…"
      ]
     },
     "metadata": {},
     "output_type": "display_data"
    },
    {
     "name": "stdout",
     "output_type": "stream",
     "text": [
      "+---------+----------+--------+----------+------+\n",
      "|firstname|middlename|lastname|dob       |gender|\n",
      "+---------+----------+--------+----------+------+\n",
      "|James    |          |Smith   |1991-04-01|M     |\n",
      "|Michael  |Rose      |        |2000-05-19|M     |\n",
      "|Robert   |          |Williams|1978-09-05|M     |\n",
      "|Maria    |Anne      |Jones   |1967-12-01|F     |\n",
      "|Jen      |Mary      |kkkBrown|1980-02-17|F     |\n",
      "+---------+----------+--------+----------+------+"
     ]
    }
   ],
   "source": [
    "df4.drop(\"salary\", \"CopiedColumn\").show(truncate=False)"
   ]
  },
  {
   "cell_type": "markdown",
   "id": "d3ad66f4",
   "metadata": {},
   "source": [
    "## Rename Column"
   ]
  },
  {
   "cell_type": "code",
   "execution_count": 38,
   "id": "fe2dc9bd",
   "metadata": {},
   "outputs": [
    {
     "data": {
      "application/vnd.jupyter.widget-view+json": {
       "model_id": "",
       "version_major": 2,
       "version_minor": 0
      },
      "text/plain": [
       "FloatProgress(value=0.0, bar_style='info', description='Progress:', layout=Layout(height='25px', width='50%'),…"
      ]
     },
     "metadata": {},
     "output_type": "display_data"
    },
    {
     "name": "stdout",
     "output_type": "stream",
     "text": [
      "+---------+----------+--------+----------+---+------+\n",
      "|firstname|middlename|lastname|dob       |sex|salary|\n",
      "+---------+----------+--------+----------+---+------+\n",
      "|James    |          |Smith   |1991-04-01|M  |3000  |\n",
      "|Michael  |Rose      |        |2000-05-19|M  |4000  |\n",
      "|Robert   |          |Williams|1978-09-05|M  |4000  |\n",
      "|Maria    |Anne      |Jones   |1967-12-01|F  |4000  |\n",
      "|Jen      |Mary      |kkkBrown|1980-02-17|F  |-1    |\n",
      "+---------+----------+--------+----------+---+------+"
     ]
    }
   ],
   "source": [
    "df.withColumnRenamed(\"gender\", \"sex\").show(truncate=False)"
   ]
  }
 ],
 "metadata": {
  "kernelspec": {
   "display_name": "PySpark",
   "language": "python",
   "name": "pysparkkernel"
  },
  "language_info": {
   "codemirror_mode": {
    "name": "python",
    "version": 3
   },
   "file_extension": ".py",
   "mimetype": "text/x-python",
   "name": "pyspark",
   "pygments_lexer": "python3"
  }
 },
 "nbformat": 4,
 "nbformat_minor": 5
}
