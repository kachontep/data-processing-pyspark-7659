{
 "cells": [
  {
   "cell_type": "markdown",
   "id": "b3deae80",
   "metadata": {},
   "source": [
    "# Wordcount"
   ]
  },
  {
   "cell_type": "code",
   "execution_count": null,
   "id": "e7d4c88d",
   "metadata": {},
   "outputs": [],
   "source": [
    "%%sh\n",
    "rm -r data\n",
    "mkdir -p data\n",
    "mc cp minio/datalake/examples/data.txt ./data"
   ]
  },
  {
   "cell_type": "code",
   "execution_count": null,
   "id": "ec957d83",
   "metadata": {},
   "outputs": [],
   "source": [
    "from pathlib import Path"
   ]
  },
  {
   "cell_type": "code",
   "execution_count": null,
   "id": "d5b6ece3",
   "metadata": {},
   "outputs": [],
   "source": [
    "data = Path(\"./data/data.txt\").read_text()"
   ]
  },
  {
   "cell_type": "code",
   "execution_count": null,
   "id": "394eaaf8",
   "metadata": {},
   "outputs": [],
   "source": [
    "lines = data.split(\"\\n\")\n",
    "lines"
   ]
  },
  {
   "cell_type": "markdown",
   "id": "1adaf0af",
   "metadata": {},
   "source": [
    "## flatMap"
   ]
  },
  {
   "cell_type": "code",
   "execution_count": null,
   "id": "84cf3ce2",
   "metadata": {},
   "outputs": [],
   "source": [
    "unflatten_words = list(map(lambda line: line.split(\" \"), lines))\n",
    "unflatten_words"
   ]
  },
  {
   "cell_type": "code",
   "execution_count": null,
   "id": "fe402358",
   "metadata": {},
   "outputs": [],
   "source": [
    "flatten_words = [word for words in unflatten_words for word in words]\n",
    "flatten_words"
   ]
  },
  {
   "cell_type": "markdown",
   "id": "55b8ff4f",
   "metadata": {},
   "source": [
    "Or simply use following function as `flatMap`"
   ]
  },
  {
   "cell_type": "code",
   "execution_count": null,
   "id": "ec1ee50d",
   "metadata": {},
   "outputs": [],
   "source": [
    "def flatMap(f, items):\n",
    "    result = []\n",
    "    for item in items:\n",
    "        result.extend(f(item))\n",
    "    return result\n",
    "\n",
    "words = flatMap(lambda line: line.split(\" \"), lines)\n",
    "words"
   ]
  },
  {
   "cell_type": "code",
   "execution_count": null,
   "id": "96bea6e0",
   "metadata": {},
   "outputs": [],
   "source": [
    "# Ensure that all words are in lower case.\n",
    "words = list(map(lambda w: w.lower(), words))"
   ]
  },
  {
   "cell_type": "code",
   "execution_count": null,
   "id": "88be047d",
   "metadata": {},
   "outputs": [],
   "source": [
    "word_freq = list(map(lambda w: (w, 1), words))\n",
    "word_freq"
   ]
  },
  {
   "cell_type": "markdown",
   "id": "b1ad265c",
   "metadata": {},
   "source": [
    "## Group By Key"
   ]
  },
  {
   "cell_type": "code",
   "execution_count": null,
   "id": "97f6216a",
   "metadata": {},
   "outputs": [],
   "source": [
    "from itertools import groupby\n",
    "\n",
    "\n",
    "def unnested(grouped_data):\n",
    "    return [(k, list(v)) for k, v in grouped_data]\n",
    "\n",
    "key_func = lambda wf: wf[0]\n",
    "\n",
    "word_freq_grouped = groupby(sorted(word_freq, key=key_func), key_func)\n",
    "word_freq_grouped = unnested(word_freq_grouped)\n",
    "word_freq_grouped"
   ]
  },
  {
   "cell_type": "markdown",
   "id": "ddf0b14b",
   "metadata": {},
   "source": [
    "## Reduce"
   ]
  },
  {
   "cell_type": "code",
   "execution_count": null,
   "id": "42e9754f",
   "metadata": {},
   "outputs": [],
   "source": [
    "from functools import reduce\n",
    "\n",
    "\n",
    "def reduce_by_key(items_grouped_by_key, reduce_fn):\n",
    "    result = []\n",
    "    for key, items in items_grouped_by_key:\n",
    "        item_values = map(lambda x: x[1], items)\n",
    "        reduce_result = reduce(reduce_fn, item_values)\n",
    "        result.append((key, reduce_result))\n",
    "    return result \n",
    "\n",
    "\n",
    "word_count = reduce_by_key(word_freq_grouped, lambda a,b: a + b)\n",
    "word_count"
   ]
  }
 ],
 "metadata": {
  "kernelspec": {
   "display_name": "Python 3 (ipykernel)",
   "language": "python",
   "name": "python3"
  },
  "language_info": {
   "codemirror_mode": {
    "name": "ipython",
    "version": 3
   },
   "file_extension": ".py",
   "mimetype": "text/x-python",
   "name": "python",
   "nbconvert_exporter": "python",
   "pygments_lexer": "ipython3",
   "version": "3.10.9"
  }
 },
 "nbformat": 4,
 "nbformat_minor": 5
}
