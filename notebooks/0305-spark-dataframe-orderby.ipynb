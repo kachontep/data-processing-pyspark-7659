{
 "cells": [
  {
   "cell_type": "code",
   "execution_count": null,
   "id": "96ac0a4b",
   "metadata": {},
   "outputs": [],
   "source": [
    "spark"
   ]
  },
  {
   "cell_type": "markdown",
   "id": "3349ee4a",
   "metadata": {},
   "source": [
    "# DataFrame OrderBy"
   ]
  },
  {
   "cell_type": "code",
   "execution_count": null,
   "id": "1d580a72",
   "metadata": {},
   "outputs": [],
   "source": [
    "from pyspark.sql import functions as F\n",
    "from pyspark.sql import types as T"
   ]
  },
  {
   "cell_type": "code",
   "execution_count": null,
   "id": "ae0ab1b9",
   "metadata": {},
   "outputs": [],
   "source": [
    "simpleData = [\n",
    "    (\"James\",\"Sales\",\"NY\",90000,34,10000),\n",
    "    (\"Michael\",\"Sales\",\"NY\",86000,56,20000),\n",
    "    (\"Robert\",\"Sales\",\"CA\",81000,30,23000),\n",
    "    (\"Maria\",\"Finance\",\"CA\",90000,24,23000),\n",
    "    (\"Raman\",\"Finance\",\"CA\",99000,40,24000),\n",
    "    (\"Scott\",\"Finance\",\"NY\",83000,36,19000),\n",
    "    (\"Jen\",\"Finance\",\"NY\",79000,53,15000),\n",
    "    (\"Jeff\",\"Marketing\",\"CA\",80000,25,18000),\n",
    "    (\"Kumar\",\"Marketing\",\"NY\",91000,50,21000),\n",
    "]\n",
    "\n",
    "columns= [\"employee_name\",\"department\",\"state\",\"salary\",\"age\",\"bonus\"]\n",
    "\n",
    "df = spark.createDataFrame(data = simpleData, schema = columns)"
   ]
  },
  {
   "cell_type": "code",
   "execution_count": null,
   "id": "a0520869",
   "metadata": {},
   "outputs": [],
   "source": [
    "df.printSchema()"
   ]
  },
  {
   "cell_type": "code",
   "execution_count": null,
   "id": "df4bda65",
   "metadata": {},
   "outputs": [],
   "source": [
    "df.show(truncate=False)"
   ]
  },
  {
   "cell_type": "markdown",
   "id": "e4d70c2a",
   "metadata": {},
   "source": [
    "Because `orderBy` and `sort` are aliases, they are both interchanged in real usage."
   ]
  },
  {
   "cell_type": "code",
   "execution_count": null,
   "id": "1e7d4f9e",
   "metadata": {},
   "outputs": [],
   "source": [
    "df.sort(\"department\", \"state\").show(truncate=False) # Use ascending order by default"
   ]
  },
  {
   "cell_type": "code",
   "execution_count": null,
   "id": "21274f23",
   "metadata": {},
   "outputs": [],
   "source": [
    "df.orderBy(\"department\", \"state\").show(truncate=False); # Use orderBy instead"
   ]
  },
  {
   "cell_type": "code",
   "execution_count": null,
   "id": "bdf6754b",
   "metadata": {},
   "outputs": [],
   "source": [
    "df.sort(F.col(\"department\"), F.col(\"state\")).show(truncate=False) # Use col() to reference Column"
   ]
  },
  {
   "cell_type": "code",
   "execution_count": null,
   "id": "d5a67f07",
   "metadata": {},
   "outputs": [],
   "source": [
    "df.orderBy(F.col(\"department\"), F.col(\"state\")).show(truncate=False) # Use orderBy instead"
   ]
  },
  {
   "cell_type": "markdown",
   "id": "22b1fa08",
   "metadata": {},
   "source": [
    "## Order by ascending"
   ]
  },
  {
   "cell_type": "code",
   "execution_count": null,
   "id": "82188934",
   "metadata": {},
   "outputs": [],
   "source": [
    "df.sort(df.department.asc(), df.state.asc()).show(truncate=False)"
   ]
  },
  {
   "cell_type": "code",
   "execution_count": null,
   "id": "a75872b7",
   "metadata": {},
   "outputs": [],
   "source": [
    "df.sort(F.col(\"department\").asc(), F.col(\"state\").asc()).show(truncate=False)"
   ]
  },
  {
   "cell_type": "code",
   "execution_count": null,
   "id": "7b22fd3d",
   "metadata": {},
   "outputs": [],
   "source": [
    "df.orderBy(F.col(\"department\").asc(), F.col(\"state\").asc()).show(truncate=False)"
   ]
  },
  {
   "cell_type": "markdown",
   "id": "dfe9d2ff",
   "metadata": {},
   "source": [
    "## Order by mixing ascending and descending"
   ]
  },
  {
   "cell_type": "code",
   "execution_count": null,
   "id": "fec9eb6c",
   "metadata": {},
   "outputs": [],
   "source": [
    "df.sort(df.department.asc(),df.state.desc()).show(truncate=False)"
   ]
  },
  {
   "cell_type": "code",
   "execution_count": null,
   "id": "520a592e",
   "metadata": {},
   "outputs": [],
   "source": [
    "df.sort(F.col(\"department\").asc(), F.col(\"state\").desc()).show(truncate=False)"
   ]
  },
  {
   "cell_type": "code",
   "execution_count": null,
   "id": "f89bf676",
   "metadata": {},
   "outputs": [],
   "source": [
    "df.orderBy(F.col(\"department\").asc(), F.col(\"state\").desc()).show(truncate=False)"
   ]
  }
 ],
 "metadata": {
  "kernelspec": {
   "display_name": "PySpark",
   "language": "python",
   "name": "pysparkkernel"
  },
  "language_info": {
   "codemirror_mode": {
    "name": "python",
    "version": 3
   },
   "file_extension": ".py",
   "mimetype": "text/x-python",
   "name": "pyspark",
   "pygments_lexer": "python3"
  }
 },
 "nbformat": 4,
 "nbformat_minor": 5
}
