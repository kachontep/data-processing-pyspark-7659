{
 "cells": [
  {
   "cell_type": "code",
   "execution_count": null,
   "id": "ceda41ef",
   "metadata": {},
   "outputs": [],
   "source": [
    "spark"
   ]
  },
  {
   "cell_type": "markdown",
   "id": "9a52686a",
   "metadata": {},
   "source": [
    "## Convert column name to convention\n",
    "\n",
    "It is possible that there are variety of naming columns or fields of raw data, however we should have a common convention for our data in datalake so that data users can use it with intuition and no confusion.\n",
    "\n",
    "As our tables in raw have coluns in `camel-casing` convention, but we need `snake-casing` in our datalake.\n",
    "\n",
    "![Data Models](https://www.mysqltutorial.org/wp-content/uploads/2009/12/MySQL-Sample-Database-Schema.png)"
   ]
  },
  {
   "cell_type": "markdown",
   "id": "a5e00e52",
   "metadata": {},
   "source": [
    "For an example, `productlines` need to change columns as following:\n",
    "\n",
    "- `productLine` changed to `product_line`\n",
    "- `textDescription` chagned to `text_description`\n",
    "- `htmlDescription` changed to `html_description`\n",
    "- `image` nothing to change\n",
    "\n",
    "We need to transform column names and store all tranformed models in: `s3a://datalake/exercises/bronze/classicmodels/<table>.parquet`"
   ]
  },
  {
   "cell_type": "code",
   "execution_count": null,
   "id": "c93ebc5b",
   "metadata": {},
   "outputs": [],
   "source": [
    "def camel2snake(name):\n",
    "    \"\"\"Convert from camel-case to snake-case\"\"\"\n",
    "    result = []\n",
    "    for x, y in zip(name[:-1], name[1:]):\n",
    "        result.append(x.lower())\n",
    "        if x.islower() and (y.isupper() or y.isdigit()):\n",
    "            result.append(\"_\")\n",
    "    result.append(y.lower())\n",
    "    return \"\".join(result)"
   ]
  },
  {
   "cell_type": "markdown",
   "id": "72d04303",
   "metadata": {},
   "source": [
    "## Productlines"
   ]
  },
  {
   "cell_type": "code",
   "execution_count": null,
   "id": "9a3a2746",
   "metadata": {},
   "outputs": [],
   "source": [
    "raw_productlines = (\n",
    "    spark\n",
    "        .read\n",
    "        .format(\"parquet\")\n",
    "        .load(\"s3a://datalake/exercises/raw/classicmodels/productlines.parquet\")\n",
    ")"
   ]
  },
  {
   "cell_type": "code",
   "execution_count": null,
   "id": "60865994",
   "metadata": {},
   "outputs": [],
   "source": [
    "raw_productlines_columns = raw_productlines.columns\n",
    "bronze_productlines_columns = list(map(camel2snake, raw_productlines_columns))"
   ]
  },
  {
   "cell_type": "code",
   "execution_count": null,
   "id": "4eeb7711",
   "metadata": {},
   "outputs": [],
   "source": [
    "bronze_productlines = raw_productlines.toDF(*bronze_productlines_columns)\n",
    "bronze_productlines.printSchema()"
   ]
  },
  {
   "cell_type": "code",
   "execution_count": null,
   "id": "04a2ed21",
   "metadata": {},
   "outputs": [],
   "source": [
    "(\n",
    "    bronze_productlines\n",
    "        .write\n",
    "        .format(\"parquet\")\n",
    "        .mode(\"overwrite\")\n",
    "        .save(\"s3a://datalake/exercises/bronze/classicmodels/productlines.parquet\")\n",
    ")"
   ]
  },
  {
   "cell_type": "code",
   "execution_count": null,
   "id": "4207442b",
   "metadata": {},
   "outputs": [],
   "source": [
    "df = spark.read.format(\"parquet\").load(\"s3a://datalake/exercises/bronze/classicmodels/productlines.parquet\")\n",
    "\n",
    "assert sorted(df.columns) == ['html_description', 'image', 'product_line', 'text_description']"
   ]
  },
  {
   "cell_type": "markdown",
   "id": "f5ca3d79",
   "metadata": {},
   "source": [
    "## Products"
   ]
  },
  {
   "cell_type": "code",
   "execution_count": null,
   "id": "35d4c371",
   "metadata": {},
   "outputs": [],
   "source": [
    "raw_products = (\n",
    "    spark\n",
    "        .read\n",
    "        .format(\"parquet\")\n",
    "        .load(\"s3a://datalake/exercises/raw/classicmodels/products.parquet\")\n",
    ")"
   ]
  },
  {
   "cell_type": "code",
   "execution_count": null,
   "id": "fbcb4cc6",
   "metadata": {},
   "outputs": [],
   "source": [
    "raw_products_columns = raw_products.columns\n",
    "bronze_products_columns = list(map(camel2snake, raw_products_columns))"
   ]
  },
  {
   "cell_type": "code",
   "execution_count": null,
   "id": "60db3033",
   "metadata": {},
   "outputs": [],
   "source": [
    "bronze_products = raw_products.toDF(*bronze_products_columns)\n",
    "bronze_products.printSchema()"
   ]
  },
  {
   "cell_type": "code",
   "execution_count": null,
   "id": "07641d21",
   "metadata": {},
   "outputs": [],
   "source": [
    "(\n",
    "    bronze_products\n",
    "        .write\n",
    "        .format(\"parquet\")\n",
    "        .mode(\"overwrite\")\n",
    "        .save(\"s3a://datalake/exercises/bronze/classicmodels/products.parquet\")\n",
    ")"
   ]
  },
  {
   "cell_type": "code",
   "execution_count": null,
   "id": "fd347a68",
   "metadata": {},
   "outputs": [],
   "source": [
    "df = spark.read.format(\"parquet\").load(\"s3a://datalake/exercises/bronze/classicmodels/products.parquet\")\n",
    "\n",
    "assert sorted(df.columns) == ['buy_price', 'msrp', 'product_code',\n",
    "                              'product_description', 'product_line', 'product_name',\n",
    "                              'product_scale', 'product_vendor', 'quantity_in_stock']"
   ]
  },
  {
   "cell_type": "markdown",
   "id": "a1d30550",
   "metadata": {},
   "source": [
    "## Employees"
   ]
  },
  {
   "cell_type": "code",
   "execution_count": null,
   "id": "2f69ab57",
   "metadata": {},
   "outputs": [],
   "source": [
    "raw_employees = (\n",
    "    spark\n",
    "        .read\n",
    "        .format(\"parquet\")\n",
    "        .load(\"s3a://datalake/exercises/raw/classicmodels/employees.parquet\")\n",
    ")"
   ]
  },
  {
   "cell_type": "code",
   "execution_count": null,
   "id": "baa8a8cd",
   "metadata": {},
   "outputs": [],
   "source": [
    "raw_employees_columns = raw_employees.columns\n",
    "bronze_employees_columns = list(map(camel2snake, raw_employees_columns))"
   ]
  },
  {
   "cell_type": "code",
   "execution_count": null,
   "id": "b1acc1d2",
   "metadata": {},
   "outputs": [],
   "source": [
    "bronze_employees = raw_employees.toDF(*bronze_employees_columns)\n",
    "bronze_employees.printSchema()"
   ]
  },
  {
   "cell_type": "code",
   "execution_count": null,
   "id": "5757d912",
   "metadata": {},
   "outputs": [],
   "source": [
    "(\n",
    "    bronze_employees\n",
    "        .write\n",
    "        .format(\"parquet\")\n",
    "        .mode(\"overwrite\")\n",
    "        .save(\"s3a://datalake/exercises/bronze/classicmodels/employees.parquet\")\n",
    ")"
   ]
  },
  {
   "cell_type": "code",
   "execution_count": null,
   "id": "83bb8328",
   "metadata": {},
   "outputs": [],
   "source": [
    "df = spark.read.format(\"parquet\").load(\"s3a://datalake/exercises/bronze/classicmodels/employees.parquet\")\n",
    "\n",
    "assert sorted(df.columns) == ['email', 'employee_number', 'extension',\n",
    "                              'first_name', 'job_title', 'last_name',\n",
    "                              'office_code', 'reports_to']"
   ]
  },
  {
   "cell_type": "markdown",
   "id": "6856a5c1",
   "metadata": {},
   "source": [
    "## Offices"
   ]
  },
  {
   "cell_type": "code",
   "execution_count": null,
   "id": "aeb00a21",
   "metadata": {},
   "outputs": [],
   "source": [
    "raw_offices = (\n",
    "    spark\n",
    "        .read\n",
    "        .format(\"parquet\")\n",
    "        .load(\"s3a://datalake/exercises/raw/classicmodels/offices.parquet\")\n",
    ")"
   ]
  },
  {
   "cell_type": "code",
   "execution_count": null,
   "id": "b0089093",
   "metadata": {},
   "outputs": [],
   "source": [
    "raw_offices_columns = raw_offices.columns\n",
    "bronze_offices_columns = list(map(camel2snake, raw_offices_columns))"
   ]
  },
  {
   "cell_type": "code",
   "execution_count": null,
   "id": "b64aa5d3",
   "metadata": {},
   "outputs": [],
   "source": [
    "bronze_offices = raw_offices.toDF(*bronze_offices_columns)\n",
    "bronze_offices.printSchema()"
   ]
  },
  {
   "cell_type": "code",
   "execution_count": null,
   "id": "4d9d8d53",
   "metadata": {},
   "outputs": [],
   "source": [
    "(\n",
    "    bronze_offices\n",
    "        .write\n",
    "        .format(\"parquet\")\n",
    "        .mode(\"overwrite\")\n",
    "        .save(\"s3a://datalake/exercises/bronze/classicmodels/offices.parquet\")\n",
    ")"
   ]
  },
  {
   "cell_type": "code",
   "execution_count": null,
   "id": "c3c9a049",
   "metadata": {},
   "outputs": [],
   "source": [
    "df = spark.read.format(\"parquet\").load(\"s3a://datalake/exercises/bronze/classicmodels/offices.parquet\")\n",
    "\n",
    "assert sorted(df.columns) == ['address_line_1', 'address_line_2', 'city',\n",
    "                              'country', 'office_code', 'phone',\n",
    "                              'postal_code', 'state', 'territory']"
   ]
  },
  {
   "cell_type": "markdown",
   "id": "e4491128",
   "metadata": {},
   "source": [
    "## Customers"
   ]
  },
  {
   "cell_type": "code",
   "execution_count": null,
   "id": "f36a1326",
   "metadata": {},
   "outputs": [],
   "source": [
    "raw_customers = (\n",
    "    spark\n",
    "        .read\n",
    "        .format(\"parquet\")\n",
    "        .load(\"s3a://datalake/exercises/raw/classicmodels/customers.parquet\")\n",
    ")"
   ]
  },
  {
   "cell_type": "code",
   "execution_count": null,
   "id": "5e595d8d",
   "metadata": {},
   "outputs": [],
   "source": [
    "raw_customers_columns = raw_customers.columns\n",
    "bronze_customers_columns = list(map(camel2snake, raw_customers_columns))"
   ]
  },
  {
   "cell_type": "code",
   "execution_count": null,
   "id": "cf48a6d8",
   "metadata": {},
   "outputs": [],
   "source": [
    "bronze_customers = raw_customers.toDF(*bronze_customers_columns)\n",
    "bronze_customers.printSchema()"
   ]
  },
  {
   "cell_type": "code",
   "execution_count": null,
   "id": "564b56fa",
   "metadata": {},
   "outputs": [],
   "source": [
    "(\n",
    "    bronze_customers\n",
    "        .write\n",
    "        .format(\"parquet\")\n",
    "        .save(\"s3a://datalake/exercises/bronze/classicmodels/customers.parquet\")\n",
    ")"
   ]
  },
  {
   "cell_type": "code",
   "execution_count": null,
   "id": "bd44a075",
   "metadata": {},
   "outputs": [],
   "source": [
    "df = spark.read.format(\"parquet\").load(\"s3a://datalake/exercises/bronze/classicmodels/customers.parquet\")\n",
    "\n",
    "assert sorted(df.columns) == ['address_line_1', 'address_line_2', 'city',\n",
    "                              'contact_first_name', 'contact_last_name', 'country',\n",
    "                              'credit_limit', 'customer_name', 'customer_number',\n",
    "                              'phone', 'postal_code', 'sales_rep_employee_number',\n",
    "                              'state']"
   ]
  },
  {
   "cell_type": "markdown",
   "id": "41399035",
   "metadata": {},
   "source": [
    "## Payments"
   ]
  },
  {
   "cell_type": "code",
   "execution_count": null,
   "id": "46ea837c",
   "metadata": {},
   "outputs": [],
   "source": [
    "raw_payments = (\n",
    "    spark\n",
    "        .read\n",
    "        .format(\"parquet\")\n",
    "        .load(\"s3a://datalake/exercises/raw/classicmodels/payments.parquet\")\n",
    ")"
   ]
  },
  {
   "cell_type": "code",
   "execution_count": null,
   "id": "022e0488",
   "metadata": {},
   "outputs": [],
   "source": [
    "raw_payments_columns = raw_payments.columns\n",
    "bronze_payments_columns = list(map(camel2snake, raw_payments_columns))"
   ]
  },
  {
   "cell_type": "code",
   "execution_count": null,
   "id": "421ee196",
   "metadata": {},
   "outputs": [],
   "source": [
    "bronze_payments = raw_payments.toDF(*bronze_payments_columns)\n",
    "bronze_payments.printSchema()"
   ]
  },
  {
   "cell_type": "code",
   "execution_count": null,
   "id": "d66e9e18",
   "metadata": {},
   "outputs": [],
   "source": [
    "(\n",
    "    bronze_payments\n",
    "        .write\n",
    "        .format(\"parquet\")\n",
    "        .save(\"s3a://datalake/exercises/bronze/classicmodels/payments.parquet\")\n",
    ")"
   ]
  },
  {
   "cell_type": "code",
   "execution_count": null,
   "id": "2d12e820",
   "metadata": {},
   "outputs": [],
   "source": [
    "df = spark.read.format(\"parquet\").load(\"s3a://datalake/exercises/bronze/classicmodels/payments.parquet\")\n",
    "\n",
    "assert sorted(df.columns) == ['amount', 'check_number', 'customer_number', 'payment_date']"
   ]
  },
  {
   "cell_type": "markdown",
   "id": "2a6a28e2",
   "metadata": {},
   "source": [
    "## Orders"
   ]
  },
  {
   "cell_type": "code",
   "execution_count": null,
   "id": "7956b00f",
   "metadata": {},
   "outputs": [],
   "source": [
    "raw_orders = (\n",
    "    spark\n",
    "        .read\n",
    "        .format(\"parquet\")\n",
    "        .load(\"s3a://datalake/exercises/raw/classicmodels/orders.parquet\")\n",
    ")"
   ]
  },
  {
   "cell_type": "code",
   "execution_count": null,
   "id": "6f94f510",
   "metadata": {},
   "outputs": [],
   "source": [
    "raw_orders_columns = raw_orders.columns\n",
    "bronze_orders_columns = list(map(camel2snake, raw_orders_columns))"
   ]
  },
  {
   "cell_type": "code",
   "execution_count": null,
   "id": "a56ce5dd",
   "metadata": {},
   "outputs": [],
   "source": [
    "bronze_orders = raw_orders.toDF(*bronze_orders_columns)\n",
    "bronze_orders.printSchema()"
   ]
  },
  {
   "cell_type": "code",
   "execution_count": null,
   "id": "9c0ade07",
   "metadata": {},
   "outputs": [],
   "source": [
    "(\n",
    "    bronze_orders\n",
    "        .write\n",
    "        .format(\"parquet\")\n",
    "        .mode(\"overwrite\")\n",
    "        .save(\"s3a://datalake/exercises/bronze/classicmodels/orders.parquet\")\n",
    ")"
   ]
  },
  {
   "cell_type": "code",
   "execution_count": null,
   "id": "d5d2575b",
   "metadata": {},
   "outputs": [],
   "source": [
    "df = spark.read.format(\"parquet\").load(\"s3a://datalake/exercises/bronze/classicmodels/orders.parquet\")\n",
    "\n",
    "assert sorted(df.columns) == ['comments', 'customer_number', 'order_date',\n",
    "                              'order_number', 'required_date', 'shipped_date',\n",
    "                              'status']"
   ]
  },
  {
   "cell_type": "markdown",
   "id": "892c1660",
   "metadata": {},
   "source": [
    "## Orderdetails"
   ]
  },
  {
   "cell_type": "code",
   "execution_count": null,
   "id": "a5b6db25",
   "metadata": {},
   "outputs": [],
   "source": [
    "raw_orderdetails = (\n",
    "    spark\n",
    "        .read\n",
    "        .format(\"parquet\")\n",
    "        .load(\"s3a://datalake/exercises/raw/classicmodels/orderdetails.parquet\")\n",
    ")"
   ]
  },
  {
   "cell_type": "code",
   "execution_count": null,
   "id": "2e836f16",
   "metadata": {},
   "outputs": [],
   "source": [
    "raw_orderdetails_columns = raw_orderdetails.columns\n",
    "bronze_orderdetails_columns = list(map(camel2snake, raw_orderdetails_columns))"
   ]
  },
  {
   "cell_type": "code",
   "execution_count": null,
   "id": "12b31ff1",
   "metadata": {},
   "outputs": [],
   "source": [
    "bronze_orderdetails = raw_orderdetails.toDF(*bronze_orderdetails_columns)\n",
    "bronze_orderdetails.printSchema()"
   ]
  },
  {
   "cell_type": "code",
   "execution_count": null,
   "id": "58da5813",
   "metadata": {},
   "outputs": [],
   "source": [
    "(\n",
    "    bronze_orderdetails\n",
    "        .write\n",
    "        .format(\"parquet\")\n",
    "        .mode(\"overwrite\")\n",
    "        .save(\"s3a://datalake/exercises/bronze/classicmodels/orderdetails.parquet\")\n",
    ")"
   ]
  },
  {
   "cell_type": "code",
   "execution_count": null,
   "id": "842b5945",
   "metadata": {},
   "outputs": [],
   "source": [
    "df = spark.read.format(\"parquet\").load(\"s3a://datalake/exercises/bronze/classicmodels/orderdetails.parquet\")\n",
    "\n",
    "assert sorted(df.columns) == ['order_line_number', 'order_number', 'price_each', 'product_code', 'quantity_ordered']"
   ]
  }
 ],
 "metadata": {
  "kernelspec": {
   "display_name": "PySpark",
   "language": "python",
   "name": "pysparkkernel"
  },
  "language_info": {
   "codemirror_mode": {
    "name": "python",
    "version": 3
   },
   "file_extension": ".py",
   "mimetype": "text/x-python",
   "name": "pyspark",
   "pygments_lexer": "python3"
  }
 },
 "nbformat": 4,
 "nbformat_minor": 5
}
