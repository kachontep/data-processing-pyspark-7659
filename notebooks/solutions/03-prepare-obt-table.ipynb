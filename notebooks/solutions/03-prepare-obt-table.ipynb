{
 "cells": [
  {
   "cell_type": "code",
   "execution_count": null,
   "id": "856cd68e",
   "metadata": {},
   "outputs": [],
   "source": [
    "spark"
   ]
  },
  {
   "cell_type": "markdown",
   "id": "f0425281",
   "metadata": {},
   "source": [
    "# OBT (One Big Table)\n",
    "\n",
    "For a large scale data processing, reducing joining among data models make processing easier. This **OBT** is quite a counter-intuitive design compared to **star schema**, but it is very useful. Further more about OBT [here](https://www.fivetran.com/blog/star-schema-vs-obt)\n",
    "\n",
    "In this labe we will make an OBT for `orders`, `orderdetails` and `products`.\n",
    "\n",
    "![Data Models](https://www.mysqltutorial.org/wp-content/uploads/2009/12/MySQL-Sample-Database-Schema.png)"
   ]
  },
  {
   "cell_type": "code",
   "execution_count": null,
   "id": "1025e26f",
   "metadata": {},
   "outputs": [],
   "source": [
    "from pyspark.sql import functions as F"
   ]
  },
  {
   "cell_type": "markdown",
   "id": "f5471395",
   "metadata": {},
   "source": [
    "## Load data for all related models"
   ]
  },
  {
   "cell_type": "code",
   "execution_count": null,
   "id": "cd4a5e4d",
   "metadata": {},
   "outputs": [],
   "source": [
    "def load_bronze_table(table):\n",
    "    return (\n",
    "        spark\n",
    "            .read\n",
    "            .format(\"parquet\")\n",
    "            .load(f\"s3a://datalake/exercises/bronze/classicmodels/{table}.parquet\")\n",
    "    )"
   ]
  },
  {
   "cell_type": "code",
   "execution_count": null,
   "id": "d58c857d",
   "metadata": {},
   "outputs": [],
   "source": [
    "orders = load_bronze_table(\"orders\")\n",
    "orderdetails = load_bronze_table(\"orderdetails\")\n",
    "products = load_bronze_table(\"products\")"
   ]
  },
  {
   "cell_type": "code",
   "execution_count": null,
   "id": "ec0feb8e",
   "metadata": {},
   "outputs": [],
   "source": [
    "orders.count(), orderdetails.count(), products.count()"
   ]
  },
  {
   "cell_type": "markdown",
   "id": "0c6e47e9",
   "metadata": {},
   "source": [
    "## Join related models together"
   ]
  },
  {
   "cell_type": "code",
   "execution_count": null,
   "id": "a4e41afe",
   "metadata": {},
   "outputs": [],
   "source": [
    "%%local\n",
    "from IPython.display import display, HTML\n",
    "display(HTML(\"<style>.container { width:100% !important; }</style>\"))"
   ]
  },
  {
   "cell_type": "code",
   "execution_count": null,
   "id": "d705f7b9",
   "metadata": {},
   "outputs": [],
   "source": [
    "orderfulldetails = (\n",
    "    orders\n",
    "        .join(orderdetails, orders.order_number == orderdetails.order_number, \"leftouter\")\n",
    "        .join(products, orderdetails.product_code == products.product_code, \"leftouter\")\n",
    "        .drop(orderdetails.order_number)\n",
    "        .drop(products.product_code)\n",
    ")"
   ]
  },
  {
   "cell_type": "code",
   "execution_count": null,
   "id": "a8510c20",
   "metadata": {},
   "outputs": [],
   "source": [
    "orderfulldetails.printSchema()"
   ]
  },
  {
   "cell_type": "code",
   "execution_count": null,
   "id": "fe465126",
   "metadata": {},
   "outputs": [],
   "source": [
    "orderfulldetails.show(n=1, vertical=True)"
   ]
  },
  {
   "cell_type": "code",
   "execution_count": null,
   "id": "cfdd0b14",
   "metadata": {},
   "outputs": [],
   "source": [
    "orderfulldetails.count()"
   ]
  },
  {
   "cell_type": "markdown",
   "id": "463a0fb4",
   "metadata": {},
   "source": [
    "## Save OBT model to datalake\n",
    "\n",
    "The expected destination path is: `s3a://datalake/exercises/bronze/classicmodels/orderfulldetails.parquet`"
   ]
  },
  {
   "cell_type": "code",
   "execution_count": null,
   "id": "72ea1a94",
   "metadata": {},
   "outputs": [],
   "source": [
    "(\n",
    "    orderfulldetails\n",
    "        .write\n",
    "        .format(\"parquet\")\n",
    "        .mode(\"overwrite\")\n",
    "        .save(\"s3a://datalake/exercises/bronze/classicmodels/orderfulldetails.parquet\")\n",
    ")"
   ]
  },
  {
   "cell_type": "code",
   "execution_count": null,
   "id": "ce165e3d",
   "metadata": {},
   "outputs": [],
   "source": [
    "row_count = spark.read.format(\"parquet\").load(\"s3a://datalake/exercises/bronze/classicmodels/orderfulldetails.parquet\").count()\n",
    "\n",
    "assert row_count == 2996, \"Orderfulldetails was not valid\""
   ]
  }
 ],
 "metadata": {
  "kernelspec": {
   "display_name": "PySpark",
   "language": "python",
   "name": "pysparkkernel"
  },
  "language_info": {
   "codemirror_mode": {
    "name": "python",
    "version": 3
   },
   "file_extension": ".py",
   "mimetype": "text/x-python",
   "name": "pyspark",
   "pygments_lexer": "python3"
  }
 },
 "nbformat": 4,
 "nbformat_minor": 5
}
