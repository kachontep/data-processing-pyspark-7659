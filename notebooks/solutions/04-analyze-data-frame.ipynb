{
 "cells": [
  {
   "cell_type": "code",
   "execution_count": null,
   "id": "a202115f",
   "metadata": {},
   "outputs": [],
   "source": [
    "spark"
   ]
  },
  {
   "cell_type": "markdown",
   "id": "cc4040a1",
   "metadata": {},
   "source": [
    "# Explore data models"
   ]
  },
  {
   "cell_type": "markdown",
   "id": "796d82a0",
   "metadata": {},
   "source": [
    "As from the data models, we will try to analyze the insight from the data using Spark Data Frame API.\n",
    "\n",
    "![Data Models](https://www.mysqltutorial.org/wp-content/uploads/2009/12/MySQL-Sample-Database-Schema.png)"
   ]
  },
  {
   "cell_type": "markdown",
   "id": "e7502497",
   "metadata": {},
   "source": [
    "# Problems to analyze"
   ]
  },
  {
   "cell_type": "code",
   "execution_count": null,
   "id": "27b310cc",
   "metadata": {},
   "outputs": [],
   "source": [
    "from pyspark.sql import DataFrame\n",
    "from pyspark.sql import functions as F"
   ]
  },
  {
   "cell_type": "markdown",
   "id": "e412ba5a",
   "metadata": {},
   "source": [
    "#### Helper function to load data frame"
   ]
  },
  {
   "cell_type": "code",
   "execution_count": null,
   "id": "46723177",
   "metadata": {},
   "outputs": [],
   "source": [
    "def load_data(table_name: str) -> DataFrame:\n",
    "    return (\n",
    "        spark\n",
    "        .read\n",
    "        .format(\"parquet\")\n",
    "        .load(f\"s3a://datalake/exercises/bronze/classicmodels/{table_name}.parquet\")\n",
    "    )"
   ]
  },
  {
   "cell_type": "markdown",
   "id": "c4fcef58",
   "metadata": {},
   "source": [
    "#### Load essential models to analyze and cache"
   ]
  },
  {
   "cell_type": "code",
   "execution_count": null,
   "id": "71ca2b09",
   "metadata": {},
   "outputs": [],
   "source": [
    "# customers\n",
    "customers = load_data(\"customers\").cache()\n",
    "\n",
    "# offices\n",
    "offices = load_data(\"offices\").cache()\n",
    "\n",
    "# employees\n",
    "employees = load_data(\"employees\").cache()\n",
    "\n",
    "# orders\n",
    "orders = load_data(\"orders\").cache()\n",
    "\n",
    "# payments\n",
    "payments = load_data(\"payments\").cache()\n",
    "\n",
    "# orderdetails\n",
    "orderdetails = load_data(\"orderdetails\").cache()\n",
    "\n",
    "# products\n",
    "products = load_data(\"products\").cache()\n",
    "\n",
    "# productlines\n",
    "productlines = load_data(\"productlines\").cache()\n"
   ]
  },
  {
   "cell_type": "markdown",
   "id": "b923470c",
   "metadata": {},
   "source": [
    "### Customer with the highest credit limit"
   ]
  },
  {
   "cell_type": "markdown",
   "id": "2e71f198",
   "metadata": {},
   "source": [
    "**Proof check**: Ensure that the table contains unique customer"
   ]
  },
  {
   "cell_type": "code",
   "execution_count": null,
   "id": "72439d22",
   "metadata": {},
   "outputs": [],
   "source": [
    "assert customers.select(F.col(\"customer_name\")).distinct().count() == customers.count(), \"customers table may contains duplicate records\""
   ]
  },
  {
   "cell_type": "code",
   "execution_count": null,
   "id": "9cac3dd1",
   "metadata": {},
   "outputs": [],
   "source": [
    "(\n",
    "    customers\n",
    "    .sort(F.col(\"credit_limit\").desc())\n",
    "    .limit(1)\n",
    "    .select(\n",
    "        F.col(\"customer_name\"),\n",
    "        F.col(\"credit_limit\"),\n",
    "    ).show(truncate=False)\n",
    ")"
   ]
  },
  {
   "cell_type": "markdown",
   "id": "832d7eaa",
   "metadata": {},
   "source": [
    "### Customers with the highest spending in year"
   ]
  },
  {
   "cell_type": "code",
   "execution_count": null,
   "id": "540960c1",
   "metadata": {},
   "outputs": [],
   "source": [
    "x = (\n",
    "    customers\n",
    "    .join(payments, \"customer_number\", \"inner\")\n",
    "    .select(\"customer_number\", \"customer_name\", \"payment_date\", \"amount\")\n",
    "    .withColumn(\"payment_date\", F.to_date(F.col(\"payment_date\")))\n",
    "    .withColumn(\"payment_year\", F.year(F.col(\"payment_date\")))\n",
    "    .withColumn(\"payment_year_month\", F.date_format(F.col(\"payment_date\"), \"yyyyMM\"))\n",
    ")"
   ]
  },
  {
   "cell_type": "code",
   "execution_count": null,
   "id": "8df34ea1",
   "metadata": {},
   "outputs": [],
   "source": [
    "x.show(truncate=False)"
   ]
  },
  {
   "cell_type": "code",
   "execution_count": null,
   "id": "fc515066",
   "metadata": {},
   "outputs": [],
   "source": [
    "(\n",
    "    x\n",
    "    .groupby(\"payment_year\", \"customer_number\")\n",
    "    .agg(F.sum(\"amount\").alias(\"year_amount\"))\n",
    ")"
   ]
  },
  {
   "cell_type": "markdown",
   "id": "12be0b67",
   "metadata": {},
   "source": [
    "### Customer with the highest spending in month"
   ]
  },
  {
   "cell_type": "code",
   "execution_count": null,
   "id": "18d9cbfa",
   "metadata": {},
   "outputs": [],
   "source": [
    "# CODE HERE"
   ]
  },
  {
   "cell_type": "markdown",
   "id": "2f7887df",
   "metadata": {},
   "source": [
    "### Customer with the highest spending in all time"
   ]
  },
  {
   "cell_type": "code",
   "execution_count": null,
   "id": "f595986e",
   "metadata": {},
   "outputs": [],
   "source": [
    "# CODE HERE"
   ]
  },
  {
   "cell_type": "markdown",
   "id": "6f014da3",
   "metadata": {},
   "source": [
    "### Average customer spending"
   ]
  },
  {
   "cell_type": "code",
   "execution_count": null,
   "id": "01a4f7b2",
   "metadata": {},
   "outputs": [],
   "source": [
    "# CODE HERE"
   ]
  },
  {
   "cell_type": "markdown",
   "id": "bebd5f57",
   "metadata": {},
   "source": [
    "### Average customer spending in year"
   ]
  },
  {
   "cell_type": "code",
   "execution_count": null,
   "id": "2bd17ac7",
   "metadata": {},
   "outputs": [],
   "source": [
    "# CODE HERE"
   ]
  },
  {
   "cell_type": "markdown",
   "id": "3acf11dc",
   "metadata": {},
   "source": [
    "### The number of offices"
   ]
  },
  {
   "cell_type": "code",
   "execution_count": null,
   "id": "20b34d2b",
   "metadata": {},
   "outputs": [],
   "source": [
    "# CODE HERE"
   ]
  },
  {
   "cell_type": "markdown",
   "id": "1a03eabc",
   "metadata": {},
   "source": [
    "### The number of employees in offices"
   ]
  },
  {
   "cell_type": "code",
   "execution_count": null,
   "id": "26c55e76",
   "metadata": {},
   "outputs": [],
   "source": [
    "# CODE HERE"
   ]
  },
  {
   "cell_type": "markdown",
   "id": "4392d16d",
   "metadata": {},
   "source": [
    "#### Question: Is there an office without employees"
   ]
  },
  {
   "cell_type": "code",
   "execution_count": null,
   "id": "d8229395",
   "metadata": {},
   "outputs": [],
   "source": [
    "# CODE HERE"
   ]
  },
  {
   "cell_type": "markdown",
   "id": "22537a40",
   "metadata": {},
   "source": [
    "### Office with the highest number of employees"
   ]
  },
  {
   "cell_type": "code",
   "execution_count": null,
   "id": "64bbf23e",
   "metadata": {},
   "outputs": [],
   "source": [
    "# CODE HERE"
   ]
  },
  {
   "cell_type": "markdown",
   "id": "bedc47a6",
   "metadata": {},
   "source": [
    "### Product has the highest number of orders"
   ]
  },
  {
   "cell_type": "code",
   "execution_count": null,
   "id": "0a6f42f5",
   "metadata": {},
   "outputs": [],
   "source": [
    "# CODE HERE"
   ]
  },
  {
   "cell_type": "markdown",
   "id": "39f80090",
   "metadata": {},
   "source": [
    "### Product has the highest value in sale"
   ]
  },
  {
   "cell_type": "code",
   "execution_count": null,
   "id": "c50dad2d",
   "metadata": {},
   "outputs": [],
   "source": [
    "# CODE HERE"
   ]
  }
 ],
 "metadata": {
  "kernelspec": {
   "display_name": "PySpark",
   "language": "python",
   "name": "pysparkkernel"
  },
  "language_info": {
   "codemirror_mode": {
    "name": "python",
    "version": 3
   },
   "file_extension": ".py",
   "mimetype": "text/x-python",
   "name": "pyspark",
   "pygments_lexer": "python3"
  }
 },
 "nbformat": 4,
 "nbformat_minor": 5
}
