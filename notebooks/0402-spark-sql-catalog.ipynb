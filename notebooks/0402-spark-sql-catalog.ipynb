{
 "cells": [
  {
   "cell_type": "code",
   "execution_count": null,
   "id": "2e92fbea",
   "metadata": {},
   "outputs": [],
   "source": [
    "%%configure\n",
    "{\n",
    "    \"driverMemory\": \"1000M\",\n",
    "    \"executorCores\": 1,\n",
    "    \"conf\": {\n",
    "        \"spark.jars.packages\": \"org.apache.iceberg:iceberg-spark-runtime-3.2_2.12:1.3.0,software.amazon.awssdk:bundle:2.20.103,software.amazon.awssdk:url-connection-client:2.20.103\",\n",
    "        \"spark.sql.extensions\": \"org.apache.iceberg.spark.extensions.IcebergSparkSessionExtensions\",\n",
    "        \"spark.sql.catalog.s3_catalog\": \"org.apache.iceberg.spark.SparkCatalog\",\n",
    "        \"spark.sql.catalog.s3_catalog.type\": \"hadoop\",\n",
    "        \"spark.sql.catalog.s3_catalog.warehouse\": \"s3a://datalake/warehouse/\",\n",
    "        \"spark.sql.catalog.s3_catalog.io-impl\": \"org.apache.iceberg.aws.s3.S3FileIO\",\n",
    "        \"spark.sql.defaultCatalog\": \"s3_catalog\"\n",
    "    }\n",
    "}"
   ]
  },
  {
   "cell_type": "code",
   "execution_count": null,
   "id": "37702bb2",
   "metadata": {},
   "outputs": [],
   "source": [
    "spark"
   ]
  },
  {
   "cell_type": "code",
   "execution_count": null,
   "id": "c2bd8479",
   "metadata": {},
   "outputs": [],
   "source": [
    "spark.sql(\"describe database s3_catalog.test_db\").show(truncate=False)"
   ]
  },
  {
   "cell_type": "code",
   "execution_count": null,
   "id": "54e3066b",
   "metadata": {},
   "outputs": [],
   "source": [
    "import os\n",
    "os.environ[\"AWS_ENDPOINT_URL\"] = \"http://localhost:9000\""
   ]
  },
  {
   "cell_type": "code",
   "execution_count": null,
   "id": "5323189e",
   "metadata": {},
   "outputs": [],
   "source": [
    "spark.sql(\"create external table s3_catalog.test_db.test_tbl (id bigint, first_name string, last_name string)\")"
   ]
  }
 ],
 "metadata": {
  "kernelspec": {
   "display_name": "PySpark",
   "language": "python",
   "name": "pysparkkernel"
  },
  "language_info": {
   "codemirror_mode": {
    "name": "python",
    "version": 3
   },
   "file_extension": ".py",
   "mimetype": "text/x-python",
   "name": "pyspark",
   "pygments_lexer": "python3"
  }
 },
 "nbformat": 4,
 "nbformat_minor": 5
}
