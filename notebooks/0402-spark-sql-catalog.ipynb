{
 "cells": [
  {
   "cell_type": "markdown",
   "id": "1a62b1b8",
   "metadata": {},
   "source": [
    "# Spark SQL External Catalog System"
   ]
  },
  {
   "cell_type": "markdown",
   "id": "3384c70d",
   "metadata": {},
   "source": [
    "## Prepare database for external catalog system"
   ]
  },
  {
   "cell_type": "code",
   "execution_count": null,
   "id": "81c0be99",
   "metadata": {},
   "outputs": [],
   "source": [
    "%%sh\n",
    "mysql -e 'create database if not exists iceberg'"
   ]
  },
  {
   "cell_type": "markdown",
   "id": "f2382d04",
   "metadata": {},
   "source": [
    "## Configure Spark to connect with External Catalog"
   ]
  },
  {
   "cell_type": "code",
   "execution_count": null,
   "id": "7076095c",
   "metadata": {},
   "outputs": [],
   "source": [
    "%%configure\n",
    "{\n",
    "    \"driverMemory\": \"1000M\",\n",
    "    \"executorCores\": 1,\n",
    "    \"conf\": {\n",
    "        \"spark.jars.packages\": \"org.apache.iceberg:iceberg-spark-runtime-3.2_2.12:1.3.0,software.amazon.awssdk:bundle:2.18.41,software.amazon.awssdk:url-connection-client:2.18.41,software.amazon.awssdk:utils:2.18.41\",\n",
    "        \"spark.sql.extensions\": \"org.apache.iceberg.spark.extensions.IcebergSparkSessionExtensions\",\n",
    "        \"spark.sql.catalog.iceberg\": \"org.apache.iceberg.spark.SparkCatalog\",\n",
    "        \"spark.sql.catalog.iceberg.catalog-impl\": \"org.apache.iceberg.jdbc.JdbcCatalog\",\n",
    "        \"spark.sql.catalog.iceberg.warehouse\": \"s3a://datalake/warehouse/\",\n",
    "        \"spark.sql.catalog.iceberg.io-impl\": \"org.apache.iceberg.aws.s3.S3FileIO\",\n",
    "        \"spark.sql.catalog.iceberg.s3.endpoint\": \"http://127.0.0.1:9000\",\n",
    "        \"spark.sql.catalog.iceberg.uri\": \"jdbc:mysql://localhost/iceberg\",\n",
    "        \"spark.sql.catalog.iceberg.jdbc.user\": \"root\",\n",
    "        \"spark.sql.catalog.iceberg.jdbc.password\": \"\",\n",
    "        \"spark.sql.catalog.iceberg.jdbc.useSSL\": \"false\",\n",
    "        \"spark.sql.defaultCatalog\": \"iceberg\"\n",
    "    }\n",
    "}"
   ]
  },
  {
   "cell_type": "markdown",
   "id": "218c586d",
   "metadata": {},
   "source": [
    "## Create Spark Session after configuring Spark configuration"
   ]
  },
  {
   "cell_type": "code",
   "execution_count": null,
   "id": "37702bb2",
   "metadata": {},
   "outputs": [],
   "source": [
    "spark"
   ]
  },
  {
   "cell_type": "code",
   "execution_count": null,
   "id": "5822d61b",
   "metadata": {},
   "outputs": [],
   "source": [
    "%%sql\n",
    "\n",
    "create database if not exists mydb"
   ]
  },
  {
   "cell_type": "code",
   "execution_count": null,
   "id": "421419ee",
   "metadata": {},
   "outputs": [],
   "source": [
    "%%sql\n",
    "\n",
    "create table if not exists mydb.employees (\n",
    "    employee_name string,\n",
    "    department string,\n",
    "    state string,\n",
    "    salary integer,\n",
    "    age integer,\n",
    "    bonus integer\n",
    ")\n",
    "\n",
    "using iceberg\n"
   ]
  },
  {
   "cell_type": "code",
   "execution_count": null,
   "id": "6b7dd621",
   "metadata": {},
   "outputs": [],
   "source": [
    "%%sql\n",
    "\n",
    "describe table mydb.employees\n"
   ]
  },
  {
   "cell_type": "code",
   "execution_count": null,
   "id": "706e86de",
   "metadata": {},
   "outputs": [],
   "source": [
    "%%sql\n",
    "\n",
    "insert into mydb.employees\n",
    "    (employee_name, department, state, salary, age, bonus)\n",
    "values\n",
    "    ('James','Sales','NY',90000,34,10000),\n",
    "    ('Michael','Sales','NY',86000,56,20000),\n",
    "    ('Robert','Sales','CA',81000,30,23000),\n",
    "    ('Maria','Finance','CA',90000,24,23000),\n",
    "    ('Raman','Finance','CA',99000,40,24000),\n",
    "    ('Scott','Finance','NY',83000,36,19000),\n",
    "    ('Jen','Finance','NY',79000,53,15000),\n",
    "    ('Jeff','Marketing','CA',80000,25,18000),\n",
    "    ('Kumar','Marketing','NY',91000,50,21000)\n"
   ]
  },
  {
   "cell_type": "code",
   "execution_count": null,
   "id": "d7f9556d",
   "metadata": {},
   "outputs": [],
   "source": [
    "%%sql\n",
    "\n",
    "select count(*) from mydb.employees\n"
   ]
  },
  {
   "cell_type": "code",
   "execution_count": null,
   "id": "8f9f5d49",
   "metadata": {},
   "outputs": [],
   "source": [
    "%%sql\n",
    "\n",
    "select * from mydb.employees\n"
   ]
  }
 ],
 "metadata": {
  "kernelspec": {
   "display_name": "PySpark",
   "language": "python",
   "name": "pysparkkernel"
  },
  "language_info": {
   "codemirror_mode": {
    "name": "python",
    "version": 3
   },
   "file_extension": ".py",
   "mimetype": "text/x-python",
   "name": "pyspark",
   "pygments_lexer": "python3"
  }
 },
 "nbformat": 4,
 "nbformat_minor": 5
}
