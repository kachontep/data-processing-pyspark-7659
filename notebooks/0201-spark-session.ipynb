{
 "cells": [
  {
   "cell_type": "markdown",
   "id": "90043b7a",
   "metadata": {},
   "source": [
    "# How to create a SparkSession"
   ]
  },
  {
   "cell_type": "markdown",
   "id": "7268e91c",
   "metadata": {},
   "source": [
    "In this notebook environment, we cannot redefine `master` property because an instance of `SparkSession` was created already. However the examples of how to create a `SparkSession` instance are useful"
   ]
  },
  {
   "cell_type": "code",
   "execution_count": null,
   "id": "3796fbbc",
   "metadata": {},
   "outputs": [],
   "source": [
    "import pyspark\n",
    "from pyspark.sql import SparkSession"
   ]
  },
  {
   "cell_type": "code",
   "execution_count": null,
   "id": "6ae538c6",
   "metadata": {},
   "outputs": [],
   "source": [
    "spark = SparkSession.builder.master(\"local[1]\") \\\n",
    "                    .appName('SparkByExamples.com') \\\n",
    "                    .getOrCreate()\n",
    "\n",
    "print(\"First SparkContext:\");\n",
    "print(\"APP Name :\"+spark.sparkContext.appName);\n",
    "print(\"Master :\"+spark.sparkContext.master);"
   ]
  },
  {
   "cell_type": "code",
   "execution_count": null,
   "id": "5e705003",
   "metadata": {},
   "outputs": [],
   "source": [
    "sparkSession2 = SparkSession.builder \\\n",
    "      .master(\"local[1]\") \\\n",
    "      .appName(\"SparkByExample-test\") \\\n",
    "      .getOrCreate();\n",
    "\n",
    "print(\"Second SparkContext:\")\n",
    "print(\"APP Name :\"+sparkSession2.sparkContext.appName);\n",
    "print(\"Master :\"+sparkSession2.sparkContext.master);"
   ]
  },
  {
   "cell_type": "code",
   "execution_count": null,
   "id": "380b099e",
   "metadata": {},
   "outputs": [],
   "source": [
    "sparkSession3 = spark.newSession()\n",
    "\n",
    "print(\"Second SparkContext:\")\n",
    "print(\"APP Name :\"+sparkSession3.sparkContext.appName);\n",
    "print(\"Master :\"+sparkSession3.sparkContext.master)"
   ]
  }
 ],
 "metadata": {
  "kernelspec": {
   "display_name": "PySpark",
   "language": "python",
   "name": "pysparkkernel"
  },
  "language_info": {
   "codemirror_mode": {
    "name": "python",
    "version": 3
   },
   "file_extension": ".py",
   "mimetype": "text/x-python",
   "name": "pyspark",
   "pygments_lexer": "python3"
  }
 },
 "nbformat": 4,
 "nbformat_minor": 5
}
