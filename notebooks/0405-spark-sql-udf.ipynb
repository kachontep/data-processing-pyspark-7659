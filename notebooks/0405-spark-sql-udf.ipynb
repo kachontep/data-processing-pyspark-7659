{
 "cells": [
  {
   "cell_type": "markdown",
   "id": "8f1f79d0",
   "metadata": {},
   "source": [
    "# SparkSQL UDF"
   ]
  },
  {
   "cell_type": "code",
   "execution_count": null,
   "id": "ff3ecc3e",
   "metadata": {},
   "outputs": [],
   "source": [
    "from pyspark.sql import functions as F\n",
    "from pyspark.sql import types as T"
   ]
  },
  {
   "cell_type": "markdown",
   "id": "e472e83a",
   "metadata": {},
   "source": [
    "### convertCase"
   ]
  },
  {
   "cell_type": "code",
   "execution_count": null,
   "id": "2ee4580f",
   "metadata": {},
   "outputs": [],
   "source": [
    "columns = [\"seq_no\",\"name\"]\n",
    "\n",
    "data = [\n",
    "    (\"1\", \"john jones\"),\n",
    "    (\"2\", \"tracey smith\"),\n",
    "    (\"3\", \"amy sanders\"),\n",
    "]\n",
    "\n",
    "df = spark.createDataFrame(data=data,schema=columns)"
   ]
  },
  {
   "cell_type": "code",
   "execution_count": null,
   "id": "a89e894c",
   "metadata": {},
   "outputs": [],
   "source": [
    "df.createOrReplaceTempView(\"names\")"
   ]
  },
  {
   "cell_type": "code",
   "execution_count": null,
   "id": "f0a64bf4",
   "metadata": {},
   "outputs": [],
   "source": [
    "def convertCase(str):\n",
    "    resStr=\"\"\n",
    "    arr = str.split(\" \")\n",
    "    for x in arr:\n",
    "       resStr= resStr + x[0:1].upper() + x[1:len(x)] + \" \"\n",
    "    return resStr \n"
   ]
  },
  {
   "cell_type": "code",
   "execution_count": null,
   "id": "f3993b28",
   "metadata": {},
   "outputs": [],
   "source": [
    "spark.udf.register(\"convertCaseUDF\", convertCase, T.StringType())"
   ]
  },
  {
   "cell_type": "code",
   "execution_count": null,
   "id": "cc273a88",
   "metadata": {},
   "outputs": [],
   "source": [
    "df = spark.sql(\"select seq_no, convertCaseUDF(name) as udf_name from names\")\n",
    "df.show(truncate=False)"
   ]
  },
  {
   "cell_type": "code",
   "execution_count": null,
   "id": "fb2fe7f4",
   "metadata": {},
   "outputs": [],
   "source": [
    "%%sql\n",
    "select seq_no, convertCaseUDF(name) as udf_name from names"
   ]
  }
 ],
 "metadata": {
  "kernelspec": {
   "display_name": "PySpark",
   "language": "python",
   "name": "pysparkkernel"
  },
  "language_info": {
   "codemirror_mode": {
    "name": "python",
    "version": 3
   },
   "file_extension": ".py",
   "mimetype": "text/x-python",
   "name": "pyspark",
   "pygments_lexer": "python3"
  }
 },
 "nbformat": 4,
 "nbformat_minor": 5
}
