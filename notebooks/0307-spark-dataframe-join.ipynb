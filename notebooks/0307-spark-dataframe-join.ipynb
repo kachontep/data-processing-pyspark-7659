{
 "cells": [
  {
   "cell_type": "markdown",
   "id": "2c0f576e",
   "metadata": {},
   "source": [
    "# Spark DataFrame Join"
   ]
  },
  {
   "cell_type": "code",
   "execution_count": null,
   "id": "31faf06f",
   "metadata": {},
   "outputs": [],
   "source": [
    "from pyspark.sql import functions as F"
   ]
  },
  {
   "cell_type": "markdown",
   "id": "86daa230",
   "metadata": {},
   "source": [
    "## Employee and Department"
   ]
  },
  {
   "cell_type": "code",
   "execution_count": null,
   "id": "410d2fba",
   "metadata": {},
   "outputs": [],
   "source": [
    "emp = [\n",
    "    (1,\"Smith\",-1,\"2018\",\"10\",\"M\",3000),\n",
    "    (2,\"Rose\",1,\"2010\",\"20\",\"M\",4000),\n",
    "    (3,\"Williams\",1,\"2010\",\"10\",\"M\",1000),\n",
    "    (4,\"Jones\",2,\"2005\",\"10\",\"F\",2000),\n",
    "    (5,\"Brown\",2,\"2010\",\"40\",\"\",-1),\n",
    "    (6,\"Brown\",2,\"2010\",\"50\",\"\",-1),\n",
    "]\n",
    "\n",
    "empColumns = [\"emp_id\",\"name\",\"superior_emp_id\",\"year_joined\", \"emp_dept_id\",\"gender\",\"salary\"]\n",
    "\n",
    "empDF = spark.createDataFrame(data=emp, schema = empColumns)\n",
    "empDF.printSchema()\n",
    "empDF.show(truncate=False)"
   ]
  },
  {
   "cell_type": "code",
   "execution_count": null,
   "id": "b56167c6",
   "metadata": {},
   "outputs": [],
   "source": [
    "dept = [\n",
    "    (\"Finance\",10),\n",
    "    (\"Marketing\",20),\n",
    "    (\"Sales\",30),\n",
    "    (\"IT\",40),\n",
    "]\n",
    "\n",
    "deptColumns = [\"dept_name\",\"dept_id\"]\n",
    "\n",
    "deptDF = spark.createDataFrame(data=dept, schema = deptColumns)\n",
    "deptDF.printSchema()\n",
    "deptDF.show(truncate=False)"
   ]
  },
  {
   "cell_type": "markdown",
   "id": "fd5c4f28",
   "metadata": {},
   "source": [
    "## Inner"
   ]
  },
  {
   "cell_type": "code",
   "execution_count": null,
   "id": "6bbf4b95",
   "metadata": {},
   "outputs": [],
   "source": [
    "(\n",
    "    empDF.join(deptDF,empDF.emp_dept_id ==  deptDF.dept_id,\"inner\")\n",
    "        .show(truncate=False)\n",
    ")"
   ]
  },
  {
   "cell_type": "markdown",
   "id": "cf5d606f",
   "metadata": {},
   "source": [
    "## Outer"
   ]
  },
  {
   "cell_type": "code",
   "execution_count": null,
   "id": "28c25e17",
   "metadata": {},
   "outputs": [],
   "source": [
    "(\n",
    "    empDF.join(deptDF,empDF.emp_dept_id ==  deptDF.dept_id,\"outer\")\n",
    "        .show(truncate=False)\n",
    ")"
   ]
  },
  {
   "cell_type": "markdown",
   "id": "c601c04d",
   "metadata": {},
   "source": [
    "## Full, FullOuter"
   ]
  },
  {
   "cell_type": "code",
   "execution_count": null,
   "id": "180563d2",
   "metadata": {},
   "outputs": [],
   "source": [
    "(\n",
    "    empDF.join(deptDF,empDF.emp_dept_id ==  deptDF.dept_id,\"full\")\n",
    "        .show(truncate=False)\n",
    ")"
   ]
  },
  {
   "cell_type": "code",
   "execution_count": null,
   "id": "68c54b7f",
   "metadata": {},
   "outputs": [],
   "source": [
    "(\n",
    "    empDF.join(deptDF,empDF.emp_dept_id ==  deptDF.dept_id,\"fullouter\")\n",
    "        .show(truncate=False)\n",
    ")"
   ]
  },
  {
   "cell_type": "markdown",
   "id": "b2d66b2c",
   "metadata": {},
   "source": [
    "## Left, LeftOuter"
   ]
  },
  {
   "cell_type": "code",
   "execution_count": null,
   "id": "7c78b646",
   "metadata": {},
   "outputs": [],
   "source": [
    "(\n",
    "    empDF.join(deptDF,empDF.emp_dept_id ==  deptDF.dept_id,\"left\")\n",
    "        .show(truncate=False)\n",
    ")"
   ]
  },
  {
   "cell_type": "code",
   "execution_count": null,
   "id": "7f1133ef",
   "metadata": {},
   "outputs": [],
   "source": [
    "(\n",
    "    empDF.join(deptDF,empDF.emp_dept_id ==  deptDF.dept_id,\"leftouter\") \\\n",
    "       .show(truncate=False)\n",
    ")"
   ]
  },
  {
   "cell_type": "markdown",
   "id": "dbdcd245",
   "metadata": {},
   "source": [
    "## Right, RightOuter"
   ]
  },
  {
   "cell_type": "code",
   "execution_count": null,
   "id": "30c4b2b4",
   "metadata": {},
   "outputs": [],
   "source": [
    "(\n",
    "    empDF.join(deptDF,empDF.emp_dept_id ==  deptDF.dept_id,\"right\")\n",
    "       .show(truncate=False)\n",
    ")"
   ]
  },
  {
   "cell_type": "code",
   "execution_count": null,
   "id": "e0330149",
   "metadata": {},
   "outputs": [],
   "source": [
    "(\n",
    "    empDF.join(deptDF,empDF.emp_dept_id ==  deptDF.dept_id,\"rightouter\")\n",
    "       .show(truncate=False)\n",
    ")"
   ]
  },
  {
   "cell_type": "markdown",
   "id": "01dc4a86",
   "metadata": {},
   "source": [
    "## Left Semi"
   ]
  },
  {
   "cell_type": "code",
   "execution_count": null,
   "id": "bf612247",
   "metadata": {},
   "outputs": [],
   "source": [
    "(\n",
    "    empDF.join(deptDF, empDF.emp_dept_id ==  deptDF.dept_id,\"leftsemi\")\n",
    "       .show(truncate=False)\n",
    ")"
   ]
  },
  {
   "cell_type": "markdown",
   "id": "b2fb7fca",
   "metadata": {},
   "source": [
    "The above statement is equal to the following statement."
   ]
  },
  {
   "cell_type": "code",
   "execution_count": null,
   "id": "ab2e590f",
   "metadata": {},
   "outputs": [],
   "source": [
    "(\n",
    "    empDF.join(deptDF, empDF.emp_dept_id == deptDF.dept_id, \"leftouter\")\n",
    "        .where(deptDF.dept_id.isNotNull())\n",
    "        .select(empDF.columns)\n",
    "        .show(truncate=False)\n",
    ")"
   ]
  },
  {
   "cell_type": "markdown",
   "id": "c93ae04b",
   "metadata": {},
   "source": [
    "## Left Anti"
   ]
  },
  {
   "cell_type": "code",
   "execution_count": null,
   "id": "cfe7ad27",
   "metadata": {},
   "outputs": [],
   "source": [
    "(\n",
    "    empDF.join(deptDF, empDF.emp_dept_id ==  deptDF.dept_id, \"leftanti\")\n",
    "       .show(truncate=False)\n",
    ")"
   ]
  },
  {
   "cell_type": "markdown",
   "id": "66b834c0",
   "metadata": {},
   "source": [
    "The above statement is equal to the following statement:"
   ]
  },
  {
   "cell_type": "code",
   "execution_count": null,
   "id": "ce4f63c9",
   "metadata": {},
   "outputs": [],
   "source": [
    "(\n",
    "    empDF.join(deptDF, empDF.emp_dept_id == deptDF.dept_id, \"leftouter\")\n",
    "        .where(deptDF.dept_id.isNull())\n",
    "        .select(empDF.columns)\n",
    "        .show(truncate=False)\n",
    ")"
   ]
  },
  {
   "cell_type": "markdown",
   "id": "f95c0264",
   "metadata": {},
   "source": [
    "## Aliases"
   ]
  },
  {
   "cell_type": "markdown",
   "id": "ff6e816e",
   "metadata": {},
   "source": [
    "If we reference the columns in dataframe with `col()`, using `alias()` can help use to distinguish a specific column."
   ]
  },
  {
   "cell_type": "code",
   "execution_count": null,
   "id": "9c0cf3dc",
   "metadata": {},
   "outputs": [],
   "source": [
    "(\n",
    "    empDF.alias(\"emp1\").join(\n",
    "        empDF.alias(\"emp2\"), \n",
    "        F.col(\"emp1.superior_emp_id\") == F.col(\"emp2.emp_id\"),\n",
    "        \"inner\",\n",
    "    ).select(\n",
    "        F.col(\"emp1.emp_id\"),\n",
    "        F.col(\"emp1.name\"),\n",
    "        F.col(\"emp2.emp_id\").alias(\"superior_emp_id\"),\n",
    "        F.col(\"emp2.name\").alias(\"superior_emp_name\"),\n",
    "    ).show(truncate=False)\n",
    ")"
   ]
  }
 ],
 "metadata": {
  "kernelspec": {
   "display_name": "PySpark",
   "language": "python",
   "name": "pysparkkernel"
  },
  "language_info": {
   "codemirror_mode": {
    "name": "python",
    "version": 3
   },
   "file_extension": ".py",
   "mimetype": "text/x-python",
   "name": "pyspark",
   "pygments_lexer": "python3"
  }
 },
 "nbformat": 4,
 "nbformat_minor": 5
}
