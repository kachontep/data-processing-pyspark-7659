{
 "cells": [
  {
   "cell_type": "markdown",
   "id": "3349ee4a",
   "metadata": {},
   "source": [
    "# DataFrame OrderBy"
   ]
  },
  {
   "cell_type": "code",
   "execution_count": 2,
   "id": "1d580a72",
   "metadata": {},
   "outputs": [
    {
     "data": {
      "application/vnd.jupyter.widget-view+json": {
       "model_id": "",
       "version_major": 2,
       "version_minor": 0
      },
      "text/plain": [
       "FloatProgress(value=0.0, bar_style='info', description='Progress:', layout=Layout(height='25px', width='50%'),…"
      ]
     },
     "metadata": {},
     "output_type": "display_data"
    }
   ],
   "source": [
    "from pyspark.sql import functions as F\n",
    "from pyspark.sql import types as T"
   ]
  },
  {
   "cell_type": "code",
   "execution_count": 3,
   "id": "ae0ab1b9",
   "metadata": {},
   "outputs": [
    {
     "data": {
      "application/vnd.jupyter.widget-view+json": {
       "model_id": "",
       "version_major": 2,
       "version_minor": 0
      },
      "text/plain": [
       "FloatProgress(value=0.0, bar_style='info', description='Progress:', layout=Layout(height='25px', width='50%'),…"
      ]
     },
     "metadata": {},
     "output_type": "display_data"
    }
   ],
   "source": [
    "simpleData = [\n",
    "    (\"James\",\"Sales\",\"NY\",90000,34,10000),\n",
    "    (\"Michael\",\"Sales\",\"NY\",86000,56,20000),\n",
    "    (\"Robert\",\"Sales\",\"CA\",81000,30,23000),\n",
    "    (\"Maria\",\"Finance\",\"CA\",90000,24,23000),\n",
    "    (\"Raman\",\"Finance\",\"CA\",99000,40,24000),\n",
    "    (\"Scott\",\"Finance\",\"NY\",83000,36,19000),\n",
    "    (\"Jen\",\"Finance\",\"NY\",79000,53,15000),\n",
    "    (\"Jeff\",\"Marketing\",\"CA\",80000,25,18000),\n",
    "    (\"Kumar\",\"Marketing\",\"NY\",91000,50,21000),\n",
    "]\n",
    "\n",
    "columns= [\"employee_name\",\"department\",\"state\",\"salary\",\"age\",\"bonus\"]\n",
    "\n",
    "df = spark.createDataFrame(data = simpleData, schema = columns)"
   ]
  },
  {
   "cell_type": "code",
   "execution_count": null,
   "id": "a0520869",
   "metadata": {},
   "outputs": [],
   "source": [
    "df.printSchema()"
   ]
  },
  {
   "cell_type": "code",
   "execution_count": null,
   "id": "df4bda65",
   "metadata": {},
   "outputs": [],
   "source": [
    "df.show(truncate=False)"
   ]
  },
  {
   "cell_type": "markdown",
   "id": "e4d70c2a",
   "metadata": {},
   "source": [
    "Because `orderBy` and `sort` are aliases, they are both interchanged in real usage."
   ]
  },
  {
   "cell_type": "code",
   "execution_count": null,
   "id": "1e7d4f9e",
   "metadata": {},
   "outputs": [],
   "source": [
    "df.sort(\"department\", \"state\").show(truncate=False) # Use ascending order by default"
   ]
  },
  {
   "cell_type": "code",
   "execution_count": null,
   "id": "21274f23",
   "metadata": {},
   "outputs": [],
   "source": [
    "df.orderBy(\"department\", \"state\").show(truncate=False); # Use orderBy instead"
   ]
  },
  {
   "cell_type": "code",
   "execution_count": null,
   "id": "bdf6754b",
   "metadata": {},
   "outputs": [],
   "source": [
    "df.sort(F.col(\"department\"), F.col(\"state\")).show(truncate=False) # Use col() to reference Column"
   ]
  },
  {
   "cell_type": "code",
   "execution_count": null,
   "id": "d5a67f07",
   "metadata": {},
   "outputs": [],
   "source": [
    "df.orderBy(F.col(\"department\"), F.col(\"state\")).show(truncate=False) # Use orderBy instead"
   ]
  },
  {
   "cell_type": "markdown",
   "id": "22b1fa08",
   "metadata": {},
   "source": [
    "## Order by ascending"
   ]
  },
  {
   "cell_type": "code",
   "execution_count": null,
   "id": "82188934",
   "metadata": {},
   "outputs": [],
   "source": [
    "df.sort(df.department.asc(), df.state.asc()).show(truncate=False)"
   ]
  },
  {
   "cell_type": "code",
   "execution_count": null,
   "id": "a75872b7",
   "metadata": {},
   "outputs": [],
   "source": [
    "df.sort(F.col(\"department\").asc(), F.col(\"state\").asc()).show(truncate=False)"
   ]
  },
  {
   "cell_type": "code",
   "execution_count": null,
   "id": "7b22fd3d",
   "metadata": {},
   "outputs": [],
   "source": [
    "df.orderBy(F.col(\"department\").asc(), F.col(\"state\").asc()).show(truncate=False)"
   ]
  },
  {
   "cell_type": "markdown",
   "id": "dfe9d2ff",
   "metadata": {},
   "source": [
    "## Order by mixing ascending and descending"
   ]
  },
  {
   "cell_type": "code",
   "execution_count": null,
   "id": "fec9eb6c",
   "metadata": {},
   "outputs": [],
   "source": [
    "df.sort(df.department.asc(),df.state.desc()).show(truncate=False)"
   ]
  },
  {
   "cell_type": "code",
   "execution_count": null,
   "id": "520a592e",
   "metadata": {},
   "outputs": [],
   "source": [
    "df.sort(F.col(\"department\").asc(), F.col(\"state\").desc()).show(truncate=False)"
   ]
  },
  {
   "cell_type": "code",
   "execution_count": null,
   "id": "f89bf676",
   "metadata": {},
   "outputs": [],
   "source": [
    "df.orderBy(F.col(\"department\").asc(), F.col(\"state\").desc()).show(truncate=False)"
   ]
  },
  {
   "cell_type": "markdown",
   "id": "16382fa0",
   "metadata": {},
   "source": [
    "# Data Frame GroupBy"
   ]
  },
  {
   "cell_type": "markdown",
   "id": "4c5ffab6",
   "metadata": {},
   "source": [
    "`groupBy` has an alias `groupBy`. Choose them as you like."
   ]
  },
  {
   "cell_type": "code",
   "execution_count": null,
   "id": "6fdd9681",
   "metadata": {},
   "outputs": [],
   "source": [
    "df.show(truncate=True)"
   ]
  },
  {
   "cell_type": "markdown",
   "id": "ceb2ae24",
   "metadata": {},
   "source": [
    "Notice that the return type of `groupBy` is `GroupedData`, not `DataFrame`."
   ]
  },
  {
   "cell_type": "code",
   "execution_count": null,
   "id": "f5b1597b",
   "metadata": {},
   "outputs": [],
   "source": [
    "type(df.groupBy(\"department\"))"
   ]
  },
  {
   "cell_type": "markdown",
   "id": "85ac8454",
   "metadata": {},
   "source": [
    "We can use aggregate methods of `GroupedData` instance directly."
   ]
  },
  {
   "cell_type": "code",
   "execution_count": null,
   "id": "85011672",
   "metadata": {},
   "outputs": [],
   "source": [
    "df.groupBy(\"department\").sum(\"salary\").show(truncate=False)"
   ]
  },
  {
   "cell_type": "code",
   "execution_count": null,
   "id": "7d8cdd54",
   "metadata": {},
   "outputs": [],
   "source": [
    "df.groupBy(\"department\").count().show(truncate=False)"
   ]
  },
  {
   "cell_type": "markdown",
   "id": "ef18fd6f",
   "metadata": {},
   "source": [
    "The aggregate methods of `GroupedData` supports multiple arguments to aggregate multiple columns."
   ]
  },
  {
   "cell_type": "code",
   "execution_count": null,
   "id": "97c16982",
   "metadata": {},
   "outputs": [],
   "source": [
    "(df\n",
    "  .groupBy(\"department\",\"state\")\n",
    "  .sum(\"salary\",\"bonus\")\n",
    "  .show(truncate=False)\n",
    ")"
   ]
  },
  {
   "cell_type": "markdown",
   "id": "d6fb0342",
   "metadata": {},
   "source": [
    "To alias a aggregate column, use aggregate functions in `pyspark.sql.functions` and chain it wit `alias()`."
   ]
  },
  {
   "cell_type": "code",
   "execution_count": null,
   "id": "b5ba65fd",
   "metadata": {},
   "outputs": [],
   "source": [
    "(df.groupBy(\"department\")\n",
    "   .agg(\n",
    "     F.sum(\"salary\").alias(\"sum_salary\"),\n",
    "     F.avg(\"salary\").alias(\"avg_salary\"),\n",
    "     F.sum(\"bonus\").alias(\"sum_bonus\"),\n",
    "     F.avg(\"bonus\").alias(\"avg_bonus\"),\n",
    "   )\n",
    "   .show(truncate=False)\n",
    ")"
   ]
  },
  {
   "cell_type": "markdown",
   "id": "a4aac02f",
   "metadata": {},
   "source": [
    "## GroupBy and Where"
   ]
  },
  {
   "cell_type": "markdown",
   "id": "d1ae0e7c",
   "metadata": {},
   "source": [
    "Using `where` after `groupby` operation means applying filtering after aggregation."
   ]
  },
  {
   "cell_type": "code",
   "execution_count": null,
   "id": "cd37e254",
   "metadata": {},
   "outputs": [],
   "source": [
    "(df.groupBy(\"department\")\n",
    "   .agg(\n",
    "     F.sum(\"salary\").alias(\"sum_salary\"),\n",
    "     F.avg(\"salary\").alias(\"avg_salary\"),\n",
    "     F.sum(\"bonus\").alias(\"sum_bonus\"),\n",
    "     F.max(\"bonus\").alias(\"max_bonus\"),\n",
    "   )\n",
    "   .where(F.col(\"sum_bonus\") >= 50_000)\n",
    "   .show(truncate=False)\n",
    ")"
   ]
  },
  {
   "cell_type": "markdown",
   "id": "97dc85b0",
   "metadata": {},
   "source": [
    "## GroupBy and Sort"
   ]
  },
  {
   "cell_type": "markdown",
   "id": "9cb9d362",
   "metadata": {},
   "source": [
    "After getting grouped data from aggregate, we can call `sort()` to order the aggregate column result as a normal dataframe."
   ]
  },
  {
   "cell_type": "code",
   "execution_count": null,
   "id": "44fccbc8",
   "metadata": {},
   "outputs": [],
   "source": [
    "dfGroup = (\n",
    "    df.groupBy(\"state\")\n",
    "      .agg(F.sum(\"salary\").alias(\"sum_salary\"))\n",
    ")"
   ]
  },
  {
   "cell_type": "code",
   "execution_count": null,
   "id": "100fb218",
   "metadata": {},
   "outputs": [],
   "source": [
    "dfGroup.show(truncate=False)"
   ]
  },
  {
   "cell_type": "code",
   "execution_count": null,
   "id": "7e64ab7f",
   "metadata": {},
   "outputs": [],
   "source": [
    "dfFilter = dfGroup.filter(dfGroup.sum_salary > 100_000)\n",
    "dfFilter.show(truncate=False)"
   ]
  },
  {
   "cell_type": "code",
   "execution_count": null,
   "id": "952a154a",
   "metadata": {},
   "outputs": [],
   "source": [
    "dfFilter.sort(\"sum_salary\").show(truncate=False)"
   ]
  },
  {
   "cell_type": "code",
   "execution_count": null,
   "id": "57a44f9a",
   "metadata": {},
   "outputs": [],
   "source": [
    "dfFilter.sort(F.desc(\"sum_salary\")).show(truncate=False)"
   ]
  },
  {
   "cell_type": "markdown",
   "id": "b409f4b4",
   "metadata": {},
   "source": [
    "In summary, you can chain all operations applying with the grouped data frame within a single statement as below."
   ]
  },
  {
   "cell_type": "code",
   "execution_count": null,
   "id": "e108f137",
   "metadata": {},
   "outputs": [],
   "source": [
    "(df.groupBy(\"state\")\n",
    "   .agg(F.sum(\"salary\").alias(\"sum_salary\"))\n",
    "   .filter(F.col(\"sum_salary\") > 100_000)\n",
    "   .sort(F.desc(\"sum_salary\"))\n",
    "   .show(truncate=False)\n",
    ")"
   ]
  },
  {
   "cell_type": "markdown",
   "id": "e34c35be",
   "metadata": {},
   "source": [
    "## More about aggregate functions"
   ]
  },
  {
   "cell_type": "markdown",
   "id": "6b6d096f",
   "metadata": {},
   "source": [
    "### approx_count_distinct"
   ]
  },
  {
   "cell_type": "code",
   "execution_count": 4,
   "id": "958af8aa",
   "metadata": {},
   "outputs": [
    {
     "data": {
      "application/vnd.jupyter.widget-view+json": {
       "model_id": "",
       "version_major": 2,
       "version_minor": 0
      },
      "text/plain": [
       "FloatProgress(value=0.0, bar_style='info', description='Progress:', layout=Layout(height='25px', width='50%'),…"
      ]
     },
     "metadata": {},
     "output_type": "display_data"
    },
    {
     "name": "stdout",
     "output_type": "stream",
     "text": [
      "+-----------------------------+\n",
      "|approx_count_distinct(salary)|\n",
      "+-----------------------------+\n",
      "|8                            |\n",
      "+-----------------------------+"
     ]
    }
   ],
   "source": [
    "df.select(F.approx_count_distinct(\"salary\")).show(truncate=False)"
   ]
  },
  {
   "cell_type": "markdown",
   "id": "0de1d753",
   "metadata": {},
   "source": [
    "### collect_list"
   ]
  },
  {
   "cell_type": "code",
   "execution_count": 5,
   "id": "b4646310",
   "metadata": {},
   "outputs": [
    {
     "data": {
      "application/vnd.jupyter.widget-view+json": {
       "model_id": "",
       "version_major": 2,
       "version_minor": 0
      },
      "text/plain": [
       "FloatProgress(value=0.0, bar_style='info', description='Progress:', layout=Layout(height='25px', width='50%'),…"
      ]
     },
     "metadata": {},
     "output_type": "display_data"
    },
    {
     "name": "stdout",
     "output_type": "stream",
     "text": [
      "+---------------------------------------------------------------+\n",
      "|collect_list(salary)                                           |\n",
      "+---------------------------------------------------------------+\n",
      "|[99000, 83000, 79000, 80000, 91000, 90000, 86000, 81000, 90000]|\n",
      "+---------------------------------------------------------------+"
     ]
    }
   ],
   "source": [
    "df.select(F.collect_list(\"salary\")).show(truncate=False)"
   ]
  },
  {
   "cell_type": "markdown",
   "id": "c1d2df57",
   "metadata": {},
   "source": [
    "### collect_set"
   ]
  },
  {
   "cell_type": "code",
   "execution_count": 6,
   "id": "b5bae463",
   "metadata": {},
   "outputs": [
    {
     "data": {
      "application/vnd.jupyter.widget-view+json": {
       "model_id": "",
       "version_major": 2,
       "version_minor": 0
      },
      "text/plain": [
       "FloatProgress(value=0.0, bar_style='info', description='Progress:', layout=Layout(height='25px', width='50%'),…"
      ]
     },
     "metadata": {},
     "output_type": "display_data"
    },
    {
     "name": "stdout",
     "output_type": "stream",
     "text": [
      "+--------------------------------------------------------+\n",
      "|collect_set(salary)                                     |\n",
      "+--------------------------------------------------------+\n",
      "|[79000, 83000, 91000, 99000, 90000, 80000, 86000, 81000]|\n",
      "+--------------------------------------------------------+"
     ]
    }
   ],
   "source": [
    "df.select(F.collect_set(\"salary\")).show(truncate=False)"
   ]
  },
  {
   "cell_type": "markdown",
   "id": "addc5177",
   "metadata": {},
   "source": [
    "### distinct"
   ]
  },
  {
   "cell_type": "code",
   "execution_count": 13,
   "id": "84ddd136",
   "metadata": {},
   "outputs": [
    {
     "data": {
      "application/vnd.jupyter.widget-view+json": {
       "model_id": "",
       "version_major": 2,
       "version_minor": 0
      },
      "text/plain": [
       "FloatProgress(value=0.0, bar_style='info', description='Progress:', layout=Layout(height='25px', width='50%'),…"
      ]
     },
     "metadata": {},
     "output_type": "display_data"
    },
    {
     "name": "stdout",
     "output_type": "stream",
     "text": [
      "+----------+------+\n",
      "|department|salary|\n",
      "+----------+------+\n",
      "|Finance   |83000 |\n",
      "|Marketing |80000 |\n",
      "|Finance   |79000 |\n",
      "|Marketing |91000 |\n",
      "|Finance   |99000 |\n",
      "|Sales     |90000 |\n",
      "|Sales     |81000 |\n",
      "|Sales     |86000 |\n",
      "|Finance   |90000 |\n",
      "+----------+------+"
     ]
    }
   ],
   "source": [
    "df.select(\"department\", \"salary\").distinct().show(truncate=False)"
   ]
  },
  {
   "cell_type": "markdown",
   "id": "82319f6c",
   "metadata": {},
   "source": [
    "### countDistinct"
   ]
  },
  {
   "cell_type": "code",
   "execution_count": 17,
   "id": "cc3615a3",
   "metadata": {},
   "outputs": [
    {
     "data": {
      "application/vnd.jupyter.widget-view+json": {
       "model_id": "",
       "version_major": 2,
       "version_minor": 0
      },
      "text/plain": [
       "FloatProgress(value=0.0, bar_style='info', description='Progress:', layout=Layout(height='25px', width='50%'),…"
      ]
     },
     "metadata": {},
     "output_type": "display_data"
    },
    {
     "name": "stdout",
     "output_type": "stream",
     "text": [
      "+----------------------------------+\n",
      "|count(DISTINCT department, salary)|\n",
      "+----------------------------------+\n",
      "|9                                 |\n",
      "+----------------------------------+"
     ]
    }
   ],
   "source": [
    "df.select(F.countDistinct(\"department\", \"salary\")).show(truncate=False)"
   ]
  },
  {
   "cell_type": "markdown",
   "id": "1ed59cb3",
   "metadata": {},
   "source": [
    "### count"
   ]
  },
  {
   "cell_type": "code",
   "execution_count": 19,
   "id": "31bc32db",
   "metadata": {},
   "outputs": [
    {
     "data": {
      "application/vnd.jupyter.widget-view+json": {
       "model_id": "",
       "version_major": 2,
       "version_minor": 0
      },
      "text/plain": [
       "FloatProgress(value=0.0, bar_style='info', description='Progress:', layout=Layout(height='25px', width='50%'),…"
      ]
     },
     "metadata": {},
     "output_type": "display_data"
    },
    {
     "name": "stdout",
     "output_type": "stream",
     "text": [
      "+-------------+\n",
      "|count(salary)|\n",
      "+-------------+\n",
      "|9            |\n",
      "+-------------+"
     ]
    }
   ],
   "source": [
    "df.select(F.count(\"salary\")).show(truncate=False)"
   ]
  },
  {
   "cell_type": "markdown",
   "id": "6199b0e9",
   "metadata": {},
   "source": [
    "### first"
   ]
  },
  {
   "cell_type": "code",
   "execution_count": 23,
   "id": "5218e2a9",
   "metadata": {},
   "outputs": [
    {
     "data": {
      "application/vnd.jupyter.widget-view+json": {
       "model_id": "",
       "version_major": 2,
       "version_minor": 0
      },
      "text/plain": [
       "FloatProgress(value=0.0, bar_style='info', description='Progress:', layout=Layout(height='25px', width='50%'),…"
      ]
     },
     "metadata": {},
     "output_type": "display_data"
    },
    {
     "name": "stdout",
     "output_type": "stream",
     "text": [
      "+-------------+----------+-----+------+---+-----+\n",
      "|employee_name|department|state|salary|age|bonus|\n",
      "+-------------+----------+-----+------+---+-----+\n",
      "|James        |Sales     |NY   |90000 |34 |10000|\n",
      "|Michael      |Sales     |NY   |86000 |56 |20000|\n",
      "|Robert       |Sales     |CA   |81000 |30 |23000|\n",
      "|Maria        |Finance   |CA   |90000 |24 |23000|\n",
      "|Raman        |Finance   |CA   |99000 |40 |24000|\n",
      "|Scott        |Finance   |NY   |83000 |36 |19000|\n",
      "|Jen          |Finance   |NY   |79000 |53 |15000|\n",
      "|Jeff         |Marketing |CA   |80000 |25 |18000|\n",
      "|Kumar        |Marketing |NY   |91000 |50 |21000|\n",
      "+-------------+----------+-----+------+---+-----+\n",
      "\n",
      "+-------------+\n",
      "|first(salary)|\n",
      "+-------------+\n",
      "|90000        |\n",
      "+-------------+"
     ]
    }
   ],
   "source": [
    "df.show(truncate=False)\n",
    "df.select(F.first(\"salary\")).show(truncate=False)"
   ]
  },
  {
   "cell_type": "markdown",
   "id": "e3513139",
   "metadata": {},
   "source": [
    "### last"
   ]
  },
  {
   "cell_type": "code",
   "execution_count": 22,
   "id": "8a73b967",
   "metadata": {},
   "outputs": [
    {
     "data": {
      "application/vnd.jupyter.widget-view+json": {
       "model_id": "",
       "version_major": 2,
       "version_minor": 0
      },
      "text/plain": [
       "FloatProgress(value=0.0, bar_style='info', description='Progress:', layout=Layout(height='25px', width='50%'),…"
      ]
     },
     "metadata": {},
     "output_type": "display_data"
    },
    {
     "name": "stdout",
     "output_type": "stream",
     "text": [
      "+-------------+----------+-----+------+---+-----+\n",
      "|employee_name|department|state|salary|age|bonus|\n",
      "+-------------+----------+-----+------+---+-----+\n",
      "|James        |Sales     |NY   |90000 |34 |10000|\n",
      "|Michael      |Sales     |NY   |86000 |56 |20000|\n",
      "|Robert       |Sales     |CA   |81000 |30 |23000|\n",
      "|Maria        |Finance   |CA   |90000 |24 |23000|\n",
      "|Raman        |Finance   |CA   |99000 |40 |24000|\n",
      "|Scott        |Finance   |NY   |83000 |36 |19000|\n",
      "|Jen          |Finance   |NY   |79000 |53 |15000|\n",
      "|Jeff         |Marketing |CA   |80000 |25 |18000|\n",
      "|Kumar        |Marketing |NY   |91000 |50 |21000|\n",
      "+-------------+----------+-----+------+---+-----+\n",
      "\n",
      "+------------+\n",
      "|last(salary)|\n",
      "+------------+\n",
      "|91000       |\n",
      "+------------+"
     ]
    }
   ],
   "source": [
    "df.show(truncate=False)\n",
    "df.select(F.last(\"salary\")).show(truncate=False)"
   ]
  },
  {
   "cell_type": "markdown",
   "id": "9fbf30c2",
   "metadata": {},
   "source": [
    "### kurtosis, skewness"
   ]
  },
  {
   "cell_type": "code",
   "execution_count": 33,
   "id": "80dc256f",
   "metadata": {},
   "outputs": [
    {
     "data": {
      "application/vnd.jupyter.widget-view+json": {
       "model_id": "",
       "version_major": 2,
       "version_minor": 0
      },
      "text/plain": [
       "FloatProgress(value=0.0, bar_style='info', description='Progress:', layout=Layout(height='25px', width='50%'),…"
      ]
     },
     "metadata": {},
     "output_type": "display_data"
    },
    {
     "name": "stdout",
     "output_type": "stream",
     "text": [
      "+-------------------+------------------+-----------------+-----------------+--------------------+\n",
      "|kurtosis_salary    |skewness_salary   |stddev_salary    |stddev_pop_salary|variance_salary     |\n",
      "+-------------------+------------------+-----------------+-----------------+--------------------+\n",
      "|-0.6275168662506321|0.5530468967432596|6540.472290116194|6166.416411338492|4.2777777777777776E7|\n",
      "+-------------------+------------------+-----------------+-----------------+--------------------+"
     ]
    }
   ],
   "source": [
    "(df.select(\n",
    "        F.kurtosis(\"salary\").alias(\"kurtosis_salary\"),\n",
    "        F.skewness(\"salary\").alias(\"skewness_salary\"),\n",
    "        F.stddev(\"salary\").alias(\"stddev_salary\"),\n",
    "        F.stddev_pop(\"salary\").alias(\"stddev_pop_salary\"),\n",
    "        F.variance(\"salary\").alias(\"variance_salary\"),\n",
    "    ).show(truncate=False)\n",
    ")"
   ]
  },
  {
   "cell_type": "markdown",
   "id": "e3b868f9",
   "metadata": {},
   "source": [
    "### max, min, avg"
   ]
  },
  {
   "cell_type": "code",
   "execution_count": 36,
   "id": "60e38454",
   "metadata": {},
   "outputs": [
    {
     "data": {
      "application/vnd.jupyter.widget-view+json": {
       "model_id": "",
       "version_major": 2,
       "version_minor": 0
      },
      "text/plain": [
       "FloatProgress(value=0.0, bar_style='info', description='Progress:', layout=Layout(height='25px', width='50%'),…"
      ]
     },
     "metadata": {},
     "output_type": "display_data"
    },
    {
     "name": "stdout",
     "output_type": "stream",
     "text": [
      "+----------+-----------------+----------+\n",
      "|max_salary|avg_salary       |min_salary|\n",
      "+----------+-----------------+----------+\n",
      "|99000     |86555.55555555556|79000     |\n",
      "+----------+-----------------+----------+"
     ]
    }
   ],
   "source": [
    "df.select(\n",
    "    F.max(\"salary\").alias(\"max_salary\"),\n",
    "    F.avg(\"salary\").alias(\"avg_salary\"),\n",
    "    F.min(\"salary\").alias(\"min_salary\"),\n",
    ").show(truncate=False)"
   ]
  },
  {
   "cell_type": "markdown",
   "id": "d3f70ffa",
   "metadata": {},
   "source": [
    "### sum, sumDistinct"
   ]
  },
  {
   "cell_type": "code",
   "execution_count": 37,
   "id": "32e40a71",
   "metadata": {},
   "outputs": [
    {
     "data": {
      "application/vnd.jupyter.widget-view+json": {
       "model_id": "",
       "version_major": 2,
       "version_minor": 0
      },
      "text/plain": [
       "FloatProgress(value=0.0, bar_style='info', description='Progress:', layout=Layout(height='25px', width='50%'),…"
      ]
     },
     "metadata": {},
     "output_type": "display_data"
    },
    {
     "name": "stdout",
     "output_type": "stream",
     "text": [
      "+-----------+--------------------+\n",
      "|sum(salary)|sum(DISTINCT salary)|\n",
      "+-----------+--------------------+\n",
      "|779000     |689000              |\n",
      "+-----------+--------------------+"
     ]
    }
   ],
   "source": [
    "df.select(\n",
    "    F.sum(\"salary\"),\n",
    "    F.sumDistinct(\"salary\"),\n",
    ").show(truncate=False)"
   ]
  }
 ],
 "metadata": {
  "kernelspec": {
   "display_name": "PySpark",
   "language": "python",
   "name": "pysparkkernel"
  },
  "language_info": {
   "codemirror_mode": {
    "name": "python",
    "version": 3
   },
   "file_extension": ".py",
   "mimetype": "text/x-python",
   "name": "pyspark",
   "pygments_lexer": "python3"
  }
 },
 "nbformat": 4,
 "nbformat_minor": 5
}
