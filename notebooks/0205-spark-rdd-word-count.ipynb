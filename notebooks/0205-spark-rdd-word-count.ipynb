{
 "cells": [
  {
   "cell_type": "markdown",
   "id": "7263ae63",
   "metadata": {},
   "source": [
    "# RRD - Word Count"
   ]
  },
  {
   "cell_type": "markdown",
   "id": "21b49a06",
   "metadata": {},
   "source": [
    "## Create a RDD from distributed data file"
   ]
  },
  {
   "cell_type": "code",
   "execution_count": null,
   "id": "fd4112d6",
   "metadata": {},
   "outputs": [],
   "source": [
    "rdd = spark.sparkContext.textFile(\"/apps/sparkbyexamples/src/pyspark-examples/data.txt\")\n",
    "\n",
    "for element in rdd.collect():\n",
    "    print(element)"
   ]
  },
  {
   "cell_type": "markdown",
   "id": "d3c47c8c",
   "metadata": {},
   "source": [
    "## Flatmap"
   ]
  },
  {
   "cell_type": "code",
   "execution_count": null,
   "id": "03adc92d",
   "metadata": {},
   "outputs": [],
   "source": [
    "rdd2 = rdd.flatMap(lambda x: x.split(\" \"))\n",
    "\n",
    "for element in rdd2.collect():\n",
    "    print(element)"
   ]
  },
  {
   "cell_type": "markdown",
   "id": "cc21a7ce",
   "metadata": {},
   "source": [
    "# Map"
   ]
  },
  {
   "cell_type": "code",
   "execution_count": null,
   "id": "c4b0f1d1",
   "metadata": {},
   "outputs": [],
   "source": [
    "rdd3 = rdd2.map(lambda x: (x,1))\n",
    "\n",
    "for element in rdd3.collect():\n",
    "    print(element)"
   ]
  },
  {
   "cell_type": "markdown",
   "id": "1cb4775f",
   "metadata": {},
   "source": [
    "## ReduceByKey"
   ]
  },
  {
   "cell_type": "code",
   "execution_count": null,
   "id": "ac52b945",
   "metadata": {},
   "outputs": [],
   "source": [
    "rdd4 = rdd3.reduceByKey(lambda a,b: a+b)\n",
    "\n",
    "for element in rdd4.collect():\n",
    "    print(element)"
   ]
  },
  {
   "cell_type": "markdown",
   "id": "c62c3d8f",
   "metadata": {},
   "source": [
    "`map()` again to swap between word and count"
   ]
  },
  {
   "cell_type": "code",
   "execution_count": null,
   "id": "735421e4",
   "metadata": {},
   "outputs": [],
   "source": [
    "rdd5 = rdd4.map(lambda x: (x[1],x[0])).sortByKey()\n",
    "\n",
    "for element in rdd5.collect():\n",
    "    print(element)    "
   ]
  },
  {
   "cell_type": "markdown",
   "id": "7a9f1e12",
   "metadata": {},
   "source": [
    "## Filter ##"
   ]
  },
  {
   "cell_type": "code",
   "execution_count": null,
   "id": "fb982047",
   "metadata": {},
   "outputs": [],
   "source": [
    "rdd6 = rdd5.filter(lambda x : 'a' in x[1])\n",
    "\n",
    "for element in rdd6.collect():\n",
    "    print(element)"
   ]
  },
  {
   "cell_type": "markdown",
   "id": "932fbab2",
   "metadata": {},
   "source": [
    "## Lazy Evaluation and Immutable"
   ]
  },
  {
   "cell_type": "code",
   "execution_count": null,
   "id": "912dfba9",
   "metadata": {},
   "outputs": [],
   "source": [
    "final_rdd = (\n",
    "    spark.sparkContext\n",
    "        .textFile(\"/apps/sparkbyexamples/src/pyspark-examples/data.txt\")\n",
    "        .flatMap(lambda x: x.split(\" \"))\n",
    "        .map(lambda x: (x,1))\n",
    "        .reduceByKey(lambda a,b: a+b)\n",
    "        .map(lambda x: (x[1],x[0]))\n",
    "        .sortByKey()\n",
    "        .filter(lambda x : 'a' in x[1])\n",
    ")"
   ]
  }
 ],
 "metadata": {
  "kernelspec": {
   "display_name": "PySpark",
   "language": "python",
   "name": "pysparkkernel"
  },
  "language_info": {
   "codemirror_mode": {
    "name": "python",
    "version": 3
   },
   "file_extension": ".py",
   "mimetype": "text/x-python",
   "name": "pyspark",
   "pygments_lexer": "python3"
  }
 },
 "nbformat": 4,
 "nbformat_minor": 5
}
