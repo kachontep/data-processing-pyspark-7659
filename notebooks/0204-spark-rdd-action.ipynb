{
 "cells": [
  {
   "cell_type": "code",
   "execution_count": null,
   "id": "00df43de",
   "metadata": {},
   "outputs": [],
   "source": [
    "spark"
   ]
  },
  {
   "cell_type": "markdown",
   "id": "ad301a6b",
   "metadata": {},
   "source": [
    "# RDD Action Methods"
   ]
  },
  {
   "cell_type": "markdown",
   "id": "5db3dece",
   "metadata": {},
   "source": [
    "**NOTE**: RDD examples to use in this notebook"
   ]
  },
  {
   "cell_type": "code",
   "execution_count": null,
   "id": "845d93f7",
   "metadata": {},
   "outputs": [],
   "source": [
    "data=[(\"Z\", 1),(\"A\", 20),(\"B\", 30),(\"C\", 40),(\"B\", 30),(\"B\", 60)]\n",
    "\n",
    "inputRDD = spark.sparkContext.parallelize(data)  \n",
    "listRdd = spark.sparkContext.parallelize([1,2,3,4,5,3,2])"
   ]
  },
  {
   "cell_type": "markdown",
   "id": "4a89cebb",
   "metadata": {},
   "source": [
    "## Aggregate"
   ]
  },
  {
   "cell_type": "markdown",
   "id": "a0d00522",
   "metadata": {},
   "source": [
    "`seq_func` and `comb_func` need to use with `aggregate()` method. Sometime they are the same logic, but not always"
   ]
  },
  {
   "cell_type": "code",
   "execution_count": null,
   "id": "9e228281",
   "metadata": {},
   "outputs": [],
   "source": [
    "seqOp = (lambda x, y: x + y)\n",
    "combOp = (lambda x, y: x + y)\n",
    "\n",
    "agg = listRdd.aggregate(0, seqOp, combOp)\n",
    "agg"
   ]
  },
  {
   "cell_type": "code",
   "execution_count": null,
   "id": "22b0271c",
   "metadata": {},
   "outputs": [],
   "source": [
    "seqOp2 = (lambda x, y: (x[0] + y, x[1] + 1))\n",
    "combOp2 = (lambda x, y: (x[0] + y[0], x[1] + y[1]))\n",
    "\n",
    "agg2 = listRdd.aggregate((0, 0), seqOp2, combOp2)\n",
    "print(agg2)\n",
    "\n",
    "agg2 = listRdd.treeAggregate(0,seqOp, combOp)\n",
    "print(agg2)"
   ]
  },
  {
   "cell_type": "markdown",
   "id": "c56fd16d",
   "metadata": {},
   "source": [
    "## Fold"
   ]
  },
  {
   "cell_type": "code",
   "execution_count": null,
   "id": "2d160f96",
   "metadata": {},
   "outputs": [],
   "source": [
    "from operator import add\n",
    "\n",
    "foldRes = listRdd.fold(0, add)\n",
    "foldRes"
   ]
  },
  {
   "cell_type": "markdown",
   "id": "29315efa",
   "metadata": {},
   "source": [
    "## Reduce"
   ]
  },
  {
   "cell_type": "code",
   "execution_count": null,
   "id": "ab2fb8cd",
   "metadata": {},
   "outputs": [],
   "source": [
    "redRes = listRdd.reduce(add)\n",
    "\n",
    "redRes"
   ]
  },
  {
   "cell_type": "markdown",
   "id": "ec768753",
   "metadata": {},
   "source": [
    "## Collect"
   ]
  },
  {
   "cell_type": "code",
   "execution_count": null,
   "id": "6a2b529e",
   "metadata": {},
   "outputs": [],
   "source": [
    "data = listRdd.collect()\n",
    "\n",
    "data"
   ]
  },
  {
   "cell_type": "markdown",
   "id": "4bf9e0a3",
   "metadata": {},
   "source": [
    "## Count, CountApprox, CountApproxDistinct"
   ]
  },
  {
   "cell_type": "code",
   "execution_count": null,
   "id": "f06cf082",
   "metadata": {},
   "outputs": [],
   "source": [
    "print(\"Count : \"+str(listRdd.count()))"
   ]
  },
  {
   "cell_type": "code",
   "execution_count": null,
   "id": "52c32636",
   "metadata": {},
   "outputs": [],
   "source": [
    "print(\"countApprox : \"+str(listRdd.countApprox(1200)))"
   ]
  },
  {
   "cell_type": "code",
   "execution_count": null,
   "id": "e0f5ba2f",
   "metadata": {},
   "outputs": [],
   "source": [
    "print(\"countApproxDistinct : \"+str(listRdd.countApproxDistinct()))\n",
    "print(\"countApproxDistinct : \"+str(inputRDD.countApproxDistinct()))"
   ]
  },
  {
   "cell_type": "markdown",
   "id": "fbedf513",
   "metadata": {},
   "source": [
    "## CountByValue"
   ]
  },
  {
   "cell_type": "code",
   "execution_count": null,
   "id": "a627c6bd",
   "metadata": {},
   "outputs": [],
   "source": [
    "print(\"countByValue :  \"+str(listRdd.countByValue()))"
   ]
  },
  {
   "cell_type": "markdown",
   "id": "a5f83896",
   "metadata": {},
   "source": [
    "## First"
   ]
  },
  {
   "cell_type": "code",
   "execution_count": null,
   "id": "e7808f7e",
   "metadata": {},
   "outputs": [],
   "source": [
    "print(\"first :  \"+str(listRdd.first()))\n",
    "\n",
    "print(\"first :  \"+str(inputRDD.first()))"
   ]
  },
  {
   "cell_type": "markdown",
   "id": "9993e644",
   "metadata": {},
   "source": [
    "## Top, Take"
   ]
  },
  {
   "cell_type": "code",
   "execution_count": null,
   "id": "a6959d9e",
   "metadata": {},
   "outputs": [],
   "source": [
    "print(\"top : \" + str(listRdd.top(2)))\n",
    "\n",
    "print(\"top : \" + str(inputRDD.top(2)))"
   ]
  },
  {
   "cell_type": "markdown",
   "id": "568535a2",
   "metadata": {},
   "source": [
    "## Min, Max"
   ]
  },
  {
   "cell_type": "code",
   "execution_count": null,
   "id": "3703b205",
   "metadata": {},
   "outputs": [],
   "source": [
    "print(\"min :  \" + str(listRdd.min()))\n",
    "\n",
    "print(\"min :  \" + str(inputRDD.min()))\n",
    "\n",
    "print(\"max :  \" + str(listRdd.max()))\n",
    "\n",
    "print(\"max :  \" + str(inputRDD.max()))"
   ]
  },
  {
   "cell_type": "markdown",
   "id": "011b59bb",
   "metadata": {},
   "source": [
    "## Take, TakeOrdered, TakeSample"
   ]
  },
  {
   "cell_type": "code",
   "execution_count": null,
   "id": "fd84abbf",
   "metadata": {},
   "outputs": [],
   "source": [
    "print(\"take : \"+str(listRdd.take(2)))\n",
    "\n",
    "print(\"takeOrdered : \"+ str(listRdd.takeOrdered(2)))\n",
    "\n",
    "print(\"take : \"+str(listRdd.takeSample(withReplacement=False, num=2)))"
   ]
  }
 ],
 "metadata": {
  "kernelspec": {
   "display_name": "PySpark",
   "language": "python",
   "name": "pysparkkernel"
  },
  "language_info": {
   "codemirror_mode": {
    "name": "python",
    "version": 3
   },
   "file_extension": ".py",
   "mimetype": "text/x-python",
   "name": "pyspark",
   "pygments_lexer": "python3"
  }
 },
 "nbformat": 4,
 "nbformat_minor": 5
}
