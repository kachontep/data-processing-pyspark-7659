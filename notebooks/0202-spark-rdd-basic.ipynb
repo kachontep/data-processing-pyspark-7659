{
 "cells": [
  {
   "cell_type": "code",
   "execution_count": null,
   "id": "4ff0d313",
   "metadata": {},
   "outputs": [],
   "source": [
    "spark"
   ]
  },
  {
   "cell_type": "markdown",
   "id": "9f79a646",
   "metadata": {},
   "source": [
    "# RDD - How to create from a collection"
   ]
  },
  {
   "cell_type": "markdown",
   "id": "ad7b7235",
   "metadata": {},
   "source": [
    "## parallelize\n",
    "`parallelize()` is a method to distribute local data to cluster"
   ]
  },
  {
   "cell_type": "code",
   "execution_count": null,
   "id": "3be86ba2",
   "metadata": {},
   "outputs": [],
   "source": [
    "rdd = spark.sparkContext.parallelize([1,2,3,4,5,6])"
   ]
  },
  {
   "cell_type": "markdown",
   "id": "33eec117",
   "metadata": {},
   "source": [
    "## count\n",
    "`count()` a simple method to count the number of data in a RDD"
   ]
  },
  {
   "cell_type": "code",
   "execution_count": null,
   "id": "b6193160",
   "metadata": {},
   "outputs": [],
   "source": [
    "print(\"RDD count :\" + str(rdd.count()))"
   ]
  },
  {
   "cell_type": "markdown",
   "id": "7cd9d277",
   "metadata": {},
   "source": [
    "## collect\n",
    "`collect()` is a basic method (but used with a caution) to retreive all data from a RDD to the __Spark driver__"
   ]
  },
  {
   "cell_type": "code",
   "execution_count": null,
   "id": "630904c1",
   "metadata": {},
   "outputs": [],
   "source": [
    "rddCollect = rdd.collect()\n",
    "\n",
    "rddCollect"
   ]
  },
  {
   "cell_type": "markdown",
   "id": "a25d6cde",
   "metadata": {},
   "source": [
    "Another example about `collect()`"
   ]
  },
  {
   "cell_type": "code",
   "execution_count": null,
   "id": "9c46539d",
   "metadata": {},
   "outputs": [],
   "source": [
    "dept = [\n",
    "    (\"Finance\",10),\n",
    "    (\"Marketing\",20),\n",
    "    (\"Sales\",30),\n",
    "    (\"IT\",40),\n",
    "]\n",
    "\n",
    "dept_rdd = spark.sparkContext.parallelize(dept)\n",
    "dataColl = dept_rdd.collect()\n",
    "\n",
    "dataColl"
   ]
  },
  {
   "cell_type": "markdown",
   "id": "a7bb1878",
   "metadata": {},
   "source": [
    "## getNumPartition\n",
    "`getNumPartition()` used to check how many partitions a RDD has"
   ]
  },
  {
   "cell_type": "code",
   "execution_count": null,
   "id": "b71239cb",
   "metadata": {},
   "outputs": [],
   "source": [
    "print(\"Number of Partitions: \"+ str(rdd.getNumPartitions()))"
   ]
  },
  {
   "cell_type": "markdown",
   "id": "081f5b96",
   "metadata": {},
   "source": [
    "## first\n",
    "`first()` used to fetch the first RDD, this is a randomized item in distributed dataset"
   ]
  },
  {
   "cell_type": "code",
   "execution_count": null,
   "id": "8e7d98bc",
   "metadata": {},
   "outputs": [],
   "source": [
    "print(\"Action: First element: \" + str(rdd.first()))"
   ]
  },
  {
   "cell_type": "markdown",
   "id": "2113060b",
   "metadata": {},
   "source": [
    "## take\n",
    "`take(n)` retrieve n items from RDD to **driver** (recommened to use, instead of `collect()`)"
   ]
  },
  {
   "cell_type": "code",
   "execution_count": null,
   "id": "5c3fbd51",
   "metadata": {},
   "outputs": [],
   "source": [
    "print(\"All elements: \" + repr(rdd.collect()))\n",
    "print(\"Take(3): 3 element: \" + repr(rdd.take(3)))"
   ]
  },
  {
   "cell_type": "markdown",
   "id": "5a9b86b2",
   "metadata": {},
   "source": [
    "## emptyRDD\n",
    "An _empty RDD_ can be created by `emptyRDD()` or `parallelize` with empty list."
   ]
  },
  {
   "cell_type": "code",
   "execution_count": null,
   "id": "a391f982",
   "metadata": {},
   "outputs": [],
   "source": [
    "rdd = spark.sparkContext.emptyRDD()\n",
    "print(rdd)\n",
    "print(\"Size of empty RDD: \" + str(rdd.count()))\n",
    "\n",
    "rdd2 = spark.sparkContext.parallelize([])\n",
    "print(rdd2)"
   ]
  }
 ],
 "metadata": {
  "kernelspec": {
   "display_name": "PySpark",
   "language": "python",
   "name": "pysparkkernel"
  },
  "language_info": {
   "codemirror_mode": {
    "name": "python",
    "version": 3
   },
   "file_extension": ".py",
   "mimetype": "text/x-python",
   "name": "pyspark",
   "pygments_lexer": "python3"
  }
 },
 "nbformat": 4,
 "nbformat_minor": 5
}
