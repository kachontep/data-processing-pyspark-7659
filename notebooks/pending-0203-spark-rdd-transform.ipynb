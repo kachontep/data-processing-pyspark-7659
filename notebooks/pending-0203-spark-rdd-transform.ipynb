{
 "cells": [
  {
   "cell_type": "markdown",
   "id": "a2d87276",
   "metadata": {},
   "source": [
    "# RDD Transform Methods"
   ]
  },
  {
   "cell_type": "markdown",
   "id": "b30c28fc",
   "metadata": {},
   "source": [
    "## map"
   ]
  },
  {
   "cell_type": "markdown",
   "id": "dae26fb9",
   "metadata": {},
   "source": [
    "## filter"
   ]
  },
  {
   "cell_type": "markdown",
   "id": "5437592d",
   "metadata": {},
   "source": [
    "## flatMap"
   ]
  },
  {
   "cell_type": "markdown",
   "id": "c76388e4",
   "metadata": {},
   "source": [
    "## mapPartitions"
   ]
  },
  {
   "cell_type": "markdown",
   "id": "dec8f413",
   "metadata": {},
   "source": [
    "## reduceByKey"
   ]
  },
  {
   "cell_type": "markdown",
   "id": "93491947",
   "metadata": {},
   "source": [
    "## groupByKey"
   ]
  },
  {
   "cell_type": "markdown",
   "id": "4935dfe4",
   "metadata": {},
   "source": [
    "## combineByKey"
   ]
  }
 ],
 "metadata": {
  "kernelspec": {
   "display_name": "PySpark",
   "language": "python",
   "name": "pysparkkernel"
  },
  "language_info": {
   "codemirror_mode": {
    "name": "python",
    "version": 3
   },
   "file_extension": ".py",
   "mimetype": "text/x-python",
   "name": "pyspark",
   "pygments_lexer": "python3"
  }
 },
 "nbformat": 4,
 "nbformat_minor": 5
}
